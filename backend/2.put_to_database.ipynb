{
 "cells": [
  {
   "cell_type": "code",
   "execution_count": 3,
   "metadata": {},
   "outputs": [],
   "source": [
    "import json\n",
    "from backend.db.products import product_db, Product, VehicleType, Powertrain, Color\n",
    "from pprint import pprint \n",
    "import traceback\n",
    "\n",
    "# Problem with normalization of Mini MPV\n",
    "def normalize(value):\n",
    "    return \"Mini MPV\" if value == \"Mini Mpv\" else value\n",
    "\n",
    "file_name = \"test.json\"\n",
    "with open(file_name, 'r') as file:\n",
    "    data = json.load(file)\n",
    "    product_list = []\n",
    "    for listing in data:\n",
    "        try:\n",
    "            product = Product(\n",
    "                name=listing[\"heading\"],\n",
    "                vehicle_type=VehicleType(normalize(listing[\"build\"][\"body_type\"])),\n",
    "                release_year=listing[\"build\"][\"year\"],\n",
    "                price_in_usd=listing.get(\"price\") or listing.get(\"ref_price\") or listing.get(\"msrp\") or float('nan') ,\n",
    "                is_used=listing[\"inventory_type\"]==\"used\",\n",
    "                powertrain_type=Powertrain[\"EV\" if listing[\"build\"].get(\"powertrain_type\") == \"BEV\" else \"ICE\" if listing[\"build\"].get(\"powertrain_type\") == \"Combustion\" else \"Hybrid\"],\n",
    "                num_seats=listing[\"build\"][\"std_seating\"],\n",
    "                color=listing.get(\"base_ext_color\") or \"n/a\",\n",
    "                specs=listing[\"build\"],\n",
    "                image_url=listing[\"media\"][\"photo_links\"] if listing.get(\"media\") else [])\n",
    "            \n",
    "        except Exception as e:\n",
    "            traceback.print_exc()\n",
    "            print(\"Error in parsing the following listing:\")\n",
    "            pprint(listing)\n",
    "            exit(1)\n",
    "        \n",
    "        product_list.append(product)\n",
    "    \n",
    "    await product_db.reset()\n",
    "    await product_db.add(product_list)"
   ]
  },
  {
   "cell_type": "code",
   "execution_count": 4,
   "metadata": {},
   "outputs": [
    {
     "name": "stdout",
     "output_type": "stream",
     "text": [
      "2874\n"
     ]
    }
   ],
   "source": [
    "x = await product_db.size()\n",
    "print(x)"
   ]
  },
  {
   "cell_type": "code",
   "execution_count": null,
   "metadata": {},
   "outputs": [],
   "source": []
  }
 ],
 "metadata": {
  "kernelspec": {
   "display_name": "Python 3",
   "language": "python",
   "name": "python3"
  },
  "language_info": {
   "codemirror_mode": {
    "name": "ipython",
    "version": 3
   },
   "file_extension": ".py",
   "mimetype": "text/x-python",
   "name": "python",
   "nbconvert_exporter": "python",
   "pygments_lexer": "ipython3",
   "version": "3.11.5"
  }
 },
 "nbformat": 4,
 "nbformat_minor": 2
}
