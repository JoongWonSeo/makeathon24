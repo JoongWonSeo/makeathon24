{
 "cells": [
  {
   "cell_type": "code",
   "execution_count": 35,
   "metadata": {},
   "outputs": [
    {
     "data": {
      "text/plain": [
       "{'A-Class',\n",
       " 'AMG GT',\n",
       " 'AMG GT 4-Door Coupe',\n",
       " 'AMG GT Coupe',\n",
       " 'AMG GT Roadster',\n",
       " 'B-Class',\n",
       " 'C-Class',\n",
       " 'C-Class Cabriolet',\n",
       " 'C-Class Coupe',\n",
       " 'C-Class Sedan',\n",
       " 'CL-Class',\n",
       " 'CLA',\n",
       " 'CLA-Class',\n",
       " 'CLE',\n",
       " 'CLK-Class',\n",
       " 'CLS-Class',\n",
       " 'E-Class',\n",
       " 'EQB',\n",
       " 'EQE',\n",
       " 'EQE SUV',\n",
       " 'EQS',\n",
       " 'EQS SUV',\n",
       " 'G-Class',\n",
       " 'GL-Class',\n",
       " 'GLA',\n",
       " 'GLA-Class',\n",
       " 'GLB',\n",
       " 'GLC',\n",
       " 'GLC Coupe',\n",
       " 'GLC-Class',\n",
       " 'GLE',\n",
       " 'GLE Coupe',\n",
       " 'GLE-Class',\n",
       " 'GLE-Class Coupe',\n",
       " 'GLK-Class',\n",
       " 'GLS',\n",
       " 'GLS-Class',\n",
       " 'M-Class',\n",
       " 'Metris Cargo Van',\n",
       " 'Metris Passenger Van',\n",
       " 'S-Class',\n",
       " 'SL',\n",
       " 'SL Roadster',\n",
       " 'SL-Class',\n",
       " 'SLC Roadster',\n",
       " 'SLK',\n",
       " 'SLK-Class',\n",
       " 'Sprinter Cab Chassis',\n",
       " 'Sprinter Cargo Van',\n",
       " 'Sprinter Crew Van',\n",
       " 'Sprinter Passenger Van',\n",
       " 'Sprinter Van'}"
      ]
     },
     "execution_count": 35,
     "metadata": {},
     "output_type": "execute_result"
    }
   ],
   "source": [
    "import json\n",
    "\n",
    "with open(\"distinct_models.json\") as f:\n",
    "    distinct_models = json.load(f)\n",
    "\n",
    "with open(\"distinct_descriptions.json\") as f:\n",
    "    distinct_descriptions = json.load(f)\n",
    "\n",
    "with open(\"test.json\") as f:\n",
    "    all_cars = json.load(f)\n",
    "\n",
    "from_all = set([c[\"build\"][\"model\"] for c in all_cars])\n",
    "from_all"
   ]
  },
  {
   "cell_type": "code",
   "execution_count": 36,
   "metadata": {},
   "outputs": [
    {
     "name": "stdout",
     "output_type": "stream",
     "text": [
      "desc=The Mercedes-Benz CLA is a luxury compact executive car introduced by Mercedes-Benz in 2013 as a stylish, sporty four-door coupe. Positioned above the A-Class and near the C-Class in the Mercedes lineup, the CLA has been celebrated for combining elegance, sportiness, and performance. The first generation was based on the platform of the A-Class and B-Class, making its debut in Europe in April 2013 and in the U.S. in September 2013. It features models like the high-performance CLA 45 AMG, known for its dynamic driving experience, and a special edition CLA Edition 1. In 2019, the second generation was launched, offering updated styling, advanced technologies like the MBUX infotainment system, and a new CLA Shooting Brake with additional space. The 2023 update saw aesthetic and functional improvements, including a redesigned exterior, new interior options, enhanced safety features, and varied engine options including mild-hybrid and plug-in hybrids, highlighting its evolution into a more sophisticated and efficient vehicle.\n",
      "overriding image\n",
      "desc=The Mercedes GLC-Class, developed by Mercedes-Benz, is a versatile and luxurious SUV known for its combination of style, comfort, and performance. Initially introduced as a replacement for the GLK-Class in 2015, the GLC-Class quickly established itself with a range of engine options including turbocharged petrol and diesel variants, along with advanced plug-in hybrid systems. The vehicle is available in both standard and coupe SUV body styles. It features cutting-edge technology like the MBUX operating system, adaptive damping, and a broad array of safety and driver assistance features. The GLC-Class stands out with its sophisticated interior, offering ample space, premium materials, and modern infotainment systems. It is celebrated for its powerful yet smooth driving dynamics, supported by features like a nine-speed automatic transmission and optional all-wheel-drive, making it a top choice among premium midsize SUVs.\n",
      "overriding image\n",
      "desc=The Mercedes C-Class Sedan epitomizes luxury and high performance in a compact executive car format, first introduced in 1993. Across its various generations, including the most recent W206 launched in 2021, it offers a blend of advanced technology, stylish design, and refined driving dynamics. Key highlights include a range of powerful four-cylinder engines equipped with an integrated starter generator and a 48-volt electrical system. The latest model, the Mercedes-AMG C 63 S E PERFORMANCE, showcases an AMG 2.0-liter engine complemented by an electric motor, producing a combined output of 500 kW. This sedan also features the P3 hybrid system inspired by Formula 1 technology, an aerodynamically optimized exterior, and a luxurious interior with the cutting-edge MBUX Infotainment System. Overall, the Mercedes C-Class Sedan continues to offer a perfect combination of performance, luxury, and innovative technology, appealing to those who value sophisticated and dynamic driving experiences.\n",
      "overriding image\n",
      "desc=The Mercedes-Benz SLK, later known as the SLC from 2016 onwards, is a compact executive roadster that has been celebrated for its sporty design and innovative features. First introduced in 1996, the SLK-Class quickly gained recognition for its distinctive retractable hardtop called the \"Vario-Dach,\" which allowed it to switch between a hardtop and a convertible. The SLK spans three generations, with various upgrades including enhancements in engine performance ranging from four-cylinder to V8 options, as well as both diesel and petrol engines. Its notable features include Magic Sky Control, an electronically operated tint shade for the sunroof, and a progressive aesthetic update in 2016 to commemorate its 20th anniversary. The SLK has been lauded for its synthesis of luxury, sportiness, and innovative technology, making it a well-rounded vehicle ideal for both performance enthusiasts and luxury seekers.\n",
      "overriding image\n",
      "desc=The Mercedes SL-Class, a prestigious grand touring sports car produced by Mercedes-Benz since 1954, embodies a blend of luxury, performance, and advanced technology. Originally launched with the historical 300 SL model, the SL-Class has evolved through various iterations, including model ranges like the W198, W121, R107, among others, each marking significant advancements in automotive design and engineering. The latest generation, denoted as the R232, is developed by Mercedes-AMG and features a 2+2 seating configuration, a fabric soft top, and a range of powertrains including mild hybrids and powerful V8 engines. Renowned for its sporty aesthetics, the SL-Class continues to be a symbol of sophisticated dynamism, offering innovative touches like a digital instrument cluster, customizable driving modes, and high-performance capabilities tailored for both comfort and exhilarating sports driving.\n",
      "overriding image\n",
      "desc=The Mercedes GLC is a luxurious compact SUV that combines performance, style, and the latest technological features. It comes with a range of engine options including fuel-efficient petrol, diesel, and a plug-in hybrid variant, providing a dynamic driving experience. The interior boasts high-quality materials, advanced infotainment systems, and innovative safety features, ensuring comfort and security for all passengers. The GLC's design features sleek lines and modern aesthetics, making it standout on the road. This SUV is ideal for those who seek a blend of elegance, practicality, and eco-conscious engineering in a versatile vehicle.\n",
      "overriding image\n",
      "desc=The Mercedes-AMG GT is a hallmark of high-performance luxury sports coupes, renowned for its technical sophistication and emotional appeal. Built with motorsport technology at its core, the AMG GT features a robust AMG 4.0-liter V8 Biturbo engine, which combines with a cutting-edge AMG SPEEDSHIFT MCT 9G transmission to deliver explosive power and dynamic performance. This sports coupe achieves a top speed of 315 km/h and includes an all-wheel drive system, AMG Performance 4MATIC+, for superior handling and control. Its design epitomizes sporty elegance, manifested in its aggressive exterior and luxurious interior that offers advanced technologies like the MBUX infotainment system and customizable comfort features. Enthusiasts can enjoy further personalization through the MANUFAKTUR customization program, highlighting the GT's blend of performance, luxury, and individual style.\n",
      "overriding image\n",
      "desc=The Mercedes AMG GT Roadster is an exquisite high-performance sports car that epitomizes luxury and driving excitement, tailor-made for enthusiasts seeking a thrilling open-air experience. It features a robust AMG 4.0-liter V8 Biturbo engine, which propels it from 0 to 100 km/h in just 3.8 seconds, achieving top speeds of up to 312 km/h. This automotive masterpiece combines advanced engineering with a stylish design, offering a responsive AMG SPEEDSHIFT DCT 7G transmission and a well-appointed interior that includes personalizable settings. The Roadster is slightly longer than the base AMG GT, ensuring ample headroom and a trunk volume of 165 liters, making it a practical choice for a two-seater sports car. Safety and handling are enhanced with amenities like the AMG RIDE CONTROL Sport Suspension and high-performance brake systems, emphasizing the brand's commitment to both performance and security. Whether choosing the base model or the more powerful GT C variant, owners can delight in a confluence of speed, style, and cutting-edge technology.\n",
      "desc=The Mercedes M-Class, officially known as the Mercedes-Benz M-Klasse, is a luxury SUV line launched in 1997 and produced by Mercedes-Benz. Renowned for its high towing capacity and robust performance, the first model rolled off the assembly line in Vance, Alabama. It was initially named M-Klasse due to naming rights and is commonly referred to by the abbreviation \"ML\" (e.g., ML 320). The early generation models faced competitors such as BMW and Porsche but quickly became popular, particularly in the U.S. The vehicle evolved through several generations, with designs becoming more aligned with modern standards, ultimately being renamed as the GLE series in 2015 to reflect its similarity to the E-Class lineup. The M-Class offers a range of engine options, high-end safety features, and is available with both standard and off-road capabilities, catering to luxury vehicle enthusiasts who demand comfort, performance, and utility.\n",
      "overriding image\n",
      "desc=The Mercedes EQS is a luxurious all-electric sedan that marks a pinnacle in Mercedes-Benz's EQ series. This electric vehicle intertwines sustainability with luxury and advanced technology. It features a sleek, aerodynamic design that enhances its efficiency and a sophisticated interior equipped with the latest Mercedes-Benz User Experience (MBUX) technology. Its high-performance electric drivetrain offers a smooth, silent drive and an impressive range on a single charge. The EQS sets new standards in the electric vehicle sector with its remarkable energy efficiency, fast charging capabilities, and optional features like the \"Hyperscreen\" cockpit. The EQS represents Mercedes-Benz's commitment to cutting-edge sustainable mobility without compromising on performance or comfort, making it an elite choice for those seeking a top-tier electric driving experience.\n",
      "overriding image\n",
      "desc=The Mercedes GLE Coupe combines luxurious style with athletic functionality, epitomizing a sport-oriented luxury SUV. It showcases an elegant and dynamic exterior, accented by a sloping roofline that contributes to its sporty aesthetics. Inside, the GLE Coupe is spacious with high-quality materials and a cutting-edge MBUX infotainment system. Performance-wise, it offers powerful engine choices, including a V6 that accelerates from 0 to 100 km/h in 5.7 seconds. Advanced technical features like 4MATIC+ all-wheel drive, ACTIVE RIDE CONTROL, and selectable AMG Performance exhaust enhance the driving experience. Despite its performance capabilities, it retains practical features like a luggage capacity of up to 1435 liters. The GLE Coupe is a blend of sportiness, luxury and functionality, ideal for those seeking a robust yet sophisticated vehicle experience.\n",
      "overriding image\n",
      "desc=The Mercedes Metris Cargo Van is a versatile and dependable commercial vehicle tailored for small to medium-sized businesses needing an efficient cargo transportation solution. It features a compact design that facilitates maneuverability in city environments without sacrificing cargo space, boasting up to 186.1 cubic feet of cargo capacity. The van is powered by a robust 2.0L turbo diesel engine, delivering strong performance suitable for both urban and long-distance applications. Key attributes include its exceptional fuel efficiency, advanced safety and connectivity technologies such as Forward Collision Warning and Automatic Emergency Braking, and a comfortable, ergonomic cabin designed for driver and passenger comfort. The Metris Cargo Van also supports customization through the Mercedes-Benz Expertsolutions program, allowing businesses to tailor the vehicle to their precise needs. Additionally, it is designed for low maintenance, with a comprehensive warranty ensuring reliability and peace of mind. With its blend of functionality, durability, and advanced features, the Mercedes Metris Cargo Van is an excellent choice for professionals requiring a reliable, practical vehicle for daily operations.\n",
      "overriding image\n",
      "desc=The Mercedes Sprinter Crew Van is a highly versatile commercial vehicle ideal for businesses requiring a mix of passenger and cargo transport capabilities. It accommodates up to five passengers and is available with a high roof option, which enhances headroom and storage space. The van is equipped with advanced safety and assistance features like crosswind assist, attention assist, and lane keeping assist, ensuring a safe and stable driving experience. Additionally, the van features robust engine options, sophisticated connectivity options, and a comfortable interior setup, making it a reliable and practical choice for diverse business needs. Whether used for carrying cargo or crew, the Sprinter Crew Van emerges as an efficient solution, offering customization options to meet specific business requirements.\n",
      "overriding image\n",
      "desc=The Mercedes GLA-Class is a versatile and stylish compact SUV that has evolved significantly since its introduction in 2013. As an integral part of Mercedes-Benz's compact car range, this model offers a more robust and muscular appearance compared to its predecessors, catered to those seeking luxury alongside a sporty utility vehicle feel. The GLA-Class features increased roominess with a higher body that enhances rear space and trunk capacity. Technology-wise, it boasts the state-of-the-art MBUX multimedia system known for its digital instruments and voice command functionality. Engine options are diverse, ranging from three diesel engines and six gasoline engines to a plug-in hybrid model, accommodating a wide array of driving preferences. Importantly, the GLA-Class maintains its commitment to comfort, a smooth drive, and safety with advanced systems like lane-keeping assist and adaptive cruise control, presenting itself as a strong contender in the luxury compact SUV market.\n",
      "overriding image\n",
      "desc=The Mercedes SLC Roadster, previously known as the SLK, is a refined compact roadster that delivers a captivating blend of performance and luxury. Introduced as a successor to the SLK, the SLC aligns closely with the Mercedes C-Class family, featuring an elegantly redesigned front with a distinctive diamond grille and modern LED headlights. In terms of performance, the SLC offers a range of engines, from the efficient 1.6-liter in the SLC 180 producing 156 PS, up to the dynamic V6 biturbo in the AMG SLC 43 with 367 PS. Noteworthy for its enhanced convertible experience, the SLC's roof can operate at speeds up to 40 km/h. The interior boasts updated amenities including a refreshed dashboard and state-of-the-art safety features like enhanced active brake assist. The AMG versions further augment driving pleasure with sport-tuned suspensions, emphasizing the roadster's sportiness while ensuring comfort.\n",
      "overriding image\n",
      "desc=The Mercedes CLE is a new flagship model that combines the elegance of the E-Class with the sportiness of the C-Class into a unified coupe and cabriolet lineup. This car is positioned as a higher-end option with a longer hood, graceful silhouette, and advanced interior features influenced by the newer models of both classes it replaces. It sports both four- and six-cylinder mild-hybrid engines, with a plug-in hybrid variant expected in the future. The technology suite includes the cutting-edge MBUX system and a Burmester 3D Surround Sound system, ensuring luxury and convenience. Measuring at 4.85 meters in length, the CLE offers more space, enhancing passenger comfort and luggage capacity (420 liters for the Coupé). Despite its ample size, it provides a dynamic driving experience with options for rear-wheel steering and adjustable dampers, targeting those who desire a sophisticated blend of performance and style in the midsize luxury segment.\n",
      "overriding image\n",
      "desc=The Mercedes-Benz CL-Class was a series of grand tourer coupes produced by the German automaker from 1992 to 2014. Known for its luxury and performance, the CL-Class included several generations of technologically advanced and well-engineered vehicles. The first generation, known as C140 from 1992 to 1998, offered models like the 500 SEC to CL500, featuring V8 and V12 engines. The second generation (C215; 1998–2006) based on the S-Class platform, introduced options such as V8, V12, and AMG engines, and innovations like the Active Body Control suspension. The third generation (C216; 2006–2014) continued this legacy with models equipped with cutting-edge features like Distronic Plus cruise control and Active NightVision. Each iteration of the CL-Class pushed boundaries in terms of luxury, design, and technological enhancements in the grand tourer segment, culminating in its successor, the S-Class Coupe.\n",
      "overriding image\n",
      "desc=The Mercedes-AMG GT Coupe is a pinnacle of high-performance sports engineering, designed to bring the thrill of motorsport to everyday driving. It features a robust AMG 4.0-liter V8 biturbo engine, capable of delivering explosive power with speeds reaching up to 315 km/h (electronically limited), and includes the precision of AMG SPEEDSHIFT MCT 9G transmission. The car boasts advanced technology such as the AMG Performance 4MATIC+ all-wheel drive system for dynamic power distribution and optimal handling. The exterior design exudes sportiness with its AMG-specific front grille and active aerodynamics profile, while the interior offers luxury comfort and customizable options. For hybrid enthusiasts, the GT 63 S E PERFORMANCE variant merges AMG power with hybrid efficiency, providing a ground-breaking 600 kW (816 PS) system power and a maximum system torque of 1,420 Nm. Overall, the AMG GT Coupe excels in combining performance, luxury, and cutting-edge technology, making it an exceptional choice for sports car enthusiasts.\n",
      "overriding image\n",
      "desc=The Mercedes GLE-Class is a midsize luxury SUV renowned for combining sophisticated luxury, advanced technology, and robust performance. Introduced in 1997 and formerly known as part of the M-Class, it was rebranded to GLE in 2015 to align with Mercedes-Benz's new naming strategy. Available in various configurations including V6, V8, and plug-in hybrid engines, the GLE offers seating for up to seven passengers and features premium materials and state-of-the-art safety technologies. The fourth generation, launched in 2019, is particularly noted for its range of engines, including efficient four-cylinder options and powerful inline-six engines, and for introducing a plug-in hybrid model in Europe. With accolades like Motor Trend's Truck of the Year, the GLE-Class caters to luxury SUV buyers seeking a well-rounded vehicle that excels both on and off the road.\n",
      "desc=The Mercedes GLE-Class is a midsize luxury SUV renowned for combining sophisticated luxury, advanced technology, and robust performance. Introduced in 1997 and formerly known as part of the M-Class, it was rebranded to GLE in 2015 to align with Mercedes-Benz's new naming strategy. Available in various configurations including V6, V8, and plug-in hybrid engines, the GLE offers seating for up to seven passengers and features premium materials and state-of-the-art safety technologies. The fourth generation, launched in 2019, is particularly noted for its range of engines, including efficient four-cylinder options and powerful inline-six engines, and for introducing a plug-in hybrid model in Europe. With accolades like Motor Trend's Truck of the Year, the GLE-Class caters to luxury SUV buyers seeking a well-rounded vehicle that excels both on and off the road.\n",
      "desc=The Mercedes GLE-Class is a midsize luxury SUV renowned for combining sophisticated luxury, advanced technology, and robust performance. Introduced in 1997 and formerly known as part of the M-Class, it was rebranded to GLE in 2015 to align with Mercedes-Benz's new naming strategy. Available in various configurations including V6, V8, and plug-in hybrid engines, the GLE offers seating for up to seven passengers and features premium materials and state-of-the-art safety technologies. The fourth generation, launched in 2019, is particularly noted for its range of engines, including efficient four-cylinder options and powerful inline-six engines, and for introducing a plug-in hybrid model in Europe. With accolades like Motor Trend's Truck of the Year, the GLE-Class caters to luxury SUV buyers seeking a well-rounded vehicle that excels both on and off the road.\n",
      "overriding image\n",
      "desc=The Mercedes-Benz CLK-Class is a prominent series of mid-size luxury coupés and convertibles produced from 1996 to 2010, offering a blend of elegance and performance derived from the E-Class, with a mechanical foundation based on the C-Class. It bridged the gap between the SLK- and CL-Class models, featuring both first-generation (C208/A208) and second-generation (C209/A209) models during its production years. The CLK models were available with a variety of petrol and diesel engines, ranging in output from 136 to 481 horsepower, and were aimed to compete against rivals like the BMW 3 Series and Audi A4. Known for its stylish design, advanced features, and powerful AMG variants, the CLK-Class has left a significant mark on the luxury car segment with its combination of luxury and sporty driving dynamics. In 2010, it was succeeded by the E-Class Coupé and Cabriolet, continuing its legacy under a new nameplate.\n",
      "overriding image\n",
      "desc=The Mercedes Sprinter Cab Chassis offers a varied and effective transport solution suited for diverse business needs. Available in several models such as the 3500XD and 4500, these vehicles feature customizable options both in terms of capacity and aesthetics. Key offerings include advanced safety tools like Active Brake Assist and a Blind Spot Assist, alongside comfort enhancements such as MBUX multimedia systems, climate control, and wireless charging. Tailored specifically for efficiency in operations, they come equipped with Active Lane Keeping Assist, Adaptive Distance Assist, and an emergency call system. These chassis can also be outfitted to meet specific requirements through Mercedes-Benz ExpertSOLUTIONS, merging functionality with a high level of technological integration to ensure a safe, enjoyable, and efficient driving experience.\n",
      "overriding image\n",
      "desc=The Mercedes-Benz B-Class is a subcompact executive MPV that combines luxury and practicality, making it an excellent choice for families and individuals seeking a versatile vehicle with high-end features. Since its debut in 2005, the B-Class has been known for its spacious interior and advanced safety technologies, including ESP, ABS, traction control, and airbags. With each succeeding generation, it has seen improvements in design, infotainment systems, and driving assists, culminating in the 2019 introduction of features like the Intelligent Drive semi-automated system from the S-Class. The latest facelift in 2023 updated the model's exterior and interior, enhanced the infotainment system, introduced all-wheel drive (AWD) models, and added a 48-volt mild hybrid system on petrol models, emphasizing Mercedes-Benz's commitment to innovation and environmental consciousness.\n",
      "overriding image\n",
      "desc=The Mercedes CLA-Class, inspired by the VISION EQXX, reflects Mercedes-Benz's commitment to futuristic design, sustainability, and cutting-edge technology. The series features sleek and luxurious compact executive cars with various engine options, including high-performance AMG models. Designed on the Mercedes‑Benz Modular Architecture (MMA) platform, the CLA-Class offers incredible advancements in electric and digital technology, prioritizing customer experience, comfort, and convenience. The vehicle emphasizes eco-friendly materials, advanced safety philosophy, and introduces the MB.OS operating system for an enhanced user experience. Capitalizing on electric innovations, the CLA-Class models aim to provide a long-range electric driving experience, with the latest concept boasting a range of over 750 kilometers. This embodies Mercedes-Benz's vision for a dynamic, youthful market segment, committed to high-efficiency, elegant design, and innovation.\n",
      "overriding image\n",
      "desc=I'm currently unable to perform a web search due to rate limits being reached. Please try again after some time or if you have any other queries or tasks that I can assist with, feel free to let me know!\n",
      "overriding image\n",
      "desc=The Mercedes Sprinter Van is lauded for its versatility, efficiency, and robustness, catering to both personal and commercial uses. It is available in multiple configurations including Cargo Van, Crew Van, Passenger Van, and Cab Chassis, with an environmentally friendly option in the form of the all-electric eSprinter. Designed to be tough and flexible, the Sprinter boasts a variety of engine options and technological enhancements such as the 9G-TRONIC transmission and Torque On Demand with All-Wheel Drive. It features a suite of advanced safety technologies including Active Brake Assist and Attention Assist, further supplemented by the Mercedes-Benz User Experience (MBUX) system for optimal connectivity. The interior is spacious, offering significant cargo space and comfortable passenger accommodation. The ExpertSOLUTIONS program allows for further customization to meet specific needs, making it a valuable investment for efficiency and longevity in business operations.\n",
      "overriding image\n",
      "desc=It seems there was an issue with fetching the information. Can you specify a different request or provide a URL I should use to look up the details?\n",
      "overriding image\n",
      "desc=The Mercedes-AMG SL Roadster is an iconic, high-performance luxury convertible that seamlessly combines sportiness with comfort and sophisticated technology. Renowned for its elegant design, the SL Roadster features a classic fabric roof, sporty proportions, and an innovative 2+2 seating configuration that emphasizes both luxury and practicality. It is equipped with state-of-the-art performance capabilities—including a range of powerful engine options, AMG ACTIVE RIDE CONTROL with active roll stabilization, and precision rear-wheel steering—ensuring dynamic and exhilarating driving experiences. The interior boasts extensive personalization options, superior craftsmanship, and advanced technological features, making each ride uniquely comfortable and enjoyable. Designed for those who appreciate the blend of performance luxury and timeless design, the SL models, including the SL 63 S E PERFORMANCE and the SL 43, allow for extensive customization, including the MANUFAKTUR individualization program to tailor both exterior and interior details to the owner's specifications.\n",
      "overriding image\n",
      "desc=The Mercedes-Benz E-Class is an iconic range of executive cars renowned for combining luxury, performance, and cutting-edge technology. Since its inception in 1953, it has been available in various body styles including sedan, station wagon, coupe, and convertible, catering to a diverse market. Known for its midrange positioning within the Mercedes lineup, the E-Class boasts a choice of powerful inline-6 engines, advanced autonomous driving capabilities, and superior safety features. The 2016 model, W213, marked a significant technological leap, featuring enhancements like autonomous highway driving tech. As of 2020, the W213 received a facelift, and the anticipated sixth generation (W214) expected in 2023 will see the transition of coupes and convertibles to the new CLE vehicle line. Over 13 million units have been sold, underscoring the E-Class' status as a best-seller for Mercedes-Benz, beloved for its blend of elegance, technological innovation, and comprehensive comfort.\n",
      "overriding image\n",
      "desc=The Mercedes GLE-Class Coupe is a stylish and powerful SUV that combines luxury with advanced driving technology. It is available with a range of performance-oriented engine options including a potent 3.0-liter R6 turbo engine and a 4.0-liter V8 Biturbo engine. Additionally, there is a hybrid model that further enhances performance with a combined output of 330 kW (449 PS) and 480 Nm torque. The vehicle features an all-wheel drive 4MATIC+ system, AMG ACTIVE RIDE CONTROL suspension, AMG DYNAMIC SELECT driving modes, and an AMG SPEEDSHIFT TCT 9G transmission. The design is aggressively sporty with new bumpers, LED lights, and AMG styling accents. Inside, the cabin offers a luxurious experience with the state-of-the-art MBUX infotainment system, a head-up display, Burmester surround sound, and premium upholstery choices. The Mercedes-AMG GLE Coupe is the embodiment of sophisticated sportiness and technological innovation, designed to provide an exceptional driving experience.\n",
      "overriding image\n",
      "desc=The Mercedes GLS is a full-size luxury SUV offering exceptional space, comfort, and advanced technological features, making it a top choice in the high-end SUV segment. It accommodates up to seven passengers and competes with other luxury models like the Range Rover and Porsche Cayenne. The GLS includes powerful engine options, ranging from a 286-horsepower diesel to a V8 engine delivering up to 489 horsepower, with even more potent versions available. Its design accentuates S-Class level comfort with high-quality materials and includes features such as an advanced MBUX infotainment system, air suspension, and optional amenities like massage seats and a five-zone climate control system. This model also provides significant cargo space, extending up to 2400 liters when rear seats are folded, making it practical as well as luxurious. Additionally, the GLS introduces innovative features like the integrated starter-generator for improved fuel efficiency.\n",
      "overriding image\n",
      "desc=The Mercedes C-Class is a renowned range of compact executive cars produced by Mercedes-Benz, dating back to its introduction in 1993. Known for blending luxury, technology, and performance in a sleek package, the C-Class offers configurations including sedans, coupes, and convertibles. The latest generation, the W206 launched in 2021, features innovative design elements like digital headlights and a sophisticated interior inspired by the flagship S-Class. It provides enhanced driving dynamics with systems like rear-wheel steering and markets a selection of powertrains including advanced hybrid options. Designed as a middle ground between utility and indulgence, the C-Class competes with other luxury models by focusing on a refined experience, pairing engine performance with interior opulence marked by high-tech infotainment and safety systems.\n",
      "overriding image\n",
      "desc=The Mercedes Sprinter Cargo Van is a highly versatile and reliable vehicle tailored for businesses requiring efficient cargo transportation. It features a stylish design marked by the iconic Mercedes three-pointed star and provides a range of powerful engine options, including both diesel and gasoline variants, to ensure robust performance under various load conditions. The spacious cabin is designed for driver comfort and efficiency, equipped with modern amenities and advanced technology, enhancing the overall driving experience. With extensive cargo space and customizable storage solutions, it caters to diverse business needs, making the Sprinter Cargo Van a top choice for those seeking a dependable, functional, and stylish cargo transport solution. Additionally, the 2024 model offers advanced safety and assistance features, with numerous infotainment options, making it not only practical but also a pleasure to drive.\n",
      "overriding image\n",
      "desc=The Mercedes-Benz SL-Class, a grand touring sports car series by Mercedes-Benz, has been epitomized luxury and performance since its inception in 1954. Known for its prestige and distinctive design, the SL-Class evolves through generations, each incorporating state-of-the-art technology and performance enhancements. The latest generation, R232, introduces a significant sportier shift, having been developed by Mercedes-AMG. It features a striking design with an AMG-specific grille, long hood, and sophisticated interior laden with advanced technologies, such as high-resolution displays and customizable driving modes. The SL-Class offers powerful engine options like the 4.0-liter V8 biturbo, providing exhilarating acceleration and enhanced driving dynamics due to functionalities like rear axle steering and active roll stabilization. The modernized SL retains the classic soft fabric roof and adds practical elements like small rear seats and a spacious trunk, blending traditional luxury with contemporary richness and versatility. The Mercedes SL-Class continues to serve enthusiasts seeking a harmonious mix of elegance, advanced technology, and robust performance.\n",
      "overriding image\n",
      "desc=The Mercedes-Benz GLA is a compact luxury SUV that blends agility, comfort, and technology in a stylishly versatile package. Measuring around 4.41 meters in length with a ground clearance of 152 centimeters, it offers a spacious interior, including a boot capacity of 420 liters that can expand to 770 liters. The GLA features a range of engine options, including efficient diesel and dynamic gasoline engines, and a plug-in hybrid model (GLA 250 e) capable of a pure electric range of 48 kilometers. Designed with a blend of improved chassis for greater interior space and advanced infotainment systems, it provides a high-tech, user-friendly experience. Moreover, it is equipped with modern safety features like frontal collision warning and provides a comfortable yet agile ride, making the GLA a solid choice for those prioritizing luxury and sustainability without compromising on performance.\n",
      "overriding image\n",
      "desc=The Mercedes GLE is an exceptional midsize luxury SUV that epitomizes the blend of elegance, state-of-the-art technology, and robust performance. Available in various powerful engine options, this SUV provides a dynamic and smooth driving experience. It features a spacious and luxurious interior, equipped with high-quality materials and advanced technology options like the MBUX infotainment system. Externally, the GLE boasts a striking design with redesigned bumpers and distinctive headlights. An array of safety and driver assistance systems ensures a secure driving environment. Whether opting for the standard model or the performance-focused AMG variants like the GLE 53 4MATIC+ or the GLE 63S 4MATIC, the Mercedes GLE offers a blend of luxury, performance, and practicality to satisfy even the most discerning luxury SUV enthusiasts.\n",
      "overriding image\n",
      "desc=The Mercedes-AMG GT 4-Door Coupe is a sophisticated blend of luxury, high performance, and innovation, designed for both everyday practicality and thrilling driving experiences. Equipped with a powerful AMG 4.0-liter V8 Biturbo engine alongside a choice of various powertrains, this model can reach top speeds of up to 316 km/h and offers acceleration as impressive as 0 to 100 km/h in just 2.9 seconds, depending on the variant. It features cutting-edge technologies like 4MATIC+ all-wheel drive, rear-axle steering, and AMG Dynamics for enhanced agility. The vehicle is available in several models including the performance-hybrid GT 63 S E PERFORMANCE, which provides sustainable power with superior acceleration. Its expressive exterior design and customizable luxury interior, featuring the latest in infotainment systems and high-class finishes, make it a standout in the four-door sports car segment. This model truly embodies a union of comfort, style, and peak performance capability.\n",
      "overriding image\n",
      "desc=The Mercedes-Benz A-Class is a versatile and dynamic compact luxury car that has evolved significantly across its generations since its introduction in 1997. Notably compact with a front-engine, front-wheel-drive layout, the A-Class is available as both a hatchback and sedan. It is Mercedes-Benz's entry-level model designed with a focus on balancing sophistication and performance. The A-Class features a range of advanced technologies and luxury amenities, including modern infotainment systems, plush interiors, and comprehensive driver assistance packages. Depending on the model and configuration, it offers various engine options including petrol, diesel, and hybrid variants. The A-Class is appreciated for its high-quality interior, performance dynamics, and solid safety features, making it a popular choice for those seeking a luxury vehicle in a compact form.\n",
      "overriding image\n",
      "desc=The Mercedes EQS SUV is the first fully electric luxury SUV from Mercedes-EQ, offering up to seven seats for enhanced travel comfort and flexibility. It combines cutting-edge technology, luxurious amenities, and impressive performance, representing a significant step in Mercedes's electric vehicle lineup. The SUV features aerodynamically optimized designs and various wheelbase and battery size options with configurations available in both rear-wheel and all-wheel drives. Its excellent aerodynamics and optimized resistance contribute to efficient performance, with test models like the 450+ and 580 reaching ranges of up to 575 and 530 kilometers respectively under optimal conditions. The interior boasts a luxurious and comfortable driving experience, with advanced technology including an optional \"Hyperscreen\" cockpit display, superb soundproofing, and air suspension. Despite its considerable size, the EQS SUV maintains agile handling and fast-charging capabilities, offering a charge of up to 80% in just over half an hour using a CCS connector.\n",
      "overriding image\n",
      "desc=The Mercedes GLK-Class is a compact luxury crossover SUV that debuted in 2008 as part of the 2010 model year. Boasting the elegance and power typical of Mercedes-Benz, the GLK-Class combines a sturdy yet agile chassis with a luxurious interior, making it ideal for those seeking both performance and comfort. Available with both gasoline and diesel engine options, the GLK offers impressive driving dynamics, thanks to its well-tuned suspension and strong brake performance. The cabin is equipped with advanced technology and premium materials, emphasizing the vehicle's commitment to quality and driver satisfaction. The GLK-Class effectively merges the practicality of an SUV with the prestige and refined experience expected from Mercedes-Benz.\n",
      "overriding image\n",
      "desc=The Mercedes Metris Passenger Van is celebrated for its versatility, robust performance, and high-quality craftsmanship, making it a prime choice for both personal and business transportation needs. Equipped with a turbocharged four-cylinder engine delivering 208 horsepower and paired with a nine-speed automatic transmission, it showcases impressive capabilities such as a towing capacity of up to 5,000 pounds and a payload capacity of up to 2,425 pounds. The van can comfortably seat up to eight passengers, offering 38 cubic feet of cargo space behind the seats, and is fitted with a 7.0-inch touchscreen infotainment system that supports Apple CarPlay and Android Auto. Additional safety features like crosswind assist and driver-attention monitoring enhance the secure and attentive driving experience. Overall, the Metris Passenger Van combines efficiency, flexible seating arrangements, and advanced connectivity features to cater to a range of transportation needs, concluding its production run in the U.S. in 2023 with an enduring commitment to quality and performance.\n",
      "overriding image\n",
      "desc=The Mercedes C-Class Cabriolet is a sleek and luxurious convertible that blends performance with elegance. It offers a versatile fabric roof that can be retracted to provide an open-air driving sensation, ideal for sunny drives. With engine choices ranging from a 1.6-liter gasoline to potent AMG versions, the car caters to various preferences for speed and power. Notable for its sporty yet comfortable driving dynamics, the C-Class Cabriolet also ensures a smooth ride with a nine-speed automatic transmission across most models. While offering sufficient trunk space of 360 liters, it represents a great choice for those valuing style, performance, and a touch of exclusivity in a convertible.\n",
      "overriding image\n",
      "desc=The Mercedes EQE SUV is a cutting-edge electric SUV that offers a blend of performance, efficiency, and luxury. It comes in various models including the EQE 300, EQE 350, and EQE 500 with options for rear-wheel or all-wheel drive. Its WLTP range extends up to 596 kilometers on a single charge, thanks to efficient aerodynamics and a sophisticated propulsion system. The interior is generous in space, featuring high-quality materials and advanced technology such as the optional Hyperscreen. Performance-wise, it excels with smooth acceleration and multiple driving modes to suit different preferences. The EQE SUV starts at roughly €83,478, offering a sustainable yet luxurious option for modern drivers seeking the reliability of a Mercedes with the benefits of electric mobility.\n",
      "overriding image\n",
      "desc=The Mercedes GLB is a compact luxury SUV that blends versatility, style, and advanced technology. Positioned between the GLA and GLC in the Mercedes-Benz lineup, it offers an optional third-row seating for up to seven passengers, making it an excellent choice for families. The interior is spacious with a cargo capacity ranging from 570 to 1,805 liters. It's equipped with the latest Mercedes-Benz User Experience (MBUX) system and available 4Matic all-wheel drive, adapting well to off-road conditions. Engine options range from 116 PS to 306 PS across diesel and gasoline variants. Notably, the GLB looks robust yet maintains a luxurious feel and incorporates extensive safety features, making it a highly practical SUV for both daily use and leisure outings. It starts at approximately 47,000 euros, reflecting its premium SUV status within the competitive market.\n",
      "overriding image\n",
      "desc=The Mercedes C-Class Coupe is a luxurious and technologically advanced vehicle that features a distinctive exterior and updated technology for enhanced comfort and accessibility. This car boasts a modern design with a prominent diamond grille, LED headlights, and a sleek body shape that emphasizes its sophistication. Inside, the Coupe is equipped with a cutting-edge digital cockpit, a high-resolution central touchscreen, smartphone integration, and an updated control system that features a touchpad. For performance, it offers dynamic handling with an adaptive suspension system allowing a superb balance between comfort and a satisfying driving experience. The cockpit is also equipped with state-of-the-art features like autonomous driving capabilities, adaptive cruise control, and lane-keeping assist. Overall, the C-Class Coupe represents a blend of elegance and innovation, making it a standout choice in the luxury coupe market.\n",
      "overriding image\n",
      "desc=The Mercedes EQB is a versatile and fully electric SUV designed to cater to both family needs and sustainability goals. With options for up to seven seats, the EQB combines the luxury and advanced technology expected from Mercedes-Benz. It stands out with its distinctive design, featuring a Black-Panel grille and continuous light strip at both the front and rear. The interior is crafted with high-quality materials and the latest in driving assistance technologies, ensuring comfort, convenience, and safety. Performance-wise, the EQB provides a solid electric drive system with thoughtful features like predictive navigation with Electric Intelligence and an ECO Assistant for efficient energy management. The vehicle offers a range of about 300 to 421 kilometers per charge, depending on the model, and supports FC fast charging, which can recharge the battery from 10 to 80% in just around 30 minutes. Safety is also a priority, with numerous features designed to protect passengers and pedestrians alike, making the EQB a smart choice for those seeking a premium and environmentally friendly driving experience.\n",
      "overriding image\n",
      "desc=The Mercedes G-Class, known for its iconic design and robust off-road capabilities, epitomizes luxury and performance. Since its debut in 1979, it has continually improved, now offering a more diverse range of drivetrains including advanced electrified options and boasting enhanced digital features. The G-Class is recognized for its exclusive look and substantial customization possibilities which cater to both luxury-seeking and adventurous users. The new models, such as the G 500, feature mild-hybrid technology with added driving programs for optimized off-road performance and on-road comfort, while the Mercedes-AMG G 63 model excels with a powerful engine and distinct design elements geared for superior performance and unique stature. This blend of traditional toughness with modern tech and luxury makes the G-Class a prime choice for those desiring a comprehensive, high-end vehicle that performs well in any environment.\n",
      "overriding image\n",
      "desc=The Mercedes GLC Coupe is a luxurious and stylish SUV coupe that combines sporty design with practical features. It features a sleek, sloping roofline and offers a spacious interior with seating for up to five passengers. The vehicle is available in several engine options, including conventional combustion engines and plug-in hybrids, ensuring a good balance of performance and efficiency. Inside, the GLC Coupe boasts advanced technology like large displays, smartphone integration, and a variety of driver assistance systems, enhancing both convenience and safety. With its robust presence, precise handling, and sophisticated aesthetics, the GLC Coupe is designed to appeal to those seeking luxury and sportiness in an SUV format.\n",
      "overriding image\n",
      "desc=The Mercedes-Benz GL-Class is a luxury full-size SUV that debuted in 2006 and has become known for its spacious accommodation, advanced technology, and commanding performance. This SUV can seat up to seven passengers and combines the utility of a family vehicle with the elegance of a high-end Mercedes-Benz. The GL-Class features various engine choices from the efficient GL 320 CDI with a six-cylinder engine producing 224 horsepower, up to the formidable GL 500 equipped with a V8 engine delivering 388 horsepower. Notable for its luxurious interior, which includes optional upgrades like AIRMATIC air suspension and the latest in driver assistance systems, the GL-Class represents the premium segment of SUVs. It provides options for both off-road capabilities and city driving comfort, setting it apart as a versatile choice for both adventure and everyday utility.\n",
      "overriding image\n",
      "desc=It appears I'm facing an issue with fetching the online data right now. However, I can give you a general idea based on my last update.\n",
      "\n",
      "The Mercedes CLS-Class is a series of luxury sedans renowned for its sleek, coupe-like silhouette that blends elegance with aggressive styling. Introduced by Mercedes-Benz, it combines high-performance engineering with upscale amenities and cutting-edge technology. The interior of the CLS-Class typically features luxurious materials, advanced infotainment systems, and a range of customization options. On the performance front, it offers powerful engine choices, refined handling, and a smooth ride, making it a choice for those who seek both comfort and performance in a stylish package.\n",
      "overriding image\n",
      "desc=The Mercedes-Benz SLK-Class, produced between 1996 and 2020, is a series of luxury compact executive roadsters renowned for its sophisticated retractable hardtop roof known as the \"Vario-Dach.\" Developed in Bremen, Germany, the SLK-Class comprises three generations: R170, R171, and R172, each progressively incorporating enhancements in design, technology, and performance. Notable features across models include various engine options such as V6 and V8, the innovative Magic Sky Control for electronically tinted glass, and advanced safety technologies. Positioned as a compact and sporty option within the luxury segment, the SLK-Class boasts a blend of performance, innovation, and dynamic driving that appeals equally to style-conscious and enthusiast drivers alike.\n",
      "overriding image\n",
      "desc=The Mercedes EQE is a luxury electric sedan that combines advanced technology, comfort, and performance. It is positioned between the E-Class and the flagship EQS, featuring a slightly smaller size compared to the EQS but similar design and technology elements. The EQE boasts a spacious interior with high-quality materials and provides a quiet ride thanks to effective noise insulation. Key features include the MBUX Hyperscreen, which spans across the entire dashboard, offering an innovative user interface. The EQE offers multiple power options, with the electric motor producing from 180 kW/245 PS to 460 kW/625 PS, and battery capacities allowing for a range of up to 639 kilometers under ideal conditions. The car supports fast charging and even includes bi-directional charging capabilities in some markets. Overall, the EQE is praised for its plush interior, compelling driving dynamics, and cutting-edge technology, though it has a complex digital interface that might take some time to master.\n",
      "overriding image\n",
      "desc=The Mercedes S-Class, recognized as the epitome of luxury in automotive engineering, is a flagship luxury sedan from the iconic German automaker, Mercedes-Benz. Introduced in its modern form in 1972, the S-Class has continuously set benchmarks in technology, safety, and performance across its various generations. With a choice of powerful engine configurations that range from V6 to V12, including performance-oriented AMG models, the S-Class offers dynamic driving experiences while ensuring premium comfort and advanced safety. The interior of the S-Class is a blend of luxury and cutting-edge technology with features like a high-resolution MBUX digital interface, ambient lighting, and luxurious seats with massage functions. Its exterior design conveys elegance and authority, typically featuring sophisticated lighting technology and options for different wheelbases to cater to varied market needs. The S-Class also includes environmentally responsible options like plug-in hybrids, underlining Mercedes-Benz's commitment to innovation and sustainability. With each new model, the S-Class continues to offer opulent comfort, exceptional performance, and a suite of advanced safety and technology features, making it a top choice for luxury sedan enthusiasts around the world.\n",
      "overriding image\n"
     ]
    }
   ],
   "source": [
    "import json\n",
    "from backend.db.products import product_db, Product, VehicleType, Powertrain, Color\n",
    "from pprint import pprint\n",
    "import traceback\n",
    "\n",
    "\n",
    "# Problem with normalization of Mini MPV\n",
    "def normalize(value):\n",
    "    return \"Mini MPV\" if value == \"Mini Mpv\" else value\n",
    "\n",
    "\n",
    "product_list = []\n",
    "for model in from_all:\n",
    "    for car in all_cars:\n",
    "        if car[\"build\"][\"model\"] == model:\n",
    "            try:\n",
    "                desc = None\n",
    "                for d in distinct_descriptions:\n",
    "                    if d[\"model\"] == model:\n",
    "                        desc = d[\"description\"]\n",
    "                        print(f\"desc={desc}\")\n",
    "                        break\n",
    "                else:\n",
    "                    print(\"no description found\")\n",
    "                    desc = \"No description available\"\n",
    "\n",
    "                product = Product(\n",
    "                    name=car[\"heading\"],\n",
    "                    description=desc,\n",
    "                    vehicle_type=VehicleType(normalize(car[\"build\"][\"body_type\"])),\n",
    "                    release_year=car[\"build\"][\"year\"],\n",
    "                    price_in_usd=car.get(\"price\")\n",
    "                    or car.get(\"ref_price\")\n",
    "                    or car.get(\"msrp\"),\n",
    "                    is_used=car[\"inventory_type\"] == \"used\",\n",
    "                    powertrain_type=Powertrain[\n",
    "                        \"EV\"\n",
    "                        if car[\"build\"].get(\"powertrain_type\") == \"BEV\"\n",
    "                        else \"ICE\"\n",
    "                        if car[\"build\"].get(\"powertrain_type\") == \"Combustion\"\n",
    "                        else \"Hybrid\"\n",
    "                    ],\n",
    "                    num_seats=car[\"build\"][\"std_seating\"],\n",
    "                    color=car.get(\"base_ext_color\"),\n",
    "                    specs=car[\"build\"],\n",
    "                    image_url=car[\"media\"][\"photo_links\"][:1]\n",
    "                    if car.get(\"media\")\n",
    "                    else [],\n",
    "                )\n",
    "\n",
    "                # override image from distinct_models\n",
    "                for m in distinct_models:\n",
    "                    if m[\"model\"] == model:\n",
    "                        better_img = m[\"links\"][:1]\n",
    "                        if better_img:\n",
    "                            print(\"overriding image\")\n",
    "                            product.image_url = better_img\n",
    "                            break\n",
    "\n",
    "                product_list.append(product)\n",
    "                break\n",
    "\n",
    "            except Exception as e:\n",
    "                # print(\"skipping car\")\n",
    "                # traceback.print_exc()\n",
    "                # print(\"Error in parsing the following listing:\")\n",
    "                # pprint(car)\n",
    "                continue"
   ]
  },
  {
   "cell_type": "code",
   "execution_count": 37,
   "metadata": {},
   "outputs": [
    {
     "data": {
      "text/plain": [
       "51"
      ]
     },
     "execution_count": 37,
     "metadata": {},
     "output_type": "execute_result"
    }
   ],
   "source": [
    "len(product_list)"
   ]
  },
  {
   "cell_type": "code",
   "execution_count": 42,
   "metadata": {},
   "outputs": [
    {
     "name": "stdout",
     "output_type": "stream",
     "text": [
      "['https://assets.oneweb.mercedes-benz.com/iris/iris.png?COSY-EU-100-1713d0VXqaSFqtyO67PobzIr3eWsrrCsdRRzwQZUkwZbMw3SGtle9tsd2HtcUfp8qXGEunSJ0l3DAOB2NbFbApRARI5ux6YQC30M1kzNBzkm7jAymhKV5XN%25vq4t9yLRgLyYaxPadrH1eH6n8ws8WoiZUkEM4FGTJTg9oQZ6PDMLoSeWza3tsd7ktcUfi%25fXGE4bjJ0lg6JOB2PSFbApeIoI5usKxQC3UvWkzNGoum7juyIhKVHtc%25YhQDd95MXGEiGRJ0l846OB2GM1bAp0ToI5uC5JQC3zgOkzN7U9m7jKyZhKVvXt%25vqLukyL0fsjko9wdYf0hzjtCRcYxqN88Zlo21Ix2rbpldCdcqcgVGB4NPVHF82dQ=&BKGND=9&IMGT=P27&POV=BE040%2CPZM&im=Trim&fuzz=0.5&width=670']\n",
      "The Mercedes-Benz CLA is a luxury compact executive car introduced by Mercedes-Benz in 2013 as a stylish, sporty four-door coupe. Positioned above the A-Class and near the C-Class in the Mercedes lineup, the CLA has been celebrated for combining elegance, sportiness, and performance. The first generation was based on the platform of the A-Class and B-Class, making its debut in Europe in April 2013 and in the U.S. in September 2013. It features models like the high-performance CLA 45 AMG, known for its dynamic driving experience, and a special edition CLA Edition 1. In 2019, the second generation was launched, offering updated styling, advanced technologies like the MBUX infotainment system, and a new CLA Shooting Brake with additional space. The 2023 update saw aesthetic and functional improvements, including a redesigned exterior, new interior options, enhanced safety features, and varied engine options including mild-hybrid and plug-in hybrids, highlighting its evolution into a more sophisticated and efficient vehicle.\n"
     ]
    },
    {
     "data": {
      "text/html": [
       "<img src=\"https://assets.oneweb.mercedes-benz.com/iris/iris.png?COSY-EU-100-1713d0VXqaSFqtyO67PobzIr3eWsrrCsdRRzwQZUkwZbMw3SGtle9tsd2HtcUfp8qXGEunSJ0l3DAOB2NbFbApRARI5ux6YQC30M1kzNBzkm7jAymhKV5XN%25vq4t9yLRgLyYaxPadrH1eH6n8ws8WoiZUkEM4FGTJTg9oQZ6PDMLoSeWza3tsd7ktcUfi%25fXGE4bjJ0lg6JOB2PSFbApeIoI5usKxQC3UvWkzNGoum7juyIhKVHtc%25YhQDd95MXGEiGRJ0l846OB2GM1bAp0ToI5uC5JQC3zgOkzN7U9m7jKyZhKVvXt%25vqLukyL0fsjko9wdYf0hzjtCRcYxqN88Zlo21Ix2rbpldCdcqcgVGB4NPVHF82dQ=&BKGND=9&IMGT=P27&POV=BE040%2CPZM&im=Trim&fuzz=0.5&width=670\"/>"
      ],
      "text/plain": [
       "<IPython.core.display.Image object>"
      ]
     },
     "metadata": {},
     "output_type": "display_data"
    },
    {
     "name": "stdout",
     "output_type": "stream",
     "text": [
      "['https://assets.oneweb.mercedes-benz.com/iris/iris.png?COSY-EU-100-1713d0VXqaJeqtyO67PobzIr3eWsrrCsdRRzwQZ63pZbMw3SGtxX2tsd1ZpcUfwMuXGEuymJ0l3YZOB2NrjbApjiVI5uVeuQC3qsFkzNR%25nm7jxyIhKV1Yh%25vqwJkyLRZOVYaxFkErH19nun8wDqfoiZWJXM4FlIDTg92QE6PDpPpSeWue9tsd3s%25cUfNLkXGEjaRJ0lVHNOB2qQ1bApRTyI5ux6ZQC31EFkzNwldm7jA6ohKV5Kh%25vqCUTyLRzGFYax759rH1KM1n8wvVwoiZL%25pM4FaTQTg90Q26PDBkbSeWAeStsd5spcUfCLqXGEziwJ0l7OhOB2KbFbApJilI5uOcxQC3iMwkzN4Pkm7jgcfhKVPX9%25vqeIkyLRsQHYaxU4drH1Gcrn8w7OwoiZKiEM4FvSlTg9Lte6PDa%25bSeWHw9tsd8oGcUfiXyXGE45jJ0lgChOB2PzObApe7pI5usKDQC3UnpkzNpTwm7ju6ohKV3YQ%25vq8tTyLRiO6Yax4bJrH1gjrn8wPbIoTnylpEvcQC3sE3kzNetDm7jC7fhKVzst%25vq7BTyLRKn2YaxvoJrH1LIln8waIIoiZHQUM4F8QETg9iGm6PDVkbSeWqiftsdUhQcUfGUNXGE0GYJ0lBHtOB2A81bAp5iCI5uC4MQC3zs3kzN7U9m7sDgubYwR9hDvVCBdwj6hVNpLLxdYfqJVf%25XEd9B96N683eUHpi3v1Lf9O=&BKGND=9&IMGT=P27&POV=BE040%2CPZM&im=Trim&fuzz=0.5&width=670']\n",
      "The Mercedes GLC-Class, developed by Mercedes-Benz, is a versatile and luxurious SUV known for its combination of style, comfort, and performance. Initially introduced as a replacement for the GLK-Class in 2015, the GLC-Class quickly established itself with a range of engine options including turbocharged petrol and diesel variants, along with advanced plug-in hybrid systems. The vehicle is available in both standard and coupe SUV body styles. It features cutting-edge technology like the MBUX operating system, adaptive damping, and a broad array of safety and driver assistance features. The GLC-Class stands out with its sophisticated interior, offering ample space, premium materials, and modern infotainment systems. It is celebrated for its powerful yet smooth driving dynamics, supported by features like a nine-speed automatic transmission and optional all-wheel-drive, making it a top choice among premium midsize SUVs.\n"
     ]
    },
    {
     "data": {
      "text/html": [
       "<img src=\"https://assets.oneweb.mercedes-benz.com/iris/iris.png?COSY-EU-100-1713d0VXqaJeqtyO67PobzIr3eWsrrCsdRRzwQZ63pZbMw3SGtxX2tsd1ZpcUfwMuXGEuymJ0l3YZOB2NrjbApjiVI5uVeuQC3qsFkzNR%25nm7jxyIhKV1Yh%25vqwJkyLRZOVYaxFkErH19nun8wDqfoiZWJXM4FlIDTg92QE6PDpPpSeWue9tsd3s%25cUfNLkXGEjaRJ0lVHNOB2qQ1bApRTyI5ux6ZQC31EFkzNwldm7jA6ohKV5Kh%25vqCUTyLRzGFYax759rH1KM1n8wvVwoiZL%25pM4FaTQTg90Q26PDBkbSeWAeStsd5spcUfCLqXGEziwJ0l7OhOB2KbFbApJilI5uOcxQC3iMwkzN4Pkm7jgcfhKVPX9%25vqeIkyLRsQHYaxU4drH1Gcrn8w7OwoiZKiEM4FvSlTg9Lte6PDa%25bSeWHw9tsd8oGcUfiXyXGE45jJ0lgChOB2PzObApe7pI5usKDQC3UnpkzNpTwm7ju6ohKV3YQ%25vq8tTyLRiO6Yax4bJrH1gjrn8wPbIoTnylpEvcQC3sE3kzNetDm7jC7fhKVzst%25vq7BTyLRKn2YaxvoJrH1LIln8waIIoiZHQUM4F8QETg9iGm6PDVkbSeWqiftsdUhQcUfGUNXGE0GYJ0lBHtOB2A81bAp5iCI5uC4MQC3zs3kzN7U9m7sDgubYwR9hDvVCBdwj6hVNpLLxdYfqJVf%25XEd9B96N683eUHpi3v1Lf9O=&BKGND=9&IMGT=P27&POV=BE040%2CPZM&im=Trim&fuzz=0.5&width=670\"/>"
      ],
      "text/plain": [
       "<IPython.core.display.Image object>"
      ]
     },
     "metadata": {},
     "output_type": "display_data"
    },
    {
     "name": "stdout",
     "output_type": "stream",
     "text": [
      "['https://assets.oneweb.mercedes-benz.com/iris/iris.png?COSY-EU-100-1713d0VXqaW7qtyO67PobzIr3eWsrrCsdRRzwQZ6TfZbMw3SGtle9tsd2HdcUfp8qXGEubmJ0l3ItOB2NQnbApjtwI5uVQDQC31MjkzNwzwm7jZeohKVFXM%25vqCvqyLRz3RYaxPXWrH1eHDn8wsQfoiZUMEM4FGTjTg9ovn6PDC%25qSeWzy3tsd8hdcUfiONXGE4nXJ0lgDfOB2PSObApeIyI5usQMQC3UvrkzNGLdm7j0M3hKVHtc%25YhQDd95MXGEiydJ0l846OB2GB2bAp0AwI5u9QzQC3zCOkzN7Pbm7jKeDhKUWP3IrZxD%25WLNhcRZVS%25qjuaa1frEROqEyJlfDADSjSiNsG8u4NLwaEDb=&BKGND=9&IMGT=P27&POV=BE040%2CPZM&im=Trim&fuzz=0.5&width=670']\n",
      "The Mercedes C-Class Sedan epitomizes luxury and high performance in a compact executive car format, first introduced in 1993. Across its various generations, including the most recent W206 launched in 2021, it offers a blend of advanced technology, stylish design, and refined driving dynamics. Key highlights include a range of powerful four-cylinder engines equipped with an integrated starter generator and a 48-volt electrical system. The latest model, the Mercedes-AMG C 63 S E PERFORMANCE, showcases an AMG 2.0-liter engine complemented by an electric motor, producing a combined output of 500 kW. This sedan also features the P3 hybrid system inspired by Formula 1 technology, an aerodynamically optimized exterior, and a luxurious interior with the cutting-edge MBUX Infotainment System. Overall, the Mercedes C-Class Sedan continues to offer a perfect combination of performance, luxury, and innovative technology, appealing to those who value sophisticated and dynamic driving experiences.\n"
     ]
    },
    {
     "data": {
      "text/html": [
       "<img src=\"https://assets.oneweb.mercedes-benz.com/iris/iris.png?COSY-EU-100-1713d0VXqaW7qtyO67PobzIr3eWsrrCsdRRzwQZ6TfZbMw3SGtle9tsd2HdcUfp8qXGEubmJ0l3ItOB2NQnbApjtwI5uVQDQC31MjkzNwzwm7jZeohKVFXM%25vqCvqyLRz3RYaxPXWrH1eHDn8wsQfoiZUMEM4FGTjTg9ovn6PDC%25qSeWzy3tsd8hdcUfiONXGE4nXJ0lgDfOB2PSObApeIyI5usQMQC3UvrkzNGLdm7j0M3hKVHtc%25YhQDd95MXGEiydJ0l846OB2GB2bAp0AwI5u9QzQC3zCOkzN7Pbm7jKeDhKUWP3IrZxD%25WLNhcRZVS%25qjuaa1frEROqEyJlfDADSjSiNsG8u4NLwaEDb=&BKGND=9&IMGT=P27&POV=BE040%2CPZM&im=Trim&fuzz=0.5&width=670\"/>"
      ],
      "text/plain": [
       "<IPython.core.display.Image object>"
      ]
     },
     "metadata": {},
     "output_type": "display_data"
    },
    {
     "name": "stdout",
     "output_type": "stream",
     "text": [
      "['https://assets.adac.de/image/upload/w_898/Autodatenbank/GWInfo/gw0303-mercedes-benz-slk-klasse-2004-2011.jpg']\n",
      "The Mercedes-Benz SLK, later known as the SLC from 2016 onwards, is a compact executive roadster that has been celebrated for its sporty design and innovative features. First introduced in 1996, the SLK-Class quickly gained recognition for its distinctive retractable hardtop called the \"Vario-Dach,\" which allowed it to switch between a hardtop and a convertible. The SLK spans three generations, with various upgrades including enhancements in engine performance ranging from four-cylinder to V8 options, as well as both diesel and petrol engines. Its notable features include Magic Sky Control, an electronically operated tint shade for the sunroof, and a progressive aesthetic update in 2016 to commemorate its 20th anniversary. The SLK has been lauded for its synthesis of luxury, sportiness, and innovative technology, making it a well-rounded vehicle ideal for both performance enthusiasts and luxury seekers.\n"
     ]
    },
    {
     "data": {
      "text/html": [
       "<img src=\"https://assets.adac.de/image/upload/w_898/Autodatenbank/GWInfo/gw0303-mercedes-benz-slk-klasse-2004-2011.jpg\"/>"
      ],
      "text/plain": [
       "<IPython.core.display.Image object>"
      ]
     },
     "metadata": {},
     "output_type": "display_data"
    },
    {
     "name": "stdout",
     "output_type": "stream",
     "text": [
      "['https://assets.oneweb.mercedes-benz.com/iris/iris.png?COSY-EU-100-1713d0VXqrWFqtyO67PobzIr3eWsrrCsdRRzwQZgk4ZbMw3SGtxX2tsd1ZpcUfwMuXGEuGdJ0l34lOB2Ng1bApjkbI5uVmMQC3qSpkzNRJ9m7jxaShKV1TM%25vq9tcyLRDLVYaxW0SrH1dItn8wfV2oiZEqNM4FaIMTg9HzO6PD8LFSeWiwWtsd4oVcUfgX0XGEzyjJ0l70JOB2KBjbApvPpI5uLeDQC3aSrkzNHmnm7jQe3hKVPS9%25vqeUDyLRsnDYaxU4drH1zJ1n8w7VxoiZK%25XM4FvyMTg9L6O6PDaSmSeWH0Rtsd8kxcUfimWXGEWbSJ0lCYhOB2zr5bAp7TyI5uKMTQmIJwF1GY6PDLSpSeWvw5tsdPJdcUfeOyXGEs9EJ0lweROB2Ar%25bAp5ARI5uCeZQC3zhFkzN7lwm7jKh3hKUWP3IrZxD%25WLcZnfAVS%25qjuaa1frEROqEyJlfDADSjSiNsG8u4NLwaEDb=&BKGND=9&IMGT=P27&POV=BE040%2CPZM&im=Trim&fuzz=0.5&width=670']\n",
      "The Mercedes SL-Class, a prestigious grand touring sports car produced by Mercedes-Benz since 1954, embodies a blend of luxury, performance, and advanced technology. Originally launched with the historical 300 SL model, the SL-Class has evolved through various iterations, including model ranges like the W198, W121, R107, among others, each marking significant advancements in automotive design and engineering. The latest generation, denoted as the R232, is developed by Mercedes-AMG and features a 2+2 seating configuration, a fabric soft top, and a range of powertrains including mild hybrids and powerful V8 engines. Renowned for its sporty aesthetics, the SL-Class continues to be a symbol of sophisticated dynamism, offering innovative touches like a digital instrument cluster, customizable driving modes, and high-performance capabilities tailored for both comfort and exhilarating sports driving.\n"
     ]
    },
    {
     "data": {
      "text/html": [
       "<img src=\"https://assets.oneweb.mercedes-benz.com/iris/iris.png?COSY-EU-100-1713d0VXqrWFqtyO67PobzIr3eWsrrCsdRRzwQZgk4ZbMw3SGtxX2tsd1ZpcUfwMuXGEuGdJ0l34lOB2Ng1bApjkbI5uVmMQC3qSpkzNRJ9m7jxaShKV1TM%25vq9tcyLRDLVYaxW0SrH1dItn8wfV2oiZEqNM4FaIMTg9HzO6PD8LFSeWiwWtsd4oVcUfgX0XGEzyjJ0l70JOB2KBjbApvPpI5uLeDQC3aSrkzNHmnm7jQe3hKVPS9%25vqeUDyLRsnDYaxU4drH1zJ1n8w7VxoiZK%25XM4FvyMTg9L6O6PDaSmSeWH0Rtsd8kxcUfimWXGEWbSJ0lCYhOB2zr5bAp7TyI5uKMTQmIJwF1GY6PDLSpSeWvw5tsdPJdcUfeOyXGEs9EJ0lweROB2Ar%25bAp5ARI5uCeZQC3zhFkzN7lwm7jKh3hKUWP3IrZxD%25WLcZnfAVS%25qjuaa1frEROqEyJlfDADSjSiNsG8u4NLwaEDb=&BKGND=9&IMGT=P27&POV=BE040%2CPZM&im=Trim&fuzz=0.5&width=670\"/>"
      ],
      "text/plain": [
       "<IPython.core.display.Image object>"
      ]
     },
     "metadata": {},
     "output_type": "display_data"
    },
    {
     "name": "stdout",
     "output_type": "stream",
     "text": [
      "['https://assets.oneweb.mercedes-benz.com/iris/iris.png?COSY-EU-100-1713d0VXqaJeqtyO67PobzIr3eWsrrCsdRRzwQZ63pZbMw3SGtxX2tsd1ZpcUfwMuXGEuymJ0l3YZOB2NrjbApjiVI5uVeuQC3qsFkzNR%25nm7jxyIhKV1Yh%25vqwJkyLRZOVYaxFkErH19nun8wDqfoiZWJXM4FlIDTg92QE6PDpPpSeWue9tsd3s%25cUfNLkXGEjaRJ0lVHNOB2qQ1bApRTyI5ux6ZQC31EFkzNwldm7jA6ohKV5Kh%25vqCUTyLRzGFYax759rH1KM1n8wvVwoiZL%25pM4FaTQTg90Q26PDBkbSeWAeStsd5spcUfCLqXGEziwJ0l7OhOB2KbFbApJilI5uOcxQC3iMwkzN4Pkm7jgcfhKVPX9%25vqeIkyLRsQHYaxU4drH1Gcrn8w7OwoiZKiEM4FvSlTg9Lte6PDa%25bSeWHw9tsd8oGcUfiXyXGE45jJ0lgChOB2PzObApe7pI5usKDQC3UnpkzNpTwm7ju6ohKV3YQ%25vq8tTyLRiO6Yax4bJrH1gjrn8wPbIoTnylpEvcQC3sE3kzNetDm7jC7fhKVzst%25vq7BTyLRKn2YaxvoJrH1LIln8waIIoiZHQUM4F8QETg9iGm6PDVkbSeWqiftsdUhQcUfGUNXGE0GYJ0lBHtOB2A81bAp5iCI5uC4MQC3zs3kzN7U9m7sDgubYwR9hDvVCBdwj6hVNpLLxdYfqJVf%25XEd9B96N683eUHpi3v1Lf9O=&BKGND=9&IMGT=P27&POV=BE040%2CPZM&im=Trim&fuzz=0.5&width=670']\n",
      "The Mercedes GLC is a luxurious compact SUV that combines performance, style, and the latest technological features. It comes with a range of engine options including fuel-efficient petrol, diesel, and a plug-in hybrid variant, providing a dynamic driving experience. The interior boasts high-quality materials, advanced infotainment systems, and innovative safety features, ensuring comfort and security for all passengers. The GLC's design features sleek lines and modern aesthetics, making it standout on the road. This SUV is ideal for those who seek a blend of elegance, practicality, and eco-conscious engineering in a versatile vehicle.\n"
     ]
    },
    {
     "data": {
      "text/html": [
       "<img src=\"https://assets.oneweb.mercedes-benz.com/iris/iris.png?COSY-EU-100-1713d0VXqaJeqtyO67PobzIr3eWsrrCsdRRzwQZ63pZbMw3SGtxX2tsd1ZpcUfwMuXGEuymJ0l3YZOB2NrjbApjiVI5uVeuQC3qsFkzNR%25nm7jxyIhKV1Yh%25vqwJkyLRZOVYaxFkErH19nun8wDqfoiZWJXM4FlIDTg92QE6PDpPpSeWue9tsd3s%25cUfNLkXGEjaRJ0lVHNOB2qQ1bApRTyI5ux6ZQC31EFkzNwldm7jA6ohKV5Kh%25vqCUTyLRzGFYax759rH1KM1n8wvVwoiZL%25pM4FaTQTg90Q26PDBkbSeWAeStsd5spcUfCLqXGEziwJ0l7OhOB2KbFbApJilI5uOcxQC3iMwkzN4Pkm7jgcfhKVPX9%25vqeIkyLRsQHYaxU4drH1Gcrn8w7OwoiZKiEM4FvSlTg9Lte6PDa%25bSeWHw9tsd8oGcUfiXyXGE45jJ0lgChOB2PzObApe7pI5usKDQC3UnpkzNpTwm7ju6ohKV3YQ%25vq8tTyLRiO6Yax4bJrH1gjrn8wPbIoTnylpEvcQC3sE3kzNetDm7jC7fhKVzst%25vq7BTyLRKn2YaxvoJrH1LIln8waIIoiZHQUM4F8QETg9iGm6PDVkbSeWqiftsdUhQcUfGUNXGE0GYJ0lBHtOB2A81bAp5iCI5uC4MQC3zs3kzN7U9m7sDgubYwR9hDvVCBdwj6hVNpLLxdYfqJVf%25XEd9B96N683eUHpi3v1Lf9O=&BKGND=9&IMGT=P27&POV=BE040%2CPZM&im=Trim&fuzz=0.5&width=670\"/>"
      ],
      "text/plain": [
       "<IPython.core.display.Image object>"
      ]
     },
     "metadata": {},
     "output_type": "display_data"
    },
    {
     "name": "stdout",
     "output_type": "stream",
     "text": [
      "['https://assets.oneweb.mercedes-benz.com/iris/iris.png?COSY-EU-100-1713d0VXqrWFqtyO67PobzIr3eWsrrCsdRRzwQZgk4ZbMw3SGtlaStsd2J%25cUfpFNXGEuTRJ0lVYpOB2qBqbApRdXI5uGoYQC30C3kzNBUbm7jAyvhKV5ph%25vq4t9yLRgc6YaxPadrH1eHDn8wsocoiZKbZM4Fv4lTg9Lt26PDa1FSeWHnMtsd8c%25cUfiANXGE45mJ0lgCfOB2frcbAp7oMIkbX1ZxUyTg9vQn6PDK1ASeWgXhtsdPZ3cUfxgXXGE0aBJ0lBDrOB2AbEbA4wHEcmqN1IwCQKEFwpnIu2fzzjFm93Su9Q6DF1s1n2nvligKfLlCVz91t=&BKGND=9&IMGT=P27&POV=BE040%2CPZM&im=Trim&fuzz=0.5&width=670']\n",
      "The Mercedes-AMG GT is a hallmark of high-performance luxury sports coupes, renowned for its technical sophistication and emotional appeal. Built with motorsport technology at its core, the AMG GT features a robust AMG 4.0-liter V8 Biturbo engine, which combines with a cutting-edge AMG SPEEDSHIFT MCT 9G transmission to deliver explosive power and dynamic performance. This sports coupe achieves a top speed of 315 km/h and includes an all-wheel drive system, AMG Performance 4MATIC+, for superior handling and control. Its design epitomizes sporty elegance, manifested in its aggressive exterior and luxurious interior that offers advanced technologies like the MBUX infotainment system and customizable comfort features. Enthusiasts can enjoy further personalization through the MANUFAKTUR customization program, highlighting the GT's blend of performance, luxury, and individual style.\n"
     ]
    },
    {
     "data": {
      "text/html": [
       "<img src=\"https://assets.oneweb.mercedes-benz.com/iris/iris.png?COSY-EU-100-1713d0VXqrWFqtyO67PobzIr3eWsrrCsdRRzwQZgk4ZbMw3SGtlaStsd2J%25cUfpFNXGEuTRJ0lVYpOB2qBqbApRdXI5uGoYQC30C3kzNBUbm7jAyvhKV5ph%25vq4t9yLRgc6YaxPadrH1eHDn8wsocoiZKbZM4Fv4lTg9Lt26PDa1FSeWHnMtsd8c%25cUfiANXGE45mJ0lgCfOB2frcbAp7oMIkbX1ZxUyTg9vQn6PDK1ASeWgXhtsdPZ3cUfxgXXGE0aBJ0lBDrOB2AbEbA4wHEcmqN1IwCQKEFwpnIu2fzzjFm93Su9Q6DF1s1n2nvligKfLlCVz91t=&BKGND=9&IMGT=P27&POV=BE040%2CPZM&im=Trim&fuzz=0.5&width=670\"/>"
      ],
      "text/plain": [
       "<IPython.core.display.Image object>"
      ]
     },
     "metadata": {},
     "output_type": "display_data"
    },
    {
     "name": "stdout",
     "output_type": "stream",
     "text": [
      "['https://images.prismic.io/shacarlacca/YTE4YzAzYzgtYmYwYS00NmY3LWI1ZjAtNjRhNTAwMTA1MjYx_e81176df-ba1f-4b92-b99f-1912beeca97arulecf-450.png?auto=compress%2Cformat&rect=0%2C0%2C450%2C300&h=300&width=3840']\n",
      "The Mercedes M-Class, officially known as the Mercedes-Benz M-Klasse, is a luxury SUV line launched in 1997 and produced by Mercedes-Benz. Renowned for its high towing capacity and robust performance, the first model rolled off the assembly line in Vance, Alabama. It was initially named M-Klasse due to naming rights and is commonly referred to by the abbreviation \"ML\" (e.g., ML 320). The early generation models faced competitors such as BMW and Porsche but quickly became popular, particularly in the U.S. The vehicle evolved through several generations, with designs becoming more aligned with modern standards, ultimately being renamed as the GLE series in 2015 to reflect its similarity to the E-Class lineup. The M-Class offers a range of engine options, high-end safety features, and is available with both standard and off-road capabilities, catering to luxury vehicle enthusiasts who demand comfort, performance, and utility.\n"
     ]
    },
    {
     "data": {
      "text/html": [
       "<img src=\"https://images.prismic.io/shacarlacca/YTE4YzAzYzgtYmYwYS00NmY3LWI1ZjAtNjRhNTAwMTA1MjYx_e81176df-ba1f-4b92-b99f-1912beeca97arulecf-450.png?auto=compress%2Cformat&rect=0%2C0%2C450%2C300&h=300&width=3840\"/>"
      ],
      "text/plain": [
       "<IPython.core.display.Image object>"
      ]
     },
     "metadata": {},
     "output_type": "display_data"
    },
    {
     "name": "stdout",
     "output_type": "stream",
     "text": [
      "['https://assets.oneweb.mercedes-benz.com/iris/iris.png?COSY-EU-100-1713d0VXq0WFqtyO67PobzIr3eWsrrCsdRRzwQZg9pZbMw3SGtGyWtsd2vtcUfp8cXGEuiRJ0l3IrOB2NzObApRAlI5ux4uQC31gFkzNwtnm7jZaShKV5SM%25vqCv%25yLRzAHYax75prH1KMrn8wvT2oiZUbXM4FG4fTg90v36PDB%25pSeWAtItsd5cxcUfCXyXGEzYmJ0l7%25lOB2aScbApHtwI5u8rJQC3UM3kzNGzwm7j0yZhKVBY9%25vqAIkyLR5QVYaxCrhrH1znOn8w7PcoiZKJ1M4FsmJTg9Ukm6tTnuNpHOhKV0SN%25vqGJfyLRKG6Yaxv0JrH1LIln8waIdoiZ3UUM4FgCuTg9Pze6PDecpSeWsXhtsLV79MOuljcVGXvGS7dhcfWF002ROxEnfxXr1RjijhWh5DvaAFCDGp0xjo=&BKGND=9&IMGT=P27&POV=BE040%2CPZM&im=Trim&fuzz=0.5&width=670']\n",
      "The Mercedes EQS is a luxurious all-electric sedan that marks a pinnacle in Mercedes-Benz's EQ series. This electric vehicle intertwines sustainability with luxury and advanced technology. It features a sleek, aerodynamic design that enhances its efficiency and a sophisticated interior equipped with the latest Mercedes-Benz User Experience (MBUX) technology. Its high-performance electric drivetrain offers a smooth, silent drive and an impressive range on a single charge. The EQS sets new standards in the electric vehicle sector with its remarkable energy efficiency, fast charging capabilities, and optional features like the \"Hyperscreen\" cockpit. The EQS represents Mercedes-Benz's commitment to cutting-edge sustainable mobility without compromising on performance or comfort, making it an elite choice for those seeking a top-tier electric driving experience.\n"
     ]
    },
    {
     "data": {
      "text/html": [
       "<img src=\"https://assets.oneweb.mercedes-benz.com/iris/iris.png?COSY-EU-100-1713d0VXq0WFqtyO67PobzIr3eWsrrCsdRRzwQZg9pZbMw3SGtGyWtsd2vtcUfp8cXGEuiRJ0l3IrOB2NzObApRAlI5ux4uQC31gFkzNwtnm7jZaShKV5SM%25vqCv%25yLRzAHYax75prH1KMrn8wvT2oiZUbXM4FG4fTg90v36PDB%25pSeWAtItsd5cxcUfCXyXGEzYmJ0l7%25lOB2aScbApHtwI5u8rJQC3UM3kzNGzwm7j0yZhKVBY9%25vqAIkyLR5QVYaxCrhrH1znOn8w7PcoiZKJ1M4FsmJTg9Ukm6tTnuNpHOhKV0SN%25vqGJfyLRKG6Yaxv0JrH1LIln8waIdoiZ3UUM4FgCuTg9Pze6PDecpSeWsXhtsLV79MOuljcVGXvGS7dhcfWF002ROxEnfxXr1RjijhWh5DvaAFCDGp0xjo=&BKGND=9&IMGT=P27&POV=BE040%2CPZM&im=Trim&fuzz=0.5&width=670\"/>"
      ],
      "text/plain": [
       "<IPython.core.display.Image object>"
      ]
     },
     "metadata": {},
     "output_type": "display_data"
    },
    {
     "name": "stdout",
     "output_type": "stream",
     "text": [
      "['https://assets.oneweb.mercedes-benz.com/iris/iris.png?COSY-EU-100-1713d0VXqrWFqtyO67PobzIr3eWsrrCsdRRzwQZUkRZbMw3SGtlK9tsd2HdcUfp8qXGEubSJ0l3IJOB2NMcbApjtwI5ux5YQC30MrkzNBzkm7jAymhKV5ph%25vqCycyLRgcDYaxPXSrH1eHrn8ws8WoiZU6oM4FGmlTg90hT6PDBSbSeWAtRtsd6vDcUfSO6XGEvaVJ0lL6tOB2aSRbApenpI5us5xQC3Uh1kzNG%25Km7j0OIhKVBbV%25vqAIayLR5YXYaxC4WrH1zgOn8w7XxoiZxbXM4F1OuTg9Ukm6tTnuNpHOhKV0KM%25vqGJfyLRKL2Yaxv0SrH1LBOn8wazcoiZHkpM4F8RFTg9jFP6PDekbSeWsm9tsdUvTcUfGL0XGE0adJ0lBIVOB2AbcbA4wHEcmqN1Iw4Pis1wpnIu2fzzjFm93Su9Q6DF1s1n2nvligKfLlCVz91t=&BKGND=9&IMGT=P27&POV=BE040%2CPZM&im=Trim&fuzz=0.5&width=670']\n",
      "The Mercedes GLE Coupe combines luxurious style with athletic functionality, epitomizing a sport-oriented luxury SUV. It showcases an elegant and dynamic exterior, accented by a sloping roofline that contributes to its sporty aesthetics. Inside, the GLE Coupe is spacious with high-quality materials and a cutting-edge MBUX infotainment system. Performance-wise, it offers powerful engine choices, including a V6 that accelerates from 0 to 100 km/h in 5.7 seconds. Advanced technical features like 4MATIC+ all-wheel drive, ACTIVE RIDE CONTROL, and selectable AMG Performance exhaust enhance the driving experience. Despite its performance capabilities, it retains practical features like a luggage capacity of up to 1435 liters. The GLE Coupe is a blend of sportiness, luxury and functionality, ideal for those seeking a robust yet sophisticated vehicle experience.\n"
     ]
    },
    {
     "data": {
      "text/html": [
       "<img src=\"https://assets.oneweb.mercedes-benz.com/iris/iris.png?COSY-EU-100-1713d0VXqrWFqtyO67PobzIr3eWsrrCsdRRzwQZUkRZbMw3SGtlK9tsd2HdcUfp8qXGEubSJ0l3IJOB2NMcbApjtwI5ux5YQC30MrkzNBzkm7jAymhKV5ph%25vqCycyLRgcDYaxPXSrH1eHrn8ws8WoiZU6oM4FGmlTg90hT6PDBSbSeWAtRtsd6vDcUfSO6XGEvaVJ0lL6tOB2aSRbApenpI5us5xQC3Uh1kzNG%25Km7j0OIhKVBbV%25vqAIayLR5YXYaxC4WrH1zgOn8w7XxoiZxbXM4F1OuTg9Ukm6tTnuNpHOhKV0KM%25vqGJfyLRKL2Yaxv0SrH1LBOn8wazcoiZHkpM4F8RFTg9jFP6PDekbSeWsm9tsdUvTcUfGL0XGE0adJ0lBIVOB2AbcbA4wHEcmqN1Iw4Pis1wpnIu2fzzjFm93Su9Q6DF1s1n2nvligKfLlCVz91t=&BKGND=9&IMGT=P27&POV=BE040%2CPZM&im=Trim&fuzz=0.5&width=670\"/>"
      ],
      "text/plain": [
       "<IPython.core.display.Image object>"
      ]
     },
     "metadata": {},
     "output_type": "display_data"
    },
    {
     "name": "stdout",
     "output_type": "stream",
     "text": [
      "['https://assets.oneweb.mercedes-benz.com/iris/iris.png?COSY-EU-100-1713d0VXq7VeqtyO67PobzIr3eWsrrCsdRRzwQZUZ4zGE1UHFm9hMi9QC%25j9DkzyjVWfDZ4PiOpqtsQtQRcUk44xXGmjG1J0hVUwOB%25xwZbAyPLFI5Y239QCAJwDkzKk1Wm7vSNdhKL0Gf%25vaCDEyLHrUlYa8nA2rHKFopn8v9auoiLDF3M4aE1NTgHlij6P8QvVSeiDFqts43zRcUgARxXGPts1J0eG2wOBIVaZbA6bLFI5SIR9QCtTwDkzcDzWm7pjhdhKuh8f%25v3%251EyLNXLlYajJ12rHV3qpn8q9AuoiR2x3M4xK2NTg1Zwj6PRdWVSexdeqts1qqRcUwNvxXGZ981J0npdwOBol4ZbAM1EFI5xt39QC102Dkze6PWm7sQUdhKWYyf%25vdHNEyLfdWlYaEnn2rHf1opn8EnCuoilIG3M42E8NTgCkNj6PzfzVSe7EcqtsKlaRcUvdzxXGLqV1J0Gr2wOB0eHZbABqLFI5ARB9QCWmHDkz0k8WmtPT5Zl8LgdP1NrFYQ7jdKzAyyaslUv1KUfxGsgOgjzjnCScrAoC%25HyUgw=&BKGND=9&IMGT=P27&POV=BE040%2CPZM&im=Trim&fuzz=0.5&width=670']\n",
      "The Mercedes Metris Cargo Van is a versatile and dependable commercial vehicle tailored for small to medium-sized businesses needing an efficient cargo transportation solution. It features a compact design that facilitates maneuverability in city environments without sacrificing cargo space, boasting up to 186.1 cubic feet of cargo capacity. The van is powered by a robust 2.0L turbo diesel engine, delivering strong performance suitable for both urban and long-distance applications. Key attributes include its exceptional fuel efficiency, advanced safety and connectivity technologies such as Forward Collision Warning and Automatic Emergency Braking, and a comfortable, ergonomic cabin designed for driver and passenger comfort. The Metris Cargo Van also supports customization through the Mercedes-Benz Expertsolutions program, allowing businesses to tailor the vehicle to their precise needs. Additionally, it is designed for low maintenance, with a comprehensive warranty ensuring reliability and peace of mind. With its blend of functionality, durability, and advanced features, the Mercedes Metris Cargo Van is an excellent choice for professionals requiring a reliable, practical vehicle for daily operations.\n"
     ]
    },
    {
     "data": {
      "text/html": [
       "<img src=\"https://assets.oneweb.mercedes-benz.com/iris/iris.png?COSY-EU-100-1713d0VXq7VeqtyO67PobzIr3eWsrrCsdRRzwQZUZ4zGE1UHFm9hMi9QC%25j9DkzyjVWfDZ4PiOpqtsQtQRcUk44xXGmjG1J0hVUwOB%25xwZbAyPLFI5Y239QCAJwDkzKk1Wm7vSNdhKL0Gf%25vaCDEyLHrUlYa8nA2rHKFopn8v9auoiLDF3M4aE1NTgHlij6P8QvVSeiDFqts43zRcUgARxXGPts1J0eG2wOBIVaZbA6bLFI5SIR9QCtTwDkzcDzWm7pjhdhKuh8f%25v3%251EyLNXLlYajJ12rHV3qpn8q9AuoiR2x3M4xK2NTg1Zwj6PRdWVSexdeqts1qqRcUwNvxXGZ981J0npdwOBol4ZbAM1EFI5xt39QC102Dkze6PWm7sQUdhKWYyf%25vdHNEyLfdWlYaEnn2rHf1opn8EnCuoilIG3M42E8NTgCkNj6PzfzVSe7EcqtsKlaRcUvdzxXGLqV1J0Gr2wOB0eHZbABqLFI5ARB9QCWmHDkz0k8WmtPT5Zl8LgdP1NrFYQ7jdKzAyyaslUv1KUfxGsgOgjzjnCScrAoC%25HyUgw=&BKGND=9&IMGT=P27&POV=BE040%2CPZM&im=Trim&fuzz=0.5&width=670\"/>"
      ],
      "text/plain": [
       "<IPython.core.display.Image object>"
      ]
     },
     "metadata": {},
     "output_type": "display_data"
    },
    {
     "name": "stdout",
     "output_type": "stream",
     "text": [
      "['https://assets.oneweb.mercedes-benz.com/iris/iris.png?COSY-EU-100-1713d0VXq7XLqtyO67PobzIr3eWsrrCsdRRzwQZUOBJGE1UHFm9hMi9QC%25NjDd9wig8J2VSeI88qtsQj9RcUefRxXGsp71J0AJjwOB5O7ZbAC6bFI5zii9QC74mDkzB0zWm7ABCdhK5Yef%25vCV7EyLzLLlYa7WU2rHo32pn8knBuoimoT3M4hQ1NTg%25NDj6PwQAVSeZTcqtsF8sRcUw2vxXGZ281J0F20wOB9p4ZbADkEFI5TUi9QC6%25CDkzSVpWm7tqFdhKcq3f%25vXRsEyLJZWlYaORA2rHdHLpn8fvRuoiE1u3M41W0NTg7HNj6PNDuVSejh3qtsV%25qRcUqyexXGR2O1J0qJbwOBRVHZbAxqgFI519i9QCwDmDkzgfZWm7PY7dhKeref%25vsxDEyLvwLlYap5V2rHuospnIBJLfjsg0uBhabL3Y8wuiHvTTP5jC4WiC3Dz50h0wHwtabQSvcaMeTC0d=&BKGND=9&IMGT=P27&POV=BE040%2CPZM&im=Trim&fuzz=0.5&width=670']\n",
      "The Mercedes Sprinter Crew Van is a highly versatile commercial vehicle ideal for businesses requiring a mix of passenger and cargo transport capabilities. It accommodates up to five passengers and is available with a high roof option, which enhances headroom and storage space. The van is equipped with advanced safety and assistance features like crosswind assist, attention assist, and lane keeping assist, ensuring a safe and stable driving experience. Additionally, the van features robust engine options, sophisticated connectivity options, and a comfortable interior setup, making it a reliable and practical choice for diverse business needs. Whether used for carrying cargo or crew, the Sprinter Crew Van emerges as an efficient solution, offering customization options to meet specific business requirements.\n"
     ]
    },
    {
     "data": {
      "text/html": [
       "<img src=\"https://assets.oneweb.mercedes-benz.com/iris/iris.png?COSY-EU-100-1713d0VXq7XLqtyO67PobzIr3eWsrrCsdRRzwQZUOBJGE1UHFm9hMi9QC%25NjDd9wig8J2VSeI88qtsQj9RcUefRxXGsp71J0AJjwOB5O7ZbAC6bFI5zii9QC74mDkzB0zWm7ABCdhK5Yef%25vCV7EyLzLLlYa7WU2rHo32pn8knBuoimoT3M4hQ1NTg%25NDj6PwQAVSeZTcqtsF8sRcUw2vxXGZ281J0F20wOB9p4ZbADkEFI5TUi9QC6%25CDkzSVpWm7tqFdhKcq3f%25vXRsEyLJZWlYaORA2rHdHLpn8fvRuoiE1u3M41W0NTg7HNj6PNDuVSejh3qtsV%25qRcUqyexXGR2O1J0qJbwOBRVHZbAxqgFI519i9QCwDmDkzgfZWm7PY7dhKeref%25vsxDEyLvwLlYap5V2rHuospnIBJLfjsg0uBhabL3Y8wuiHvTTP5jC4WiC3Dz50h0wHwtabQSvcaMeTC0d=&BKGND=9&IMGT=P27&POV=BE040%2CPZM&im=Trim&fuzz=0.5&width=670\"/>"
      ],
      "text/plain": [
       "<IPython.core.display.Image object>"
      ]
     },
     "metadata": {},
     "output_type": "display_data"
    },
    {
     "name": "stdout",
     "output_type": "stream",
     "text": [
      "['https://assets.oneweb.mercedes-benz.com/iris/iris.png?COSY-EU-100-1713d0VXq0WFqtyO67PobzIr3eWsrrCsdRRzwQZgk4ZbMw3SGtxKFtsd2s%25cUfpLWXGEuiXJ0l3DAOB2NS1bApj7bI5uVKuQC31CpkzNwP9m7jZaShKV5SM%25vqCv%25yLRzAHYax7oxrH1KItn8wsOcoiZUidM4FGmlTg906O6PDBmsSeWzK3tsd7YtcUfKMjXGE4yEJ0lg0VOB2PQqbApedRI5usf2QC3UXOkzNGJum7j0hohKVB%25t%25vqA8TyLR5SVYaxVXhrH1gObnMr%25E2fKtI5ug41QC3AgrkzN5Pbm7jCemhKVf5n%25vqLvkyLRaLXYaxH0ErH18BOn8wizwoiCpBxySfD2MpgrHQ2BZbMFwRPPW3SN9hFNTmj32v2bwbU15zsRG1gdPN2%25=&BKGND=9&IMGT=P27&POV=BE040%2CPZM&im=Trim&fuzz=0.5&width=670']\n",
      "The Mercedes GLA-Class is a versatile and stylish compact SUV that has evolved significantly since its introduction in 2013. As an integral part of Mercedes-Benz's compact car range, this model offers a more robust and muscular appearance compared to its predecessors, catered to those seeking luxury alongside a sporty utility vehicle feel. The GLA-Class features increased roominess with a higher body that enhances rear space and trunk capacity. Technology-wise, it boasts the state-of-the-art MBUX multimedia system known for its digital instruments and voice command functionality. Engine options are diverse, ranging from three diesel engines and six gasoline engines to a plug-in hybrid model, accommodating a wide array of driving preferences. Importantly, the GLA-Class maintains its commitment to comfort, a smooth drive, and safety with advanced systems like lane-keeping assist and adaptive cruise control, presenting itself as a strong contender in the luxury compact SUV market.\n"
     ]
    },
    {
     "data": {
      "text/html": [
       "<img src=\"https://assets.oneweb.mercedes-benz.com/iris/iris.png?COSY-EU-100-1713d0VXq0WFqtyO67PobzIr3eWsrrCsdRRzwQZgk4ZbMw3SGtxKFtsd2s%25cUfpLWXGEuiXJ0l3DAOB2NS1bApj7bI5uVKuQC31CpkzNwP9m7jZaShKV5SM%25vqCv%25yLRzAHYax7oxrH1KItn8wsOcoiZUidM4FGmlTg906O6PDBmsSeWzK3tsd7YtcUfKMjXGE4yEJ0lg0VOB2PQqbApedRI5usf2QC3UXOkzNGJum7j0hohKVB%25t%25vqA8TyLR5SVYaxVXhrH1gObnMr%25E2fKtI5ug41QC3AgrkzN5Pbm7jCemhKVf5n%25vqLvkyLRaLXYaxH0ErH18BOn8wizwoiCpBxySfD2MpgrHQ2BZbMFwRPPW3SN9hFNTmj32v2bwbU15zsRG1gdPN2%25=&BKGND=9&IMGT=P27&POV=BE040%2CPZM&im=Trim&fuzz=0.5&width=670\"/>"
      ],
      "text/plain": [
       "<IPython.core.display.Image object>"
      ]
     },
     "metadata": {},
     "output_type": "display_data"
    },
    {
     "name": "stdout",
     "output_type": "stream",
     "text": [
      "['https://assets.oneweb.mercedes-benz.com/iris/iris.png?COSY-EU-100-1713d0VXqrWFqtyO67PobzIr3eWsrrCsdRRzwQZgk4ZbMw3SGtxX2tsd1ZpcUfwMuXGEuGdJ0l34lOB2Ng1bApjkbI5uVmMQC3qSpkzNRJ9m7jxaShKV1TM%25vq9tcyLRDLVYaxW0SrH1dItn8wfV2oiZEqNM4FaIMTg9HzO6PD8LFSeWiwWtsd4oVcUfgX0XGEzyjJ0l70JOB2KBjbApvPpI5uLeDQC3aSrkzNHmnm7jQe3hKVPS9%25vqeUDyLRsnDYaxU4drH1zJ1n8w7VxoiZK%25XM4FvyMTg9L6O6PDaSmSeWH0Rtsd8kxcUfimWXGEWbSJ0lCYhOB2zr5bAp7TyI5uKMTQmIJwF1GY6PDLSpSeWvw5tsdPJdcUfeOyXGEs9EJ0lweROB2Ar%25bAp5ARI5uCeZQC3zhFkzN7lwm7jKh3hKUWP3IrZxD%25WLcZnfAVS%25qjuaa1frEROqEyJlfDADSjSiNsG8u4NLwaEDb=&BKGND=9&IMGT=P27&POV=BE040%2CPZM&im=Trim&fuzz=0.5&width=670']\n",
      "The Mercedes SLC Roadster, previously known as the SLK, is a refined compact roadster that delivers a captivating blend of performance and luxury. Introduced as a successor to the SLK, the SLC aligns closely with the Mercedes C-Class family, featuring an elegantly redesigned front with a distinctive diamond grille and modern LED headlights. In terms of performance, the SLC offers a range of engines, from the efficient 1.6-liter in the SLC 180 producing 156 PS, up to the dynamic V6 biturbo in the AMG SLC 43 with 367 PS. Noteworthy for its enhanced convertible experience, the SLC's roof can operate at speeds up to 40 km/h. The interior boasts updated amenities including a refreshed dashboard and state-of-the-art safety features like enhanced active brake assist. The AMG versions further augment driving pleasure with sport-tuned suspensions, emphasizing the roadster's sportiness while ensuring comfort.\n"
     ]
    },
    {
     "data": {
      "text/html": [
       "<img src=\"https://assets.oneweb.mercedes-benz.com/iris/iris.png?COSY-EU-100-1713d0VXqrWFqtyO67PobzIr3eWsrrCsdRRzwQZgk4ZbMw3SGtxX2tsd1ZpcUfwMuXGEuGdJ0l34lOB2Ng1bApjkbI5uVmMQC3qSpkzNRJ9m7jxaShKV1TM%25vq9tcyLRDLVYaxW0SrH1dItn8wfV2oiZEqNM4FaIMTg9HzO6PD8LFSeWiwWtsd4oVcUfgX0XGEzyjJ0l70JOB2KBjbApvPpI5uLeDQC3aSrkzNHmnm7jQe3hKVPS9%25vqeUDyLRsnDYaxU4drH1zJ1n8w7VxoiZK%25XM4FvyMTg9L6O6PDaSmSeWH0Rtsd8kxcUfimWXGEWbSJ0lCYhOB2zr5bAp7TyI5uKMTQmIJwF1GY6PDLSpSeWvw5tsdPJdcUfeOyXGEs9EJ0lweROB2Ar%25bAp5ARI5uCeZQC3zhFkzN7lwm7jKh3hKUWP3IrZxD%25WLcZnfAVS%25qjuaa1frEROqEyJlfDADSjSiNsG8u4NLwaEDb=&BKGND=9&IMGT=P27&POV=BE040%2CPZM&im=Trim&fuzz=0.5&width=670\"/>"
      ],
      "text/plain": [
       "<IPython.core.display.Image object>"
      ]
     },
     "metadata": {},
     "output_type": "display_data"
    },
    {
     "name": "stdout",
     "output_type": "stream",
     "text": [
      "['https://assets.oneweb.mercedes-benz.com/iris/iris.png?COSY-EU-100-1713d0VXqaWFqtyO67PobzIr3eWsrrCsdRRzwQZgk4ZbMw3SGtlaWtsd2HVcUfpOkXGEubSJ0l3IrOB2NS1bApj7oI5ux5xQC31CpkzNwPnm7jZeDhKV5SM%25vqCv%25yLRznyYax7NxrH1eJtn8ws8WoiZU6oM4FGmlTg90626PDBmpSeWzeFtsd7vNcUfKr1XGEvTSJ0lgYlOB2PBqbApekRI5usf2QC3UkrkzNGmbm7j0hShKVBHM%25vqA8qyLR5i2YaxCtqrH1gIOn8wPbIoTnylpEvcQC3PS9kzN5P6m7jdA9hKVvsW%25vqLUayLRaARYaBEUVmMDZfrE8OYz2zxXr1RjiiF2MpwQ1pnIu2fzfXRXPq0Agjeq89ipfk=&BKGND=9&IMGT=P27&POV=BE040%2CPZM&im=Trim&fuzz=0.5&width=670']\n",
      "The Mercedes CLE is a new flagship model that combines the elegance of the E-Class with the sportiness of the C-Class into a unified coupe and cabriolet lineup. This car is positioned as a higher-end option with a longer hood, graceful silhouette, and advanced interior features influenced by the newer models of both classes it replaces. It sports both four- and six-cylinder mild-hybrid engines, with a plug-in hybrid variant expected in the future. The technology suite includes the cutting-edge MBUX system and a Burmester 3D Surround Sound system, ensuring luxury and convenience. Measuring at 4.85 meters in length, the CLE offers more space, enhancing passenger comfort and luggage capacity (420 liters for the Coupé). Despite its ample size, it provides a dynamic driving experience with options for rear-wheel steering and adjustable dampers, targeting those who desire a sophisticated blend of performance and style in the midsize luxury segment.\n"
     ]
    },
    {
     "data": {
      "text/html": [
       "<img src=\"https://assets.oneweb.mercedes-benz.com/iris/iris.png?COSY-EU-100-1713d0VXqaWFqtyO67PobzIr3eWsrrCsdRRzwQZgk4ZbMw3SGtlaWtsd2HVcUfpOkXGEubSJ0l3IrOB2NS1bApj7oI5ux5xQC31CpkzNwPnm7jZeDhKV5SM%25vqCv%25yLRznyYax7NxrH1eJtn8ws8WoiZU6oM4FGmlTg90626PDBmpSeWzeFtsd7vNcUfKr1XGEvTSJ0lgYlOB2PBqbApekRI5usf2QC3UkrkzNGmbm7j0hShKVBHM%25vqA8qyLR5i2YaxCtqrH1gIOn8wPbIoTnylpEvcQC3PS9kzN5P6m7jdA9hKVvsW%25vqLUayLRaARYaBEUVmMDZfrE8OYz2zxXr1RjiiF2MpwQ1pnIu2fzfXRXPq0Agjeq89ipfk=&BKGND=9&IMGT=P27&POV=BE040%2CPZM&im=Trim&fuzz=0.5&width=670\"/>"
      ],
      "text/plain": [
       "<IPython.core.display.Image object>"
      ]
     },
     "metadata": {},
     "output_type": "display_data"
    },
    {
     "name": "stdout",
     "output_type": "stream",
     "text": [
      "['https://assets.oneweb.mercedes-benz.com/iris/iris.png?COSY-EU-100-1713d0VXqaWFqtyO67PobzIr3eWsrrCsdRRzwQZgk4ZbMw3SGtlaWtsd2HVcUfpOkXGEubSJ0l3IrOB2NS1bApj7oI5ux5xQC31CpkzNwPnm7jZeDhKV5SM%25vqCv%25yLRznyYax7NxrH1eJtn8ws8WoiZU6oM4FGmlTg90626PDBmpSeWzeFtsd7vNcUfKr1XGEvTSJ0lgYlOB2PBqbApekRI5usf2QC3UkrkzNGmbm7j0hShKVBHM%25vqA8qyLR5i2YaxCtqrH1gIOn8wPbIoTnylpEvcQC3PS9kzN5P6m7jdA9hKVvsW%25vqLUayLRaARYaBEUVmMDZfrE8OYz2zxXr1RjiiF2MpwQ1pnIu2fzfXRXPq0Agjeq89ipfk=&BKGND=9&IMGT=P27&POV=BE040%2CPZM&im=Trim&fuzz=0.5&width=670']\n",
      "The Mercedes-Benz CL-Class was a series of grand tourer coupes produced by the German automaker from 1992 to 2014. Known for its luxury and performance, the CL-Class included several generations of technologically advanced and well-engineered vehicles. The first generation, known as C140 from 1992 to 1998, offered models like the 500 SEC to CL500, featuring V8 and V12 engines. The second generation (C215; 1998–2006) based on the S-Class platform, introduced options such as V8, V12, and AMG engines, and innovations like the Active Body Control suspension. The third generation (C216; 2006–2014) continued this legacy with models equipped with cutting-edge features like Distronic Plus cruise control and Active NightVision. Each iteration of the CL-Class pushed boundaries in terms of luxury, design, and technological enhancements in the grand tourer segment, culminating in its successor, the S-Class Coupe.\n"
     ]
    },
    {
     "data": {
      "text/html": [
       "<img src=\"https://assets.oneweb.mercedes-benz.com/iris/iris.png?COSY-EU-100-1713d0VXqaWFqtyO67PobzIr3eWsrrCsdRRzwQZgk4ZbMw3SGtlaWtsd2HVcUfpOkXGEubSJ0l3IrOB2NS1bApj7oI5ux5xQC31CpkzNwPnm7jZeDhKV5SM%25vqCv%25yLRznyYax7NxrH1eJtn8ws8WoiZU6oM4FGmlTg90626PDBmpSeWzeFtsd7vNcUfKr1XGEvTSJ0lgYlOB2PBqbApekRI5usf2QC3UkrkzNGmbm7j0hShKVBHM%25vqA8qyLR5i2YaxCtqrH1gIOn8wPbIoTnylpEvcQC3PS9kzN5P6m7jdA9hKVvsW%25vqLUayLRaARYaBEUVmMDZfrE8OYz2zxXr1RjiiF2MpwQ1pnIu2fzfXRXPq0Agjeq89ipfk=&BKGND=9&IMGT=P27&POV=BE040%2CPZM&im=Trim&fuzz=0.5&width=670\"/>"
      ],
      "text/plain": [
       "<IPython.core.display.Image object>"
      ]
     },
     "metadata": {},
     "output_type": "display_data"
    },
    {
     "name": "stdout",
     "output_type": "stream",
     "text": [
      "['https://assets.oneweb.mercedes-benz.com/iris/iris.png?COSY-EU-100-1713d0VXqrWFqtyO67PobzIr3eWsrrCsdRRzwQZgk4ZbMw3SGtGyStsd2HtcUfpOyXGEu9jJ0l36xOB2NzObApRn3I5ux5xQC31EOkzNBTnm7jA7jhKV50Q%25vqCrayLRz3yYaxPXWrH1eJtn8ws8EoiZUidM4FGmlTg90xZ6PDBSbSeWAt9tsd5BGcUfi%25cXGE4GjJ0lgIVOB2PWEbApetXI5usQMQC3Uv1kzNGLnm7j0afhKV3SQ%25vq8cXyr%25kWfDCTJ0l4OVOB2iWvbAp0iyI5uBmMQC3AE1kzN5Lwm7jCtThKVf5%25%25vqLvcyLRaGHYaxHNprH18jOn8wihxoiZ4M1M4zuA1YtEWpTuP6U1NuFIT9ZxeedNtjD%259j6hVNpLpIZIGwC7Ux0wPfejpy=&BKGND=9&IMGT=P27&POV=BE040%2CPZM&im=Trim&fuzz=0.5&width=670']\n",
      "The Mercedes-AMG GT Coupe is a pinnacle of high-performance sports engineering, designed to bring the thrill of motorsport to everyday driving. It features a robust AMG 4.0-liter V8 biturbo engine, capable of delivering explosive power with speeds reaching up to 315 km/h (electronically limited), and includes the precision of AMG SPEEDSHIFT MCT 9G transmission. The car boasts advanced technology such as the AMG Performance 4MATIC+ all-wheel drive system for dynamic power distribution and optimal handling. The exterior design exudes sportiness with its AMG-specific front grille and active aerodynamics profile, while the interior offers luxury comfort and customizable options. For hybrid enthusiasts, the GT 63 S E PERFORMANCE variant merges AMG power with hybrid efficiency, providing a ground-breaking 600 kW (816 PS) system power and a maximum system torque of 1,420 Nm. Overall, the AMG GT Coupe excels in combining performance, luxury, and cutting-edge technology, making it an exceptional choice for sports car enthusiasts.\n"
     ]
    },
    {
     "data": {
      "text/html": [
       "<img src=\"https://assets.oneweb.mercedes-benz.com/iris/iris.png?COSY-EU-100-1713d0VXqrWFqtyO67PobzIr3eWsrrCsdRRzwQZgk4ZbMw3SGtGyStsd2HtcUfpOyXGEu9jJ0l36xOB2NzObApRn3I5ux5xQC31EOkzNBTnm7jA7jhKV50Q%25vqCrayLRz3yYaxPXWrH1eJtn8ws8EoiZUidM4FGmlTg90xZ6PDBSbSeWAt9tsd5BGcUfi%25cXGE4GjJ0lgIVOB2PWEbApetXI5usQMQC3Uv1kzNGLnm7j0afhKV3SQ%25vq8cXyr%25kWfDCTJ0l4OVOB2iWvbAp0iyI5uBmMQC3AE1kzN5Lwm7jCtThKVf5%25%25vqLvcyLRaGHYaxHNprH18jOn8wihxoiZ4M1M4zuA1YtEWpTuP6U1NuFIT9ZxeedNtjD%259j6hVNpLpIZIGwC7Ux0wPfejpy=&BKGND=9&IMGT=P27&POV=BE040%2CPZM&im=Trim&fuzz=0.5&width=670\"/>"
      ],
      "text/plain": [
       "<IPython.core.display.Image object>"
      ]
     },
     "metadata": {},
     "output_type": "display_data"
    },
    {
     "name": "stdout",
     "output_type": "stream",
     "text": [
      "['https://assets.oneweb.mercedes-benz.com/iris/iris.png?COSY-EU-100-1713d0VXqrWFqtyO67PobzIr3eWsrrCsdRRzwQZgk4ZbMw3SGtlK9tsd2HtcUfp8qXGEubSJ0l3otOB2NW5bApjtwI5uG5IQC30hQkzNBlkm7jAhShKViSF%25vq4tTyLRgLyYaxPa9rH1eMrn8wsQfoiZUkoM4FGTJTg906V6PDM7FSeWTXMtsd7vtcUfKLjXGEvTSJ0lgYlOB2PBqbApekRI5uscJQC3UXQkzNGJNm7j0OvhKVB%25t%25vqA89yLR5iXYaxCtqrH1qJtn8wRX2oiZeIQM6oY2ulLXkzNU%25Km7jscWhKVzKE%25vq7U9yLRKGXYaxv5SrH1LIln8waVwoiZ3p2M4FgIJTg9PQk6PDe7oSeWsKUtsdUvDcUfGONXGE0JSJ08xLdSQjuROx84HARxlYO2EW553wQZpT2ZbMFwRPRYEY7fHizWKfAN5ZR6=&BKGND=9&IMGT=P27&POV=BE040%2CPZM&im=Trim&fuzz=0.5&width=670']\n",
      "The Mercedes GLE-Class is a midsize luxury SUV renowned for combining sophisticated luxury, advanced technology, and robust performance. Introduced in 1997 and formerly known as part of the M-Class, it was rebranded to GLE in 2015 to align with Mercedes-Benz's new naming strategy. Available in various configurations including V6, V8, and plug-in hybrid engines, the GLE offers seating for up to seven passengers and features premium materials and state-of-the-art safety technologies. The fourth generation, launched in 2019, is particularly noted for its range of engines, including efficient four-cylinder options and powerful inline-six engines, and for introducing a plug-in hybrid model in Europe. With accolades like Motor Trend's Truck of the Year, the GLE-Class caters to luxury SUV buyers seeking a well-rounded vehicle that excels both on and off the road.\n"
     ]
    },
    {
     "data": {
      "text/html": [
       "<img src=\"https://assets.oneweb.mercedes-benz.com/iris/iris.png?COSY-EU-100-1713d0VXqrWFqtyO67PobzIr3eWsrrCsdRRzwQZgk4ZbMw3SGtlK9tsd2HtcUfp8qXGEubSJ0l3otOB2NW5bApjtwI5uG5IQC30hQkzNBlkm7jAhShKViSF%25vq4tTyLRgLyYaxPa9rH1eMrn8wsQfoiZUkoM4FGTJTg906V6PDM7FSeWTXMtsd7vtcUfKLjXGEvTSJ0lgYlOB2PBqbApekRI5uscJQC3UXQkzNGJNm7j0OvhKVB%25t%25vqA89yLR5iXYaxCtqrH1qJtn8wRX2oiZeIQM6oY2ulLXkzNU%25Km7jscWhKVzKE%25vq7U9yLRKGXYaxv5SrH1LIln8waVwoiZ3p2M4FgIJTg9PQk6PDe7oSeWsKUtsdUvDcUfGONXGE0JSJ08xLdSQjuROx84HARxlYO2EW553wQZpT2ZbMFwRPRYEY7fHizWKfAN5ZR6=&BKGND=9&IMGT=P27&POV=BE040%2CPZM&im=Trim&fuzz=0.5&width=670\"/>"
      ],
      "text/plain": [
       "<IPython.core.display.Image object>"
      ]
     },
     "metadata": {},
     "output_type": "display_data"
    },
    {
     "name": "stdout",
     "output_type": "stream",
     "text": [
      "['https://assets.adac.de/image/upload/w_898/Autodatenbank/GWInfo/gw0298-mercedes-benz-clk-klasse-2002-2010-diesel.jpg']\n",
      "The Mercedes-Benz CLK-Class is a prominent series of mid-size luxury coupés and convertibles produced from 1996 to 2010, offering a blend of elegance and performance derived from the E-Class, with a mechanical foundation based on the C-Class. It bridged the gap between the SLK- and CL-Class models, featuring both first-generation (C208/A208) and second-generation (C209/A209) models during its production years. The CLK models were available with a variety of petrol and diesel engines, ranging in output from 136 to 481 horsepower, and were aimed to compete against rivals like the BMW 3 Series and Audi A4. Known for its stylish design, advanced features, and powerful AMG variants, the CLK-Class has left a significant mark on the luxury car segment with its combination of luxury and sporty driving dynamics. In 2010, it was succeeded by the E-Class Coupé and Cabriolet, continuing its legacy under a new nameplate.\n"
     ]
    },
    {
     "data": {
      "text/html": [
       "<img src=\"https://assets.adac.de/image/upload/w_898/Autodatenbank/GWInfo/gw0298-mercedes-benz-clk-klasse-2002-2010-diesel.jpg\"/>"
      ],
      "text/plain": [
       "<IPython.core.display.Image object>"
      ]
     },
     "metadata": {},
     "output_type": "display_data"
    },
    {
     "name": "stdout",
     "output_type": "stream",
     "text": [
      "['https://assets.oneweb.mercedes-benz.com/iris/iris.png?COSY-EU-100-1713d0VXq7XLqtyO67PobzIr3eWsrrCsdRRzwQZUOBJGE1UHFm9hMi9QC%25NjDd9wig8J2VSeI88qtsQu9RcUkVDxXGBXN1J0AMJwOB5HHZbAC8QFI5GSi9QC0dNDkzB0pWm7ABCdhK5Yef%25vCfrEyLzLjlYa7aa2rHKH0pn8vPMuoiTju3M4hM5NTg%25TSj6PymZVSeYVdqtsFmCRcU9SUxXGD4G1J0FuawOBrevZbAnugFI5TIF9QC6%25CDkzSVZWm7tVudhKcjGf%25v9v7EyLDVElYa%25xd2rHqOfpn85KBuoiC3z3M4za3NTg39pj6PNmuVSejhVqtsVuPRcU18DxXGwO71JnaysV975Lwa6UrbZG0lwBGeIIC89iANBiZ348L6LlGlmUrokehUbzIiLj=&BKGND=9&IMGT=P27&POV=BE040%2CPZM&im=Trim&fuzz=0.5&width=670']\n",
      "The Mercedes Sprinter Cab Chassis offers a varied and effective transport solution suited for diverse business needs. Available in several models such as the 3500XD and 4500, these vehicles feature customizable options both in terms of capacity and aesthetics. Key offerings include advanced safety tools like Active Brake Assist and a Blind Spot Assist, alongside comfort enhancements such as MBUX multimedia systems, climate control, and wireless charging. Tailored specifically for efficiency in operations, they come equipped with Active Lane Keeping Assist, Adaptive Distance Assist, and an emergency call system. These chassis can also be outfitted to meet specific requirements through Mercedes-Benz ExpertSOLUTIONS, merging functionality with a high level of technological integration to ensure a safe, enjoyable, and efficient driving experience.\n"
     ]
    },
    {
     "data": {
      "text/html": [
       "<img src=\"https://assets.oneweb.mercedes-benz.com/iris/iris.png?COSY-EU-100-1713d0VXq7XLqtyO67PobzIr3eWsrrCsdRRzwQZUOBJGE1UHFm9hMi9QC%25NjDd9wig8J2VSeI88qtsQu9RcUkVDxXGBXN1J0AMJwOB5HHZbAC8QFI5GSi9QC0dNDkzB0pWm7ABCdhK5Yef%25vCfrEyLzLjlYa7aa2rHKH0pn8vPMuoiTju3M4hM5NTg%25TSj6PymZVSeYVdqtsFmCRcU9SUxXGD4G1J0FuawOBrevZbAnugFI5TIF9QC6%25CDkzSVZWm7tVudhKcjGf%25v9v7EyLDVElYa%25xd2rHqOfpn85KBuoiC3z3M4za3NTg39pj6PNmuVSejhVqtsVuPRcU18DxXGwO71JnaysV975Lwa6UrbZG0lwBGeIIC89iANBiZ348L6LlGlmUrokehUbzIiLj=&BKGND=9&IMGT=P27&POV=BE040%2CPZM&im=Trim&fuzz=0.5&width=670\"/>"
      ],
      "text/plain": [
       "<IPython.core.display.Image object>"
      ]
     },
     "metadata": {},
     "output_type": "display_data"
    },
    {
     "name": "stdout",
     "output_type": "stream",
     "text": [
      "['https://assets.oneweb.mercedes-benz.com/iris/iris.png?COSY-EU-100-1713d0VXqNEFqtyO67PobzIr3eWsrrCsdRRzwQZUVvZbMw3SGtGyWtsd2sDcUfp8fXGEuiRJ0l3IJOB2NMcbApjTlI5ux5xQC31SrkzNB%25km7jAc3hKViSF%25vq4v%25yLRgLFYaxPbWrH1entn8wsbfoiZrb1M4FnKrTg95vp6PDCroSeWzQWtsd8hdcUfiONXGE4nXJ0lg6JOB2PSFbApeIoI5usKxQC3UvWkzNGoum7juyIhKV3XF%25vq8cXyr%25kWfDCTJ0l4DtOB2iRcUY2LxXGH5b1J0OJ2wOBbnRZbAIoQFI5QMB9QCkdHDkzmfgWm7hRVdhK%25A9f%25XsSz9p4HeEsYGcxvSvqELKCrr8Gp0aZL0lwBGeIeqKqM7cJoCT7Yir0eF=&BKGND=9&IMGT=P27&POV=BE040%2CPZM&im=Trim&fuzz=0.5&width=670']\n",
      "The Mercedes-Benz B-Class is a subcompact executive MPV that combines luxury and practicality, making it an excellent choice for families and individuals seeking a versatile vehicle with high-end features. Since its debut in 2005, the B-Class has been known for its spacious interior and advanced safety technologies, including ESP, ABS, traction control, and airbags. With each succeeding generation, it has seen improvements in design, infotainment systems, and driving assists, culminating in the 2019 introduction of features like the Intelligent Drive semi-automated system from the S-Class. The latest facelift in 2023 updated the model's exterior and interior, enhanced the infotainment system, introduced all-wheel drive (AWD) models, and added a 48-volt mild hybrid system on petrol models, emphasizing Mercedes-Benz's commitment to innovation and environmental consciousness.\n"
     ]
    },
    {
     "data": {
      "text/html": [
       "<img src=\"https://assets.oneweb.mercedes-benz.com/iris/iris.png?COSY-EU-100-1713d0VXqNEFqtyO67PobzIr3eWsrrCsdRRzwQZUVvZbMw3SGtGyWtsd2sDcUfp8fXGEuiRJ0l3IJOB2NMcbApjTlI5ux5xQC31SrkzNB%25km7jAc3hKViSF%25vq4v%25yLRgLFYaxPbWrH1entn8wsbfoiZrb1M4FnKrTg95vp6PDCroSeWzQWtsd8hdcUfiONXGE4nXJ0lg6JOB2PSFbApeIoI5usKxQC3UvWkzNGoum7juyIhKV3XF%25vq8cXyr%25kWfDCTJ0l4DtOB2iRcUY2LxXGH5b1J0OJ2wOBbnRZbAIoQFI5QMB9QCkdHDkzmfgWm7hRVdhK%25A9f%25XsSz9p4HeEsYGcxvSvqELKCrr8Gp0aZL0lwBGeIeqKqM7cJoCT7Yir0eF=&BKGND=9&IMGT=P27&POV=BE040%2CPZM&im=Trim&fuzz=0.5&width=670\"/>"
      ],
      "text/plain": [
       "<IPython.core.display.Image object>"
      ]
     },
     "metadata": {},
     "output_type": "display_data"
    },
    {
     "name": "stdout",
     "output_type": "stream",
     "text": [
      "['https://assets.oneweb.mercedes-benz.com/iris/iris.png?COSY-EU-100-1713d0VXqaSFqtyO67PobzIr3eWsrrCsdRRzwQZUkwZbMw3SGtle9tsd2HtcUfp8qXGEunSJ0l3DAOB2NbFbApRARI5ux6YQC30M1kzNBzkm7jAymhKV5XN%25vq4t9yLRgLyYaxPadrH1eH6n8ws8WoiZUkEM4FGTJTg9oQZ6PDMLoSeWza3tsd7ktcUfi%25fXGE4bjJ0lg6JOB2PSFbApeIoI5usKxQC3UvWkzNGoum7juyIhKVHtc%25YhQDd95MXGEiGRJ0l846OB2GM1bAp0ToI5uC5JQC3zgOkzN7U9m7jKyZhKVvXt%25vqLukyL0fsjko9wdYf0hzjtCRcYxqN88Zlo21Ix2rbpldCdcqcgVGB4NPVHF82dQ=&BKGND=9&IMGT=P27&POV=BE040%2CPZM&im=Trim&fuzz=0.5&width=670']\n",
      "The Mercedes CLA-Class, inspired by the VISION EQXX, reflects Mercedes-Benz's commitment to futuristic design, sustainability, and cutting-edge technology. The series features sleek and luxurious compact executive cars with various engine options, including high-performance AMG models. Designed on the Mercedes‑Benz Modular Architecture (MMA) platform, the CLA-Class offers incredible advancements in electric and digital technology, prioritizing customer experience, comfort, and convenience. The vehicle emphasizes eco-friendly materials, advanced safety philosophy, and introduces the MB.OS operating system for an enhanced user experience. Capitalizing on electric innovations, the CLA-Class models aim to provide a long-range electric driving experience, with the latest concept boasting a range of over 750 kilometers. This embodies Mercedes-Benz's vision for a dynamic, youthful market segment, committed to high-efficiency, elegant design, and innovation.\n"
     ]
    },
    {
     "data": {
      "text/html": [
       "<img src=\"https://assets.oneweb.mercedes-benz.com/iris/iris.png?COSY-EU-100-1713d0VXqaSFqtyO67PobzIr3eWsrrCsdRRzwQZUkwZbMw3SGtle9tsd2HtcUfp8qXGEunSJ0l3DAOB2NbFbApRARI5ux6YQC30M1kzNBzkm7jAymhKV5XN%25vq4t9yLRgLyYaxPadrH1eH6n8ws8WoiZUkEM4FGTJTg9oQZ6PDMLoSeWza3tsd7ktcUfi%25fXGE4bjJ0lg6JOB2PSFbApeIoI5usKxQC3UvWkzNGoum7juyIhKVHtc%25YhQDd95MXGEiGRJ0l846OB2GM1bAp0ToI5uC5JQC3zgOkzN7U9m7jKyZhKVvXt%25vqLukyL0fsjko9wdYf0hzjtCRcYxqN88Zlo21Ix2rbpldCdcqcgVGB4NPVHF82dQ=&BKGND=9&IMGT=P27&POV=BE040%2CPZM&im=Trim&fuzz=0.5&width=670\"/>"
      ],
      "text/plain": [
       "<IPython.core.display.Image object>"
      ]
     },
     "metadata": {},
     "output_type": "display_data"
    },
    {
     "name": "stdout",
     "output_type": "stream",
     "text": [
      "['https://assets.oneweb.mercedes-benz.com/iris/iris.png?COSY-EU-100-1713d0VXq0heqtyO67PobzIr3eWsrrCsdRRzwQZgk4ZbMw3SGtlKUtsd2HtcUfp8qXGEubSJ0l3otOB2NW5bApjtwI5ux5YQC31vTkzNBTnm7jA7mhKV50L%25vqCBlyLRzn2Yax7bhrH1Kjrn8wvoboiZUbEM4FGIJTg90gT6PDBPlSeWAXStsd5Y3cUfCrcXGEzJmJ0l7OtOB2KbFbApJilI5uOmJQC3igQkzN4PZm7jgGDhKVPbQ%25vqAtqyLR5L6YaxCoWrH1zMln8w7T4oiZK%25YM4FvyPTg9L6k6PDaGpSeWH0Rtsd8BDcUfimWXGEWymJ0ldYtOB2znobQOcxwRs%25M4F0mMTg9vgO6PDK%25jSeWgm9tsdPsxcUfeLNXGEsamJ0lU4hOB2GM1bAp0dpI5u9%254QC3zMrkzN7T6m7jKevhKVvsN%25vqLr9yLRaYmYaBEUVmMDZfrEB50PnRxXr1RjiiF2MpwQ1pnIu2fzfXRXPq0Agjeq89ipfk=&BKGND=9&IMGT=P27&POV=BE040%2CPZM&im=Trim&fuzz=0.5&width=670']\n",
      "I'm currently unable to perform a web search due to rate limits being reached. Please try again after some time or if you have any other queries or tasks that I can assist with, feel free to let me know!\n"
     ]
    },
    {
     "data": {
      "text/html": [
       "<img src=\"https://assets.oneweb.mercedes-benz.com/iris/iris.png?COSY-EU-100-1713d0VXq0heqtyO67PobzIr3eWsrrCsdRRzwQZgk4ZbMw3SGtlKUtsd2HtcUfp8qXGEubSJ0l3otOB2NW5bApjtwI5ux5YQC31vTkzNBTnm7jA7mhKV50L%25vqCBlyLRzn2Yax7bhrH1Kjrn8wvoboiZUbEM4FGIJTg90gT6PDBPlSeWAXStsd5Y3cUfCrcXGEzJmJ0l7OtOB2KbFbApJilI5uOmJQC3igQkzN4PZm7jgGDhKVPbQ%25vqAtqyLR5L6YaxCoWrH1zMln8w7T4oiZK%25YM4FvyPTg9L6k6PDaGpSeWH0Rtsd8BDcUfimWXGEWymJ0ldYtOB2znobQOcxwRs%25M4F0mMTg9vgO6PDK%25jSeWgm9tsdPsxcUfeLNXGEsamJ0lU4hOB2GM1bAp0dpI5u9%254QC3zMrkzN7T6m7jKevhKVvsN%25vqLr9yLRaYmYaBEUVmMDZfrEB50PnRxXr1RjiiF2MpwQ1pnIu2fzfXRXPq0Agjeq89ipfk=&BKGND=9&IMGT=P27&POV=BE040%2CPZM&im=Trim&fuzz=0.5&width=670\"/>"
      ],
      "text/plain": [
       "<IPython.core.display.Image object>"
      ]
     },
     "metadata": {},
     "output_type": "display_data"
    },
    {
     "name": "stdout",
     "output_type": "stream",
     "text": [
      "['https://assets.oneweb.mercedes-benz.com/iris/iris.png?COSY-EU-100-1713d0VXq7XLqtyO67PobzIr3eWsrrCsdRRzwQZUOBJGE1UHFm9hMi9QC%25NjDd9wig8J2VSeI88qtsQj9RcUefRxXGsp71J0AJjwOB5O7ZbAC6bFI5zii9QC74mDkzB0zWm7ABCdhK5Yef%25vCV7EyLzLLlYa7WU2rHo32pn8knBuoimoT3M4hQ1NTg%25NDj6PwQAVSeZTcqtsF8sRcUw2vxXGZ281J0F20wOB9p4ZbADkEFI5TUi9QC6%25CDkzSVpWm7tqFdhKcq3f%25vXRsEyLJZWlYaORA2rHdHLpn8fvRuoiE1u3M41W0NTg7HNj6PNDuVSejh3qtsV%25qRcUqyexXGR2O1J0qJbwOBRVHZbAxqgFI519i9QCwDmDkzgfZWm7PY7dhKeref%25vsxDEyLvwLlYap5V2rHuospnIBJLfjsg0uBhabL3Y8wuiHvTTP5jC4WiC3Dz50h0wHwtabQSvcaMeTC0d=&BKGND=9&IMGT=P27&POV=BE040%2CPZM&im=Trim&fuzz=0.5&width=670']\n",
      "The Mercedes Sprinter Van is lauded for its versatility, efficiency, and robustness, catering to both personal and commercial uses. It is available in multiple configurations including Cargo Van, Crew Van, Passenger Van, and Cab Chassis, with an environmentally friendly option in the form of the all-electric eSprinter. Designed to be tough and flexible, the Sprinter boasts a variety of engine options and technological enhancements such as the 9G-TRONIC transmission and Torque On Demand with All-Wheel Drive. It features a suite of advanced safety technologies including Active Brake Assist and Attention Assist, further supplemented by the Mercedes-Benz User Experience (MBUX) system for optimal connectivity. The interior is spacious, offering significant cargo space and comfortable passenger accommodation. The ExpertSOLUTIONS program allows for further customization to meet specific needs, making it a valuable investment for efficiency and longevity in business operations.\n"
     ]
    },
    {
     "data": {
      "text/html": [
       "<img src=\"https://assets.oneweb.mercedes-benz.com/iris/iris.png?COSY-EU-100-1713d0VXq7XLqtyO67PobzIr3eWsrrCsdRRzwQZUOBJGE1UHFm9hMi9QC%25NjDd9wig8J2VSeI88qtsQj9RcUefRxXGsp71J0AJjwOB5O7ZbAC6bFI5zii9QC74mDkzB0zWm7ABCdhK5Yef%25vCV7EyLzLLlYa7WU2rHo32pn8knBuoimoT3M4hQ1NTg%25NDj6PwQAVSeZTcqtsF8sRcUw2vxXGZ281J0F20wOB9p4ZbADkEFI5TUi9QC6%25CDkzSVpWm7tqFdhKcq3f%25vXRsEyLJZWlYaORA2rHdHLpn8fvRuoiE1u3M41W0NTg7HNj6PNDuVSejh3qtsV%25qRcUqyexXGR2O1J0qJbwOBRVHZbAxqgFI519i9QCwDmDkzgfZWm7PY7dhKeref%25vsxDEyLvwLlYap5V2rHuospnIBJLfjsg0uBhabL3Y8wuiHvTTP5jC4WiC3Dz50h0wHwtabQSvcaMeTC0d=&BKGND=9&IMGT=P27&POV=BE040%2CPZM&im=Trim&fuzz=0.5&width=670\"/>"
      ],
      "text/plain": [
       "<IPython.core.display.Image object>"
      ]
     },
     "metadata": {},
     "output_type": "display_data"
    },
    {
     "name": "stdout",
     "output_type": "stream",
     "text": [
      "['https://assets.oneweb.mercedes-benz.com/iris/iris.png?COSY-EU-100-1713d0VXq7XLqtyO67PobzIr3eWsrrCsdRRzwQZUOBJGE1UHFm9hMi9QC%25NjDd9wig8J2VSeI88qtsQj9RcUefRxXGsp71J0AJjwOB5O7ZbAC6bFI5zii9QC74mDkzB0zWm7ABCdhK5Yef%25vCV7EyLzLLlYa7WU2rHo32pn8knBuoimoT3M4hQ1NTg%25NDj6PwQAVSeZTcqtsF8sRcUw2vxXGZ281J0F20wOB9p4ZbADkEFI5TUi9QC6%25CDkzSVpWm7tqFdhKcq3f%25vXRsEyLJZWlYaORA2rHdHLpn8fvRuoiE1u3M41W0NTg7HNj6PNDuVSejh3qtsV%25qRcUqyexXGR2O1J0qJbwOBRVHZbAxqgFI519i9QCwDmDkzgfZWm7PY7dhKeref%25vsxDEyLvwLlYap5V2rHuospnIBJLfjsg0uBhabL3Y8wuiHvTTP5jC4WiC3Dz50h0wHwtabQSvcaMeTC0d=&BKGND=9&IMGT=P27&POV=BE040%2CPZM&im=Trim&fuzz=0.5&width=670']\n",
      "It seems there was an issue with fetching the information. Can you specify a different request or provide a URL I should use to look up the details?\n"
     ]
    },
    {
     "data": {
      "text/html": [
       "<img src=\"https://assets.oneweb.mercedes-benz.com/iris/iris.png?COSY-EU-100-1713d0VXq7XLqtyO67PobzIr3eWsrrCsdRRzwQZUOBJGE1UHFm9hMi9QC%25NjDd9wig8J2VSeI88qtsQj9RcUefRxXGsp71J0AJjwOB5O7ZbAC6bFI5zii9QC74mDkzB0zWm7ABCdhK5Yef%25vCV7EyLzLLlYa7WU2rHo32pn8knBuoimoT3M4hQ1NTg%25NDj6PwQAVSeZTcqtsF8sRcUw2vxXGZ281J0F20wOB9p4ZbADkEFI5TUi9QC6%25CDkzSVpWm7tqFdhKcq3f%25vXRsEyLJZWlYaORA2rHdHLpn8fvRuoiE1u3M41W0NTg7HNj6PNDuVSejh3qtsV%25qRcUqyexXGR2O1J0qJbwOBRVHZbAxqgFI519i9QCwDmDkzgfZWm7PY7dhKeref%25vsxDEyLvwLlYap5V2rHuospnIBJLfjsg0uBhabL3Y8wuiHvTTP5jC4WiC3Dz50h0wHwtabQSvcaMeTC0d=&BKGND=9&IMGT=P27&POV=BE040%2CPZM&im=Trim&fuzz=0.5&width=670\"/>"
      ],
      "text/plain": [
       "<IPython.core.display.Image object>"
      ]
     },
     "metadata": {},
     "output_type": "display_data"
    },
    {
     "name": "stdout",
     "output_type": "stream",
     "text": [
      "['https://assets.oneweb.mercedes-benz.com/iris/iris.png?COSY-EU-100-1713d0VXqrWFqtyO67PobzIr3eWsrrCsdRRzwQZgk4ZbMw3SGtxX2tsd1ZpcUfwMuXGEuGdJ0l34lOB2Ng1bApjkbI5uVmMQC3qSpkzNRJ9m7jxaShKV1TM%25vq9tcyLRDLVYaxW0SrH1dItn8wfV2oiZEqNM4FaIMTg9HzO6PD8LFSeWiwWtsd4oVcUfgX0XGEzyjJ0l70JOB2KBjbApvPpI5uLeDQC3aSrkzNHmnm7jQe3hKVPS9%25vqeUDyLRsnDYaxU4drH1zJ1n8w7VxoiZK%25XM4FvyMTg9L6O6PDaSmSeWH0Rtsd8kxcUfimWXGEWbSJ0lCYhOB2zr5bAp7TyI5uKMTQmIJwF1GY6PDLSpSeWvw5tsdPJdcUfeOyXGEs9EJ0lweROB2Ar%25bAp5ARI5uCeZQC3zhFkzN7lwm7jKh3hKUWP3IrZxD%25WLcZnfAVS%25qjuaa1frEROqEyJlfDADSjSiNsG8u4NLwaEDb=&BKGND=9&IMGT=P27&POV=BE040%2CPZM&im=Trim&fuzz=0.5&width=670']\n",
      "The Mercedes-AMG SL Roadster is an iconic, high-performance luxury convertible that seamlessly combines sportiness with comfort and sophisticated technology. Renowned for its elegant design, the SL Roadster features a classic fabric roof, sporty proportions, and an innovative 2+2 seating configuration that emphasizes both luxury and practicality. It is equipped with state-of-the-art performance capabilities—including a range of powerful engine options, AMG ACTIVE RIDE CONTROL with active roll stabilization, and precision rear-wheel steering—ensuring dynamic and exhilarating driving experiences. The interior boasts extensive personalization options, superior craftsmanship, and advanced technological features, making each ride uniquely comfortable and enjoyable. Designed for those who appreciate the blend of performance luxury and timeless design, the SL models, including the SL 63 S E PERFORMANCE and the SL 43, allow for extensive customization, including the MANUFAKTUR individualization program to tailor both exterior and interior details to the owner's specifications.\n"
     ]
    },
    {
     "data": {
      "text/html": [
       "<img src=\"https://assets.oneweb.mercedes-benz.com/iris/iris.png?COSY-EU-100-1713d0VXqrWFqtyO67PobzIr3eWsrrCsdRRzwQZgk4ZbMw3SGtxX2tsd1ZpcUfwMuXGEuGdJ0l34lOB2Ng1bApjkbI5uVmMQC3qSpkzNRJ9m7jxaShKV1TM%25vq9tcyLRDLVYaxW0SrH1dItn8wfV2oiZEqNM4FaIMTg9HzO6PD8LFSeWiwWtsd4oVcUfgX0XGEzyjJ0l70JOB2KBjbApvPpI5uLeDQC3aSrkzNHmnm7jQe3hKVPS9%25vqeUDyLRsnDYaxU4drH1zJ1n8w7VxoiZK%25XM4FvyMTg9L6O6PDaSmSeWH0Rtsd8kxcUfimWXGEWbSJ0lCYhOB2zr5bAp7TyI5uKMTQmIJwF1GY6PDLSpSeWvw5tsdPJdcUfeOyXGEs9EJ0lweROB2Ar%25bAp5ARI5uCeZQC3zhFkzN7lwm7jKh3hKUWP3IrZxD%25WLcZnfAVS%25qjuaa1frEROqEyJlfDADSjSiNsG8u4NLwaEDb=&BKGND=9&IMGT=P27&POV=BE040%2CPZM&im=Trim&fuzz=0.5&width=670\"/>"
      ],
      "text/plain": [
       "<IPython.core.display.Image object>"
      ]
     },
     "metadata": {},
     "output_type": "display_data"
    },
    {
     "name": "stdout",
     "output_type": "stream",
     "text": [
      "['https://assets.oneweb.mercedes-benz.com/iris/iris.png?COSY-EU-100-1713d0VXq0WFqtyO67PobzIr3eWsrrCsdRRzwQZgk4ZbMw3SGtxKFtsd2s%25cUfpLWXGEuiXJ0l3DAOB2NS1bApj7bI5uVKuQC31CpkzNwP9m7jZaShKV5SM%25vqCv%25yLRzAHYax7oxrH1KItn8wsOcoiZUidM4FGmlTg906O6PDBmsSeWzK3tsd7YtcUfKMjXGE4yEJ0lg0VOB2PQqbApedRI5usf2QC3UXOkzNGJum7j0hohKVB%25t%25vqA8TyLR5SVYaxVXhrH1gObnMr%25E2fKtI5ug41QC3AgrkzN5Pbm7jCemhKVf5n%25vqLvkyLRaLXYaxH0ErH18BOn8wizwoiCpBxySfD2MpgrHQ2BZbMFwRPPW3SN9hFNTmj32v2bwbU15zsRG1gdPN2%25=&BKGND=9&IMGT=P27&POV=BE040%2CPZM&im=Trim&fuzz=0.5&width=670']\n",
      "The Mercedes-Benz E-Class is an iconic range of executive cars renowned for combining luxury, performance, and cutting-edge technology. Since its inception in 1953, it has been available in various body styles including sedan, station wagon, coupe, and convertible, catering to a diverse market. Known for its midrange positioning within the Mercedes lineup, the E-Class boasts a choice of powerful inline-6 engines, advanced autonomous driving capabilities, and superior safety features. The 2016 model, W213, marked a significant technological leap, featuring enhancements like autonomous highway driving tech. As of 2020, the W213 received a facelift, and the anticipated sixth generation (W214) expected in 2023 will see the transition of coupes and convertibles to the new CLE vehicle line. Over 13 million units have been sold, underscoring the E-Class' status as a best-seller for Mercedes-Benz, beloved for its blend of elegance, technological innovation, and comprehensive comfort.\n"
     ]
    },
    {
     "data": {
      "text/html": [
       "<img src=\"https://assets.oneweb.mercedes-benz.com/iris/iris.png?COSY-EU-100-1713d0VXq0WFqtyO67PobzIr3eWsrrCsdRRzwQZgk4ZbMw3SGtxKFtsd2s%25cUfpLWXGEuiXJ0l3DAOB2NS1bApj7bI5uVKuQC31CpkzNwP9m7jZaShKV5SM%25vqCv%25yLRzAHYax7oxrH1KItn8wsOcoiZUidM4FGmlTg906O6PDBmsSeWzK3tsd7YtcUfKMjXGE4yEJ0lg0VOB2PQqbApedRI5usf2QC3UXOkzNGJum7j0hohKVB%25t%25vqA8TyLR5SVYaxVXhrH1gObnMr%25E2fKtI5ug41QC3AgrkzN5Pbm7jCemhKVf5n%25vqLvkyLRaLXYaxH0ErH18BOn8wizwoiCpBxySfD2MpgrHQ2BZbMFwRPPW3SN9hFNTmj32v2bwbU15zsRG1gdPN2%25=&BKGND=9&IMGT=P27&POV=BE040%2CPZM&im=Trim&fuzz=0.5&width=670\"/>"
      ],
      "text/plain": [
       "<IPython.core.display.Image object>"
      ]
     },
     "metadata": {},
     "output_type": "display_data"
    },
    {
     "name": "stdout",
     "output_type": "stream",
     "text": [
      "['https://assets.oneweb.mercedes-benz.com/iris/iris.png?COSY-EU-100-1713d0VXqrWFqtyO67PobzIr3eWsrrCsdRRzwQZgk4ZbMw3SGtlK9tsd2HdcUfp8qXGEubSJ0l3IJOB2NMcbApjtwI5ux5YQC30MrkzNBzkm7jAymhKV5ph%25vqCycyLRgcDYaxPXSrH1eHrn8ws8WoiZU6oM4FGmlTg90hT6PDBSbSeWAtRtsd6vDcUfSO6XGEvaVJ0lL6tOB2aSRbApenpI5us5xQC3Uh1kzNG%25Km7j0OIhKVBbV%25vqAIayLR5YXYaxC4WrH1zgOn8w7XxoiZxbXM4F1OuTg9Ukm6tTnuNpHOhKV0KM%25vqGJfyLRKL2Yaxv0SrH1LBOn8wazcoiZHkpM4F8RFTg9jFP6PDekbSeWsm9tsdUvTcUfGL0XGE0adJ0lBIVOB2AbcbA4wHEcmqN1Iw4Pis1wpnIu2fzzjFm93Su9Q6DF1s1n2nvligKfLlCVz91t=&BKGND=9&IMGT=P27&POV=BE040%2CPZM&im=Trim&fuzz=0.5&width=670']\n",
      "The Mercedes GLE-Class Coupe is a stylish and powerful SUV that combines luxury with advanced driving technology. It is available with a range of performance-oriented engine options including a potent 3.0-liter R6 turbo engine and a 4.0-liter V8 Biturbo engine. Additionally, there is a hybrid model that further enhances performance with a combined output of 330 kW (449 PS) and 480 Nm torque. The vehicle features an all-wheel drive 4MATIC+ system, AMG ACTIVE RIDE CONTROL suspension, AMG DYNAMIC SELECT driving modes, and an AMG SPEEDSHIFT TCT 9G transmission. The design is aggressively sporty with new bumpers, LED lights, and AMG styling accents. Inside, the cabin offers a luxurious experience with the state-of-the-art MBUX infotainment system, a head-up display, Burmester surround sound, and premium upholstery choices. The Mercedes-AMG GLE Coupe is the embodiment of sophisticated sportiness and technological innovation, designed to provide an exceptional driving experience.\n"
     ]
    },
    {
     "data": {
      "text/html": [
       "<img src=\"https://assets.oneweb.mercedes-benz.com/iris/iris.png?COSY-EU-100-1713d0VXqrWFqtyO67PobzIr3eWsrrCsdRRzwQZgk4ZbMw3SGtlK9tsd2HdcUfp8qXGEubSJ0l3IJOB2NMcbApjtwI5ux5YQC30MrkzNBzkm7jAymhKV5ph%25vqCycyLRgcDYaxPXSrH1eHrn8ws8WoiZU6oM4FGmlTg90hT6PDBSbSeWAtRtsd6vDcUfSO6XGEvaVJ0lL6tOB2aSRbApenpI5us5xQC3Uh1kzNG%25Km7j0OIhKVBbV%25vqAIayLR5YXYaxC4WrH1zgOn8w7XxoiZxbXM4F1OuTg9Ukm6tTnuNpHOhKV0KM%25vqGJfyLRKL2Yaxv0SrH1LBOn8wazcoiZHkpM4F8RFTg9jFP6PDekbSeWsm9tsdUvTcUfGL0XGE0adJ0lBIVOB2AbcbA4wHEcmqN1Iw4Pis1wpnIu2fzzjFm93Su9Q6DF1s1n2nvligKfLlCVz91t=&BKGND=9&IMGT=P27&POV=BE040%2CPZM&im=Trim&fuzz=0.5&width=670\"/>"
      ],
      "text/plain": [
       "<IPython.core.display.Image object>"
      ]
     },
     "metadata": {},
     "output_type": "display_data"
    },
    {
     "name": "stdout",
     "output_type": "stream",
     "text": [
      "['https://assets.oneweb.mercedes-benz.com/iris/iris.png?COSY-EU-100-1713d0VXq0heqtyO67PobzIr3eWsrrCsdRRzwQZgk4ZbMw3SGtlKUtsd2HtcUfp8qXGEubSJ0l3otOB2NW5bApjtwI5ux5YQC31vTkzNBTnm7jA7mhKV50L%25vqCBlyLRzn2Yax7bhrH1Kjrn8wvoboiZUbEM4FGIJTg90gT6PDBPlSeWAXStsd5Y3cUfCrcXGEzJmJ0l7OtOB2KbFbApJilI5uOmJQC3igQkzN4PZm7jgGDhKVPbQ%25vqAtqyLR5L6YaxCoWrH1zMln8w7T4oiZK%25YM4FvyPTg9L6k6PDaGpSeWH0Rtsd8BDcUfimWXGEWymJ0ldYtOB2znobQOcxwRs%25M4F0mMTg9vgO6PDK%25jSeWgm9tsdPsxcUfeLNXGEsamJ0lU4hOB2GM1bAp0dpI5u9%254QC3zMrkzN7T6m7jKevhKVvsN%25vqLr9yLRaYmYaBEUVmMDZfrEB50PnRxXr1RjiiF2MpwQ1pnIu2fzfXRXPq0Agjeq89ipfk=&BKGND=9&IMGT=P27&POV=BE040%2CPZM&im=Trim&fuzz=0.5&width=670']\n",
      "The Mercedes GLS is a full-size luxury SUV offering exceptional space, comfort, and advanced technological features, making it a top choice in the high-end SUV segment. It accommodates up to seven passengers and competes with other luxury models like the Range Rover and Porsche Cayenne. The GLS includes powerful engine options, ranging from a 286-horsepower diesel to a V8 engine delivering up to 489 horsepower, with even more potent versions available. Its design accentuates S-Class level comfort with high-quality materials and includes features such as an advanced MBUX infotainment system, air suspension, and optional amenities like massage seats and a five-zone climate control system. This model also provides significant cargo space, extending up to 2400 liters when rear seats are folded, making it practical as well as luxurious. Additionally, the GLS introduces innovative features like the integrated starter-generator for improved fuel efficiency.\n"
     ]
    },
    {
     "data": {
      "text/html": [
       "<img src=\"https://assets.oneweb.mercedes-benz.com/iris/iris.png?COSY-EU-100-1713d0VXq0heqtyO67PobzIr3eWsrrCsdRRzwQZgk4ZbMw3SGtlKUtsd2HtcUfp8qXGEubSJ0l3otOB2NW5bApjtwI5ux5YQC31vTkzNBTnm7jA7mhKV50L%25vqCBlyLRzn2Yax7bhrH1Kjrn8wvoboiZUbEM4FGIJTg90gT6PDBPlSeWAXStsd5Y3cUfCrcXGEzJmJ0l7OtOB2KbFbApJilI5uOmJQC3igQkzN4PZm7jgGDhKVPbQ%25vqAtqyLR5L6YaxCoWrH1zMln8w7T4oiZK%25YM4FvyPTg9L6k6PDaGpSeWH0Rtsd8BDcUfimWXGEWymJ0ldYtOB2znobQOcxwRs%25M4F0mMTg9vgO6PDK%25jSeWgm9tsdPsxcUfeLNXGEsamJ0lU4hOB2GM1bAp0dpI5u9%254QC3zMrkzN7T6m7jKevhKVvsN%25vqLr9yLRaYmYaBEUVmMDZfrEB50PnRxXr1RjiiF2MpwQ1pnIu2fzfXRXPq0Agjeq89ipfk=&BKGND=9&IMGT=P27&POV=BE040%2CPZM&im=Trim&fuzz=0.5&width=670\"/>"
      ],
      "text/plain": [
       "<IPython.core.display.Image object>"
      ]
     },
     "metadata": {},
     "output_type": "display_data"
    },
    {
     "name": "stdout",
     "output_type": "stream",
     "text": [
      "['https://assets.oneweb.mercedes-benz.com/iris/iris.png?COSY-EU-100-1713d0VXqaW7qtyO67PobzIr3eWsrrCsdRRzwQZ6TfZbMw3SGtle9tsd2HdcUfp8qXGEubmJ0l3ItOB2NQnbApjtwI5uVQDQC31MjkzNwzwm7jZeohKVFXM%25vqCvqyLRz3RYaxPXWrH1eHDn8wsQfoiZUMEM4FGTjTg9ovn6PDC%25qSeWzy3tsd8hdcUfiONXGE4nXJ0lgDfOB2PSObApeIyI5usQMQC3UvrkzNGLdm7j0M3hKVHtc%25YhQDd95MXGEiydJ0l846OB2GB2bAp0AwI5u9QzQC3zCOkzN7Pbm7jKeDhKUWP3IrZxD%25WLNhcRZVS%25qjuaa1frEROqEyJlfDADSjSiNsG8u4NLwaEDb=&BKGND=9&IMGT=P27&POV=BE040%2CPZM&im=Trim&fuzz=0.5&width=670']\n",
      "The Mercedes C-Class is a renowned range of compact executive cars produced by Mercedes-Benz, dating back to its introduction in 1993. Known for blending luxury, technology, and performance in a sleek package, the C-Class offers configurations including sedans, coupes, and convertibles. The latest generation, the W206 launched in 2021, features innovative design elements like digital headlights and a sophisticated interior inspired by the flagship S-Class. It provides enhanced driving dynamics with systems like rear-wheel steering and markets a selection of powertrains including advanced hybrid options. Designed as a middle ground between utility and indulgence, the C-Class competes with other luxury models by focusing on a refined experience, pairing engine performance with interior opulence marked by high-tech infotainment and safety systems.\n"
     ]
    },
    {
     "data": {
      "text/html": [
       "<img src=\"https://assets.oneweb.mercedes-benz.com/iris/iris.png?COSY-EU-100-1713d0VXqaW7qtyO67PobzIr3eWsrrCsdRRzwQZ6TfZbMw3SGtle9tsd2HdcUfp8qXGEubmJ0l3ItOB2NQnbApjtwI5uVQDQC31MjkzNwzwm7jZeohKVFXM%25vqCvqyLRz3RYaxPXWrH1eHDn8wsQfoiZUMEM4FGTjTg9ovn6PDC%25qSeWzy3tsd8hdcUfiONXGE4nXJ0lgDfOB2PSObApeIyI5usQMQC3UvrkzNGLdm7j0M3hKVHtc%25YhQDd95MXGEiydJ0l846OB2GB2bAp0AwI5u9QzQC3zCOkzN7Pbm7jKeDhKUWP3IrZxD%25WLNhcRZVS%25qjuaa1frEROqEyJlfDADSjSiNsG8u4NLwaEDb=&BKGND=9&IMGT=P27&POV=BE040%2CPZM&im=Trim&fuzz=0.5&width=670\"/>"
      ],
      "text/plain": [
       "<IPython.core.display.Image object>"
      ]
     },
     "metadata": {},
     "output_type": "display_data"
    },
    {
     "name": "stdout",
     "output_type": "stream",
     "text": [
      "['https://assets.oneweb.mercedes-benz.com/iris/iris.png?COSY-EU-100-1713d0VXq7XLqtyO67PobzIr3eWsrrCsdRRzwQZUOBJGE1UHFm9hMi9QC%25NjDd9wig8J2VSeI88qtsQj9RcUefRxXGsp71J0AJjwOB5O7ZbAC6bFI5zii9QC74mDkzB0zWm7ABCdhK5Yef%25vCV7EyLzLLlYa7WU2rHo32pn8knBuoimoT3M4hQ1NTg%25NDj6PwQAVSeZTcqtsF8sRcUw2vxXGZ281J0F20wOB9p4ZbADkEFI5TUi9QC6%25CDkzSVpWm7tqFdhKcq3f%25vXRsEyLJZWlYaORA2rHdHLpn8fvRuoiE1u3M41W0NTg7HNj6PNDuVSejh3qtsV%25qRcUqyexXGR2O1J0qJbwOBRVHZbAxqgFI519i9QCwDmDkzgfZWm7PY7dhKeref%25vsxDEyLvwLlYap5V2rHuospnIBJLfjsg0uBhabL3Y8wuiHvTTP5jC4WiC3Dz50h0wHwtabQSvcaMeTC0d=&BKGND=9&IMGT=P27&POV=BE040%2CPZM&im=Trim&fuzz=0.5&width=670']\n",
      "The Mercedes Sprinter Cargo Van is a highly versatile and reliable vehicle tailored for businesses requiring efficient cargo transportation. It features a stylish design marked by the iconic Mercedes three-pointed star and provides a range of powerful engine options, including both diesel and gasoline variants, to ensure robust performance under various load conditions. The spacious cabin is designed for driver comfort and efficiency, equipped with modern amenities and advanced technology, enhancing the overall driving experience. With extensive cargo space and customizable storage solutions, it caters to diverse business needs, making the Sprinter Cargo Van a top choice for those seeking a dependable, functional, and stylish cargo transport solution. Additionally, the 2024 model offers advanced safety and assistance features, with numerous infotainment options, making it not only practical but also a pleasure to drive.\n"
     ]
    },
    {
     "data": {
      "text/html": [
       "<img src=\"https://assets.oneweb.mercedes-benz.com/iris/iris.png?COSY-EU-100-1713d0VXq7XLqtyO67PobzIr3eWsrrCsdRRzwQZUOBJGE1UHFm9hMi9QC%25NjDd9wig8J2VSeI88qtsQj9RcUefRxXGsp71J0AJjwOB5O7ZbAC6bFI5zii9QC74mDkzB0zWm7ABCdhK5Yef%25vCV7EyLzLLlYa7WU2rHo32pn8knBuoimoT3M4hQ1NTg%25NDj6PwQAVSeZTcqtsF8sRcUw2vxXGZ281J0F20wOB9p4ZbADkEFI5TUi9QC6%25CDkzSVpWm7tqFdhKcq3f%25vXRsEyLJZWlYaORA2rHdHLpn8fvRuoiE1u3M41W0NTg7HNj6PNDuVSejh3qtsV%25qRcUqyexXGR2O1J0qJbwOBRVHZbAxqgFI519i9QCwDmDkzgfZWm7PY7dhKeref%25vsxDEyLvwLlYap5V2rHuospnIBJLfjsg0uBhabL3Y8wuiHvTTP5jC4WiC3Dz50h0wHwtabQSvcaMeTC0d=&BKGND=9&IMGT=P27&POV=BE040%2CPZM&im=Trim&fuzz=0.5&width=670\"/>"
      ],
      "text/plain": [
       "<IPython.core.display.Image object>"
      ]
     },
     "metadata": {},
     "output_type": "display_data"
    },
    {
     "name": "stdout",
     "output_type": "stream",
     "text": [
      "['https://assets.oneweb.mercedes-benz.com/iris/iris.png?COSY-EU-100-1713d0VXqrWFqtyO67PobzIr3eWsrrCsdRRzwQZgk4ZbMw3SGtxX2tsd1ZpcUfwMuXGEuGdJ0l34lOB2Ng1bApjkbI5uVmMQC3qSpkzNRJ9m7jxaShKV1TM%25vq9tcyLRDLVYaxW0SrH1dItn8wfV2oiZEqNM4FaIMTg9HzO6PD8LFSeWiwWtsd4oVcUfgX0XGEzyjJ0l70JOB2KBjbApvPpI5uLeDQC3aSrkzNHmnm7jQe3hKVPS9%25vqeUDyLRsnDYaxU4drH1zJ1n8w7VxoiZK%25XM4FvyMTg9L6O6PDaSmSeWH0Rtsd8kxcUfimWXGEWbSJ0lCYhOB2zr5bAp7TyI5uKMTQmIJwF1GY6PDLSpSeWvw5tsdPJdcUfeOyXGEs9EJ0lweROB2Ar%25bAp5ARI5uCeZQC3zhFkzN7lwm7jKh3hKUWP3IrZxD%25WLcZnfAVS%25qjuaa1frEROqEyJlfDADSjSiNsG8u4NLwaEDb=&BKGND=9&IMGT=P27&POV=BE040%2CPZM&im=Trim&fuzz=0.5&width=670']\n",
      "The Mercedes-Benz SL-Class, a grand touring sports car series by Mercedes-Benz, has been epitomized luxury and performance since its inception in 1954. Known for its prestige and distinctive design, the SL-Class evolves through generations, each incorporating state-of-the-art technology and performance enhancements. The latest generation, R232, introduces a significant sportier shift, having been developed by Mercedes-AMG. It features a striking design with an AMG-specific grille, long hood, and sophisticated interior laden with advanced technologies, such as high-resolution displays and customizable driving modes. The SL-Class offers powerful engine options like the 4.0-liter V8 biturbo, providing exhilarating acceleration and enhanced driving dynamics due to functionalities like rear axle steering and active roll stabilization. The modernized SL retains the classic soft fabric roof and adds practical elements like small rear seats and a spacious trunk, blending traditional luxury with contemporary richness and versatility. The Mercedes SL-Class continues to serve enthusiasts seeking a harmonious mix of elegance, advanced technology, and robust performance.\n"
     ]
    },
    {
     "data": {
      "text/html": [
       "<img src=\"https://assets.oneweb.mercedes-benz.com/iris/iris.png?COSY-EU-100-1713d0VXqrWFqtyO67PobzIr3eWsrrCsdRRzwQZgk4ZbMw3SGtxX2tsd1ZpcUfwMuXGEuGdJ0l34lOB2Ng1bApjkbI5uVmMQC3qSpkzNRJ9m7jxaShKV1TM%25vq9tcyLRDLVYaxW0SrH1dItn8wfV2oiZEqNM4FaIMTg9HzO6PD8LFSeWiwWtsd4oVcUfgX0XGEzyjJ0l70JOB2KBjbApvPpI5uLeDQC3aSrkzNHmnm7jQe3hKVPS9%25vqeUDyLRsnDYaxU4drH1zJ1n8w7VxoiZK%25XM4FvyMTg9L6O6PDaSmSeWH0Rtsd8kxcUfimWXGEWbSJ0lCYhOB2zr5bAp7TyI5uKMTQmIJwF1GY6PDLSpSeWvw5tsdPJdcUfeOyXGEs9EJ0lweROB2Ar%25bAp5ARI5uCeZQC3zhFkzN7lwm7jKh3hKUWP3IrZxD%25WLcZnfAVS%25qjuaa1frEROqEyJlfDADSjSiNsG8u4NLwaEDb=&BKGND=9&IMGT=P27&POV=BE040%2CPZM&im=Trim&fuzz=0.5&width=670\"/>"
      ],
      "text/plain": [
       "<IPython.core.display.Image object>"
      ]
     },
     "metadata": {},
     "output_type": "display_data"
    },
    {
     "name": "stdout",
     "output_type": "stream",
     "text": [
      "['https://assets.oneweb.mercedes-benz.com/iris/iris.png?COSY-EU-100-1713d0VXqaWFqtyO67PobzIr3eWsrrCsdRRzwQZxkIZbMw3SGtGyWtsd2sDcUfp8fXGEuiRJ0l3IJOB2NMcbApjTlI5ux5xQC31SrkzNBzkm7jAc3hKViSF%25vq4v%25yLRgOjYaxPr9rH1eOdn8wYAxoiZr6YM4FACuTg95vp6PDCIoSeWHmWtsd8J3cUfiMcXGE4TwJ0lgOrOB2PzqbApe79I5usr2QC32hOkzNLzkm7jaSthymI9WFAocUfa8MXGEsnYJ0lw4fOB2ABcbAp5iXI5uCmxQC3zSTkzN7lbm7sDgubYwR9hDvdeITpj6hVNpLLxdYfqJVf%25XEd9B96N683eUHpi3v1Lf9O=&BKGND=9&IMGT=P27&POV=BE040%2CPZM&im=Trim&fuzz=0.5&width=670']\n",
      "The Mercedes-Benz GLA is a compact luxury SUV that blends agility, comfort, and technology in a stylishly versatile package. Measuring around 4.41 meters in length with a ground clearance of 152 centimeters, it offers a spacious interior, including a boot capacity of 420 liters that can expand to 770 liters. The GLA features a range of engine options, including efficient diesel and dynamic gasoline engines, and a plug-in hybrid model (GLA 250 e) capable of a pure electric range of 48 kilometers. Designed with a blend of improved chassis for greater interior space and advanced infotainment systems, it provides a high-tech, user-friendly experience. Moreover, it is equipped with modern safety features like frontal collision warning and provides a comfortable yet agile ride, making the GLA a solid choice for those prioritizing luxury and sustainability without compromising on performance.\n"
     ]
    },
    {
     "data": {
      "text/html": [
       "<img src=\"https://assets.oneweb.mercedes-benz.com/iris/iris.png?COSY-EU-100-1713d0VXqaWFqtyO67PobzIr3eWsrrCsdRRzwQZxkIZbMw3SGtGyWtsd2sDcUfp8fXGEuiRJ0l3IJOB2NMcbApjTlI5ux5xQC31SrkzNBzkm7jAc3hKViSF%25vq4v%25yLRgOjYaxPr9rH1eOdn8wYAxoiZr6YM4FACuTg95vp6PDCIoSeWHmWtsd8J3cUfiMcXGE4TwJ0lgOrOB2PzqbApe79I5usr2QC32hOkzNLzkm7jaSthymI9WFAocUfa8MXGEsnYJ0lw4fOB2ABcbAp5iXI5uCmxQC3zSTkzN7lbm7sDgubYwR9hDvdeITpj6hVNpLLxdYfqJVf%25XEd9B96N683eUHpi3v1Lf9O=&BKGND=9&IMGT=P27&POV=BE040%2CPZM&im=Trim&fuzz=0.5&width=670\"/>"
      ],
      "text/plain": [
       "<IPython.core.display.Image object>"
      ]
     },
     "metadata": {},
     "output_type": "display_data"
    },
    {
     "name": "stdout",
     "output_type": "stream",
     "text": [
      "['https://assets.oneweb.mercedes-benz.com/iris/iris.png?COSY-EU-100-1713d0VXq4EFqtyO67PobzIr3eWsrrCsdRRzwQZgk4ZbMw3SGtlK9tsd2HtcUfp8qXGEubSJ0l3otOB2NW5bApjtwI5uxo%25QC31CrkzNBTnm7jA7mhKV5Yh%25vqCu%25yLRzYXYaxPXWrH1eJtn8ws8noiZUidM4FGSMTg90h26PDB%256SeWAtItsd5cxcUfSLWXGEtbSJ0lLHJOB2a8RbApenpI5us5xQC3Uh1kzNG%25Km7j0OIhKVBbV%25vqAIayLR5YXYaxC4WrH1zgOn8w7XxoiZxbXM4F1IrTg9wb36PDGmhSc6o3ju8b%25vqBvTyLR0GWYaxvaprH1LBdn8waAcoiZHqZM4FgIJTg9PQk6PDePoSeWsKMtsdUJ3cUfGX6XGHRvW6INpqJRHiaBqREyJlfDAAu1Iw2MlwOoZ1qgqyfyzda8CD7dB3AwqT=&BKGND=9&IMGT=P27&POV=BE040%2CPZM&im=Trim&fuzz=0.5&width=670']\n",
      "The Mercedes GLE is an exceptional midsize luxury SUV that epitomizes the blend of elegance, state-of-the-art technology, and robust performance. Available in various powerful engine options, this SUV provides a dynamic and smooth driving experience. It features a spacious and luxurious interior, equipped with high-quality materials and advanced technology options like the MBUX infotainment system. Externally, the GLE boasts a striking design with redesigned bumpers and distinctive headlights. An array of safety and driver assistance systems ensures a secure driving environment. Whether opting for the standard model or the performance-focused AMG variants like the GLE 53 4MATIC+ or the GLE 63S 4MATIC, the Mercedes GLE offers a blend of luxury, performance, and practicality to satisfy even the most discerning luxury SUV enthusiasts.\n"
     ]
    },
    {
     "data": {
      "text/html": [
       "<img src=\"https://assets.oneweb.mercedes-benz.com/iris/iris.png?COSY-EU-100-1713d0VXq4EFqtyO67PobzIr3eWsrrCsdRRzwQZgk4ZbMw3SGtlK9tsd2HtcUfp8qXGEubSJ0l3otOB2NW5bApjtwI5uxo%25QC31CrkzNBTnm7jA7mhKV5Yh%25vqCu%25yLRzYXYaxPXWrH1eJtn8ws8noiZUidM4FGSMTg90h26PDB%256SeWAtItsd5cxcUfSLWXGEtbSJ0lLHJOB2a8RbApenpI5us5xQC3Uh1kzNG%25Km7j0OIhKVBbV%25vqAIayLR5YXYaxC4WrH1zgOn8w7XxoiZxbXM4F1IrTg9wb36PDGmhSc6o3ju8b%25vqBvTyLR0GWYaxvaprH1LBdn8waAcoiZHqZM4FgIJTg9PQk6PDePoSeWsKMtsdUJ3cUfGX6XGHRvW6INpqJRHiaBqREyJlfDAAu1Iw2MlwOoZ1qgqyfyzda8CD7dB3AwqT=&BKGND=9&IMGT=P27&POV=BE040%2CPZM&im=Trim&fuzz=0.5&width=670\"/>"
      ],
      "text/plain": [
       "<IPython.core.display.Image object>"
      ]
     },
     "metadata": {},
     "output_type": "display_data"
    },
    {
     "name": "stdout",
     "output_type": "stream",
     "text": [
      "['https://assets.oneweb.mercedes-benz.com/iris/iris.png?COSY-EU-100-1713d0VXqrWFqtyO67PobzIr3eWsrrCsdRRzwQZgk4ZbMw3SGtlaStsd2J%25cUfpFNXGEuTRJ0lVYpOB2qBqbApRdXI5uGoYQC30C3kzNBUbm7jAyvhKV5ph%25vq4t9yLRgc6YaxPadrH1eHDn8wsocoiZKbZM4Fv4lTg9Lt26PDa1FSeWHnMtsd8c%25cUfiANXGE45mJ0lgCfOB2frcbAp7oMIkbX1ZxUyTg9vQn6PDK1ASeWgXhtsdPZ3cUfxgXXGE0aBJ0lBDrOB2AbEbA4wHEcmqN1IwCQKEFwpnIu2fzzjFm93Su9Q6DF1s1n2nvligKfLlCVz91t=&BKGND=9&IMGT=P27&POV=BE040%2CPZM&im=Trim&fuzz=0.5&width=670']\n",
      "The Mercedes-AMG GT 4-Door Coupe is a sophisticated blend of luxury, high performance, and innovation, designed for both everyday practicality and thrilling driving experiences. Equipped with a powerful AMG 4.0-liter V8 Biturbo engine alongside a choice of various powertrains, this model can reach top speeds of up to 316 km/h and offers acceleration as impressive as 0 to 100 km/h in just 2.9 seconds, depending on the variant. It features cutting-edge technologies like 4MATIC+ all-wheel drive, rear-axle steering, and AMG Dynamics for enhanced agility. The vehicle is available in several models including the performance-hybrid GT 63 S E PERFORMANCE, which provides sustainable power with superior acceleration. Its expressive exterior design and customizable luxury interior, featuring the latest in infotainment systems and high-class finishes, make it a standout in the four-door sports car segment. This model truly embodies a union of comfort, style, and peak performance capability.\n"
     ]
    },
    {
     "data": {
      "text/html": [
       "<img src=\"https://assets.oneweb.mercedes-benz.com/iris/iris.png?COSY-EU-100-1713d0VXqrWFqtyO67PobzIr3eWsrrCsdRRzwQZgk4ZbMw3SGtlaStsd2J%25cUfpFNXGEuTRJ0lVYpOB2qBqbApRdXI5uGoYQC30C3kzNBUbm7jAyvhKV5ph%25vq4t9yLRgc6YaxPadrH1eHDn8wsocoiZKbZM4Fv4lTg9Lt26PDa1FSeWHnMtsd8c%25cUfiANXGE45mJ0lgCfOB2frcbAp7oMIkbX1ZxUyTg9vQn6PDK1ASeWgXhtsdPZ3cUfxgXXGE0aBJ0lBDrOB2AbEbA4wHEcmqN1IwCQKEFwpnIu2fzzjFm93Su9Q6DF1s1n2nvligKfLlCVz91t=&BKGND=9&IMGT=P27&POV=BE040%2CPZM&im=Trim&fuzz=0.5&width=670\"/>"
      ],
      "text/plain": [
       "<IPython.core.display.Image object>"
      ]
     },
     "metadata": {},
     "output_type": "display_data"
    },
    {
     "name": "stdout",
     "output_type": "stream",
     "text": [
      "['https://assets.oneweb.mercedes-benz.com/iris/iris.png?COSY-EU-100-1713d0VXqaWFqtyO67PobzIr3eWsrrCsdRRzwQZg9BZbMw3SGtGyWtsd2sDcUfp8fXGEuiRJ0l3IJOB2NMcbApRTyI5uGoxQC30SpkzNHTwm7j87mhKVis3%25vq4y9yLRgYFYaxPJWrH1yBRn8wYTyoiZB7lM4FAOrTg9LQ96PDacpSeWHnStsd8oxcUfiXyXGE45wJ0lg%25fOB2znobQOcxwRs%25M4FzKyTg9itk6PD4%25NSeWgyhtsdRHQcUfGU6XGE0aSJ0lBIVOB2AMnbAp5dXI5gZ8lXhRjwQZgV4Tu8uoQ3pE77V9hDNt3DkSW9wUwopoL24PvEa2zq7Dwc=&BKGND=9&IMGT=P27&POV=BE040%2CPZM&im=Trim&fuzz=0.5&width=670']\n",
      "The Mercedes-Benz A-Class is a versatile and dynamic compact luxury car that has evolved significantly across its generations since its introduction in 1997. Notably compact with a front-engine, front-wheel-drive layout, the A-Class is available as both a hatchback and sedan. It is Mercedes-Benz's entry-level model designed with a focus on balancing sophistication and performance. The A-Class features a range of advanced technologies and luxury amenities, including modern infotainment systems, plush interiors, and comprehensive driver assistance packages. Depending on the model and configuration, it offers various engine options including petrol, diesel, and hybrid variants. The A-Class is appreciated for its high-quality interior, performance dynamics, and solid safety features, making it a popular choice for those seeking a luxury vehicle in a compact form.\n"
     ]
    },
    {
     "data": {
      "text/html": [
       "<img src=\"https://assets.oneweb.mercedes-benz.com/iris/iris.png?COSY-EU-100-1713d0VXqaWFqtyO67PobzIr3eWsrrCsdRRzwQZg9BZbMw3SGtGyWtsd2sDcUfp8fXGEuiRJ0l3IJOB2NMcbApRTyI5uGoxQC30SpkzNHTwm7j87mhKVis3%25vq4y9yLRgYFYaxPJWrH1yBRn8wYTyoiZB7lM4FAOrTg9LQ96PDacpSeWHnStsd8oxcUfiXyXGE45wJ0lg%25fOB2znobQOcxwRs%25M4FzKyTg9itk6PD4%25NSeWgyhtsdRHQcUfGU6XGE0aSJ0lBIVOB2AMnbAp5dXI5gZ8lXhRjwQZgV4Tu8uoQ3pE77V9hDNt3DkSW9wUwopoL24PvEa2zq7Dwc=&BKGND=9&IMGT=P27&POV=BE040%2CPZM&im=Trim&fuzz=0.5&width=670\"/>"
      ],
      "text/plain": [
       "<IPython.core.display.Image object>"
      ]
     },
     "metadata": {},
     "output_type": "display_data"
    },
    {
     "name": "stdout",
     "output_type": "stream",
     "text": [
      "['https://assets.oneweb.mercedes-benz.com/iris/iris.png?COSY-EU-100-1713d0VXq0WFqtyO67PobzIr3eWsrrCsdRRzwQZg9pZbMw3SGtGyWtsd2vtcUfp8cXGEuiRJ0l3IrOB2NzObApRAlI5ux4uQC31gFkzNwtnm7jZaShKV5SM%25vqCv%25yLRzAHYax75prH1KMrn8wvT2oiZUbXM4FG4fTg90v36PDB%25pSeWAtItsd5cxcUfCXyXGEzYmJ0l7%25lOB2aScbApHtwI5u8rJQC3UM3kzNGzwm7j0yZhKVBY9%25vqAIkyLR5QVYaxCrhrH1znOn8w7PcoiZKJ1M4FsmJTg9Ukm6tTnuNpHOhKV0SN%25vqGJfyLRKG6Yaxv0JrH1LIln8waIdoiZ3UUM4FgCuTg9Pze6PDecpSeWsXhtsLV79MOuljcVGXvGS7dhcfWF002ROxEnfxXr1RjijhWh5DvaAFCDGp0xjo=&BKGND=9&IMGT=P27&POV=BE040%2CPZM&im=Trim&fuzz=0.5&width=670']\n",
      "The Mercedes EQS SUV is the first fully electric luxury SUV from Mercedes-EQ, offering up to seven seats for enhanced travel comfort and flexibility. It combines cutting-edge technology, luxurious amenities, and impressive performance, representing a significant step in Mercedes's electric vehicle lineup. The SUV features aerodynamically optimized designs and various wheelbase and battery size options with configurations available in both rear-wheel and all-wheel drives. Its excellent aerodynamics and optimized resistance contribute to efficient performance, with test models like the 450+ and 580 reaching ranges of up to 575 and 530 kilometers respectively under optimal conditions. The interior boasts a luxurious and comfortable driving experience, with advanced technology including an optional \"Hyperscreen\" cockpit display, superb soundproofing, and air suspension. Despite its considerable size, the EQS SUV maintains agile handling and fast-charging capabilities, offering a charge of up to 80% in just over half an hour using a CCS connector.\n"
     ]
    },
    {
     "data": {
      "text/html": [
       "<img src=\"https://assets.oneweb.mercedes-benz.com/iris/iris.png?COSY-EU-100-1713d0VXq0WFqtyO67PobzIr3eWsrrCsdRRzwQZg9pZbMw3SGtGyWtsd2vtcUfp8cXGEuiRJ0l3IrOB2NzObApRAlI5ux4uQC31gFkzNwtnm7jZaShKV5SM%25vqCv%25yLRzAHYax75prH1KMrn8wvT2oiZUbXM4FG4fTg90v36PDB%25pSeWAtItsd5cxcUfCXyXGEzYmJ0l7%25lOB2aScbApHtwI5u8rJQC3UM3kzNGzwm7j0yZhKVBY9%25vqAIkyLR5QVYaxCrhrH1znOn8w7PcoiZKJ1M4FsmJTg9Ukm6tTnuNpHOhKV0SN%25vqGJfyLRKG6Yaxv0JrH1LIln8waIdoiZ3UUM4FgCuTg9Pze6PDecpSeWsXhtsLV79MOuljcVGXvGS7dhcfWF002ROxEnfxXr1RjijhWh5DvaAFCDGp0xjo=&BKGND=9&IMGT=P27&POV=BE040%2CPZM&im=Trim&fuzz=0.5&width=670\"/>"
      ],
      "text/plain": [
       "<IPython.core.display.Image object>"
      ]
     },
     "metadata": {},
     "output_type": "display_data"
    },
    {
     "name": "stdout",
     "output_type": "stream",
     "text": [
      "['https://assets.adac.de/image/upload/w_898/Autodatenbank/GWInfo/gw0281-mercedes-benz-glk-klasse-2008-2015-diesel.jpg']\n",
      "The Mercedes GLK-Class is a compact luxury crossover SUV that debuted in 2008 as part of the 2010 model year. Boasting the elegance and power typical of Mercedes-Benz, the GLK-Class combines a sturdy yet agile chassis with a luxurious interior, making it ideal for those seeking both performance and comfort. Available with both gasoline and diesel engine options, the GLK offers impressive driving dynamics, thanks to its well-tuned suspension and strong brake performance. The cabin is equipped with advanced technology and premium materials, emphasizing the vehicle's commitment to quality and driver satisfaction. The GLK-Class effectively merges the practicality of an SUV with the prestige and refined experience expected from Mercedes-Benz.\n"
     ]
    },
    {
     "data": {
      "text/html": [
       "<img src=\"https://assets.adac.de/image/upload/w_898/Autodatenbank/GWInfo/gw0281-mercedes-benz-glk-klasse-2008-2015-diesel.jpg\"/>"
      ],
      "text/plain": [
       "<IPython.core.display.Image object>"
      ]
     },
     "metadata": {},
     "output_type": "display_data"
    },
    {
     "name": "stdout",
     "output_type": "stream",
     "text": [
      "['https://assets.oneweb.mercedes-benz.com/iris/iris.png?COSY-EU-100-1713d0VXq7XLqtyO67PobzIr3eWsrrCsdRRzwQZUOBJGE1UHFm9hMi9QC%25NjDd9wig8J2VSeI88qtsQj9RcUefRxXGsp71J0AJjwOB5O7ZbAC6bFI5zii9QC74mDkzB0zWm7ABCdhK5Yef%25vCV7EyLzLLlYa7WU2rHo32pn8knBuoimoT3M4hQ1NTg%25NDj6PwQAVSeZTcqtsF8sRcUw2vxXGZ281J0F20wOB9p4ZbADkEFI5TUi9QC6%25CDkzSVpWm7tqFdhKcq3f%25vXRsEyLJZWlYaORA2rHdHLpn8fvRuoiE1u3M41W0NTg7HNj6PNDuVSejh3qtsV%25qRcUqyexXGR2O1J0qJbwOBRVHZbAxqgFI519i9QCwDmDkzgfZWm7PY7dhKeref%25vsxDEyLvwLlYap5V2rHuospnIBJLfjsg0uBhabL3Y8wuiHvTTP5jC4WiC3Dz50h0wHwtabQSvcaMeTC0d=&BKGND=9&IMGT=P27&POV=BE040%2CPZM&im=Trim&fuzz=0.5&width=670']\n",
      "The Mercedes Metris Passenger Van is celebrated for its versatility, robust performance, and high-quality craftsmanship, making it a prime choice for both personal and business transportation needs. Equipped with a turbocharged four-cylinder engine delivering 208 horsepower and paired with a nine-speed automatic transmission, it showcases impressive capabilities such as a towing capacity of up to 5,000 pounds and a payload capacity of up to 2,425 pounds. The van can comfortably seat up to eight passengers, offering 38 cubic feet of cargo space behind the seats, and is fitted with a 7.0-inch touchscreen infotainment system that supports Apple CarPlay and Android Auto. Additional safety features like crosswind assist and driver-attention monitoring enhance the secure and attentive driving experience. Overall, the Metris Passenger Van combines efficiency, flexible seating arrangements, and advanced connectivity features to cater to a range of transportation needs, concluding its production run in the U.S. in 2023 with an enduring commitment to quality and performance.\n"
     ]
    },
    {
     "data": {
      "text/html": [
       "<img src=\"https://assets.oneweb.mercedes-benz.com/iris/iris.png?COSY-EU-100-1713d0VXq7XLqtyO67PobzIr3eWsrrCsdRRzwQZUOBJGE1UHFm9hMi9QC%25NjDd9wig8J2VSeI88qtsQj9RcUefRxXGsp71J0AJjwOB5O7ZbAC6bFI5zii9QC74mDkzB0zWm7ABCdhK5Yef%25vCV7EyLzLLlYa7WU2rHo32pn8knBuoimoT3M4hQ1NTg%25NDj6PwQAVSeZTcqtsF8sRcUw2vxXGZ281J0F20wOB9p4ZbADkEFI5TUi9QC6%25CDkzSVpWm7tqFdhKcq3f%25vXRsEyLJZWlYaORA2rHdHLpn8fvRuoiE1u3M41W0NTg7HNj6PNDuVSejh3qtsV%25qRcUqyexXGR2O1J0qJbwOBRVHZbAxqgFI519i9QCwDmDkzgfZWm7PY7dhKeref%25vsxDEyLvwLlYap5V2rHuospnIBJLfjsg0uBhabL3Y8wuiHvTTP5jC4WiC3Dz50h0wHwtabQSvcaMeTC0d=&BKGND=9&IMGT=P27&POV=BE040%2CPZM&im=Trim&fuzz=0.5&width=670\"/>"
      ],
      "text/plain": [
       "<IPython.core.display.Image object>"
      ]
     },
     "metadata": {},
     "output_type": "display_data"
    },
    {
     "name": "stdout",
     "output_type": "stream",
     "text": [
      "['https://assets.oneweb.mercedes-benz.com/iris/iris.png?COSY-EU-100-1713d0VXqaW7qtyO67PobzIr3eWsrrCsdRRzwQZ6TfZbMw3SGtle9tsd2HdcUfp8qXGEubmJ0l3ItOB2NQnbApjtwI5uVQDQC31MjkzNwzwm7jZeohKVFXM%25vqCvqyLRz3RYaxPXWrH1eHDn8wsQfoiZUMEM4FGTjTg9ovn6PDC%25qSeWzy3tsd8hdcUfiONXGE4nXJ0lgDfOB2PSObApeIyI5usQMQC3UvrkzNGLdm7j0M3hKVHtc%25YhQDd95MXGEiydJ0l846OB2GB2bAp0AwI5u9QzQC3zCOkzN7Pbm7jKeDhKUWP3IrZxD%25WLNhcRZVS%25qjuaa1frEROqEyJlfDADSjSiNsG8u4NLwaEDb=&BKGND=9&IMGT=P27&POV=BE040%2CPZM&im=Trim&fuzz=0.5&width=670']\n",
      "The Mercedes C-Class Cabriolet is a sleek and luxurious convertible that blends performance with elegance. It offers a versatile fabric roof that can be retracted to provide an open-air driving sensation, ideal for sunny drives. With engine choices ranging from a 1.6-liter gasoline to potent AMG versions, the car caters to various preferences for speed and power. Notable for its sporty yet comfortable driving dynamics, the C-Class Cabriolet also ensures a smooth ride with a nine-speed automatic transmission across most models. While offering sufficient trunk space of 360 liters, it represents a great choice for those valuing style, performance, and a touch of exclusivity in a convertible.\n"
     ]
    },
    {
     "data": {
      "text/html": [
       "<img src=\"https://assets.oneweb.mercedes-benz.com/iris/iris.png?COSY-EU-100-1713d0VXqaW7qtyO67PobzIr3eWsrrCsdRRzwQZ6TfZbMw3SGtle9tsd2HdcUfp8qXGEubmJ0l3ItOB2NQnbApjtwI5uVQDQC31MjkzNwzwm7jZeohKVFXM%25vqCvqyLRz3RYaxPXWrH1eHDn8wsQfoiZUMEM4FGTjTg9ovn6PDC%25qSeWzy3tsd8hdcUfiONXGE4nXJ0lgDfOB2PSObApeIyI5usQMQC3UvrkzNGLdm7j0M3hKVHtc%25YhQDd95MXGEiydJ0l846OB2GB2bAp0AwI5u9QzQC3zCOkzN7Pbm7jKeDhKUWP3IrZxD%25WLNhcRZVS%25qjuaa1frEROqEyJlfDADSjSiNsG8u4NLwaEDb=&BKGND=9&IMGT=P27&POV=BE040%2CPZM&im=Trim&fuzz=0.5&width=670\"/>"
      ],
      "text/plain": [
       "<IPython.core.display.Image object>"
      ]
     },
     "metadata": {},
     "output_type": "display_data"
    },
    {
     "name": "stdout",
     "output_type": "stream",
     "text": [
      "['https://assets.oneweb.mercedes-benz.com/iris/iris.png?COSY-EU-100-1713d0VXqNEFqtyO67PobzIr3eWsrrCsdRRzwQZUkRZbMw3SGtlaStsd2JQcUfpO6XGEubXJ0l3otOB2NS1bApRAlI5ux4YQC31gFkzNwUnm7jZcohKVF%25Q%25vq98ZyLRzLyYax7NxrH1eJdn8wsOcoiZUioM4FG41Tg90gE6PDBSqSeWAhItsd5kdcUfSLWXGEt9mJ0lLHJOB2a8RbApHtXI5u8MYQC3UM3kzNGzwm7j0yZhKVBpN%25vqAITyLR5QVYaxCrhrH1znOn8w7PfoiZKeXM4FvsjTg9LbZ6PDG%25bSeW0h%25tXSMNV3iIyLR0OEYaxvaprH1LBOn8wazcoiZH7pM4F8SQTg9ih36PDVBBSeWsKjtsdUvGcUfGONXGE0bYJ08xLdSQjuROxAbUdyjlYO2EW553wQZpT2ZbMFwRPRYEY7fHizWKfAN5ZR6=&BKGND=9&IMGT=P27&POV=BE040%2CPZM&im=Trim&fuzz=0.5&width=670']\n",
      "The Mercedes EQE SUV is a cutting-edge electric SUV that offers a blend of performance, efficiency, and luxury. It comes in various models including the EQE 300, EQE 350, and EQE 500 with options for rear-wheel or all-wheel drive. Its WLTP range extends up to 596 kilometers on a single charge, thanks to efficient aerodynamics and a sophisticated propulsion system. The interior is generous in space, featuring high-quality materials and advanced technology such as the optional Hyperscreen. Performance-wise, it excels with smooth acceleration and multiple driving modes to suit different preferences. The EQE SUV starts at roughly €83,478, offering a sustainable yet luxurious option for modern drivers seeking the reliability of a Mercedes with the benefits of electric mobility.\n"
     ]
    },
    {
     "data": {
      "text/html": [
       "<img src=\"https://assets.oneweb.mercedes-benz.com/iris/iris.png?COSY-EU-100-1713d0VXqNEFqtyO67PobzIr3eWsrrCsdRRzwQZUkRZbMw3SGtlaStsd2JQcUfpO6XGEubXJ0l3otOB2NS1bApRAlI5ux4YQC31gFkzNwUnm7jZcohKVF%25Q%25vq98ZyLRzLyYax7NxrH1eJdn8wsOcoiZUioM4FG41Tg90gE6PDBSqSeWAhItsd5kdcUfSLWXGEt9mJ0lLHJOB2a8RbApHtXI5u8MYQC3UM3kzNGzwm7j0yZhKVBpN%25vqAITyLR5QVYaxCrhrH1znOn8w7PfoiZKeXM4FvsjTg9LbZ6PDG%25bSeW0h%25tXSMNV3iIyLR0OEYaxvaprH1LBOn8wazcoiZH7pM4F8SQTg9ih36PDVBBSeWsKjtsdUvGcUfGONXGE0bYJ08xLdSQjuROxAbUdyjlYO2EW553wQZpT2ZbMFwRPRYEY7fHizWKfAN5ZR6=&BKGND=9&IMGT=P27&POV=BE040%2CPZM&im=Trim&fuzz=0.5&width=670\"/>"
      ],
      "text/plain": [
       "<IPython.core.display.Image object>"
      ]
     },
     "metadata": {},
     "output_type": "display_data"
    },
    {
     "name": "stdout",
     "output_type": "stream",
     "text": [
      "['https://assets.oneweb.mercedes-benz.com/iris/iris.png?COSY-EU-100-1713d0VXq0SFqtyO67PobzIr3eWsrrCsdRRzwQZg9pZbMw3SGtlaWtsd2HVcUfpO6XGEubXJ0l3otOB2NMEbApjtwI5ux5xQC31SrkzNBTwm7jA7mhKV5Yh%25vqCJjyLRz3yYaxPXWrH1eJtn8ws8noiZUidM4FGR1Tg906O6PDBSsSeWAhutsd6vDcUfSO6XGEvajJ0lL4qOB2aScbApHtxI5u8ruQC3UM3kzNG%25wm7j0cmhKVBbh%25vqAIlyLR5YXYaxC4WrH1zgun8w7XxoiZx6YM4F1mlTg9Ukm6tTnuNpHOhKVU9QC6VgDkzIqgWm7s08dhK%25hqf%25vycDEyLYXrlYarJv2rHn30pn8o9ZuoiMvl3Mk5bHlqGeAN56zQH4b4FNgiaSSszq7Pfg7jdKzAyAFiFX8QmcaJ86US7AE=&BKGND=9&IMGT=P27&POV=BE040%2CPZM&im=Trim&fuzz=0.5&width=670']\n",
      "The Mercedes GLB is a compact luxury SUV that blends versatility, style, and advanced technology. Positioned between the GLA and GLC in the Mercedes-Benz lineup, it offers an optional third-row seating for up to seven passengers, making it an excellent choice for families. The interior is spacious with a cargo capacity ranging from 570 to 1,805 liters. It's equipped with the latest Mercedes-Benz User Experience (MBUX) system and available 4Matic all-wheel drive, adapting well to off-road conditions. Engine options range from 116 PS to 306 PS across diesel and gasoline variants. Notably, the GLB looks robust yet maintains a luxurious feel and incorporates extensive safety features, making it a highly practical SUV for both daily use and leisure outings. It starts at approximately 47,000 euros, reflecting its premium SUV status within the competitive market.\n"
     ]
    },
    {
     "data": {
      "text/html": [
       "<img src=\"https://assets.oneweb.mercedes-benz.com/iris/iris.png?COSY-EU-100-1713d0VXq0SFqtyO67PobzIr3eWsrrCsdRRzwQZg9pZbMw3SGtlaWtsd2HVcUfpO6XGEubXJ0l3otOB2NMEbApjtwI5ux5xQC31SrkzNBTwm7jA7mhKV5Yh%25vqCJjyLRz3yYaxPXWrH1eJtn8ws8noiZUidM4FGR1Tg906O6PDBSsSeWAhutsd6vDcUfSO6XGEvajJ0lL4qOB2aScbApHtxI5u8ruQC3UM3kzNG%25wm7j0cmhKVBbh%25vqAIlyLR5YXYaxC4WrH1zgun8w7XxoiZx6YM4F1mlTg9Ukm6tTnuNpHOhKVU9QC6VgDkzIqgWm7s08dhK%25hqf%25vycDEyLYXrlYarJv2rHn30pn8o9ZuoiMvl3Mk5bHlqGeAN56zQH4b4FNgiaSSszq7Pfg7jdKzAyAFiFX8QmcaJ86US7AE=&BKGND=9&IMGT=P27&POV=BE040%2CPZM&im=Trim&fuzz=0.5&width=670\"/>"
      ],
      "text/plain": [
       "<IPython.core.display.Image object>"
      ]
     },
     "metadata": {},
     "output_type": "display_data"
    },
    {
     "name": "stdout",
     "output_type": "stream",
     "text": [
      "['https://assets.oneweb.mercedes-benz.com/iris/iris.png?COSY-EU-100-1713d0VXqaJeqtyO67PobzIr3eWsrrCsdRRzwQZQ9vZbMw3SGtGyStsd2HtcUfp8qXGEubmJ0l3ItOB2NQnbApjdCI5uVcZQC3qkWkzNwTVm7jZ7ZhKVFKh%25vq9vjyLRDG6YaxWbSrH1KHrn8wvTwoiZLqZM4FGIlTg90QO6PDBPlSeWAtItsd5cxcUfKM6XGEv5RJ0lgYJOB2PQqbApeTbI5usf2QC3UXQkzNGmnm7j0hShKVBHM%25vqA8lyLR5SVYax4JOroYhfld7SbApPdpI5ug6FQC3AgTkzN5Unm7jCcDhKVf5c%25vqLUkyLRaGfYaxH08rH18BOn8wizwoiZ4epM4zuA1YtEWpTuPwMkDEFIT9ZxeedNtjD%259j6hVNpLpIZIGwC7Ux0wPfejpy=&BKGND=9&IMGT=P27&POV=BE040%2CPZM&im=Trim&fuzz=0.5&width=670']\n",
      "The Mercedes C-Class Coupe is a luxurious and technologically advanced vehicle that features a distinctive exterior and updated technology for enhanced comfort and accessibility. This car boasts a modern design with a prominent diamond grille, LED headlights, and a sleek body shape that emphasizes its sophistication. Inside, the Coupe is equipped with a cutting-edge digital cockpit, a high-resolution central touchscreen, smartphone integration, and an updated control system that features a touchpad. For performance, it offers dynamic handling with an adaptive suspension system allowing a superb balance between comfort and a satisfying driving experience. The cockpit is also equipped with state-of-the-art features like autonomous driving capabilities, adaptive cruise control, and lane-keeping assist. Overall, the C-Class Coupe represents a blend of elegance and innovation, making it a standout choice in the luxury coupe market.\n"
     ]
    },
    {
     "data": {
      "text/html": [
       "<img src=\"https://assets.oneweb.mercedes-benz.com/iris/iris.png?COSY-EU-100-1713d0VXqaJeqtyO67PobzIr3eWsrrCsdRRzwQZQ9vZbMw3SGtGyStsd2HtcUfp8qXGEubmJ0l3ItOB2NQnbApjdCI5uVcZQC3qkWkzNwTVm7jZ7ZhKVFKh%25vq9vjyLRDG6YaxWbSrH1KHrn8wvTwoiZLqZM4FGIlTg90QO6PDBPlSeWAtItsd5cxcUfKM6XGEv5RJ0lgYJOB2PQqbApeTbI5usf2QC3UXQkzNGmnm7j0hShKVBHM%25vqA8lyLR5SVYax4JOroYhfld7SbApPdpI5ug6FQC3AgTkzN5Unm7jCcDhKVf5c%25vqLUkyLRaGfYaxH08rH18BOn8wizwoiZ4epM4zuA1YtEWpTuPwMkDEFIT9ZxeedNtjD%259j6hVNpLpIZIGwC7Ux0wPfejpy=&BKGND=9&IMGT=P27&POV=BE040%2CPZM&im=Trim&fuzz=0.5&width=670\"/>"
      ],
      "text/plain": [
       "<IPython.core.display.Image object>"
      ]
     },
     "metadata": {},
     "output_type": "display_data"
    },
    {
     "name": "stdout",
     "output_type": "stream",
     "text": [
      "['https://assets.oneweb.mercedes-benz.com/iris/iris.png?COSY-EU-100-1713d0VXqNEFqtyO67PobzIr3eWsrrCsdRRzwQZgkfZbMw3SGtle9tsd2HtcUfp8qXGEu9BJ0lV0VOB2qg%25bApRTyI5uG5IQC30SpkzNBlkm7j86ZhKViKh%25vq4vZyLRgnVYaxPoVrH1entn8wso4oiZrb1M4FnKrTg95z26PDCLuSeWznMtsd7oNcUfKmfXGE4yEJ0lgIVOB2PMObApeToI5uscIQC3UXWkzNGm6m7j0aZhKVBHE%25vqA6jyLRjnmYaxVbWrH1gObnMr%25E2fKtI5ug6FQC3Ah3kzN5%256m7jCcDhKVf5w%25vqLUkyLRaGHYaxHoErH18IOn8wiVyoiCpBxySfD2Mpg32x2fZbMFwRPPW3SN9hFNTmj32v2bwbU15zsRG1gdPN2%25=&BKGND=9&IMGT=P27&POV=BE040%2CPZM&im=Trim&fuzz=0.5&width=670']\n",
      "The Mercedes EQB is a versatile and fully electric SUV designed to cater to both family needs and sustainability goals. With options for up to seven seats, the EQB combines the luxury and advanced technology expected from Mercedes-Benz. It stands out with its distinctive design, featuring a Black-Panel grille and continuous light strip at both the front and rear. The interior is crafted with high-quality materials and the latest in driving assistance technologies, ensuring comfort, convenience, and safety. Performance-wise, the EQB provides a solid electric drive system with thoughtful features like predictive navigation with Electric Intelligence and an ECO Assistant for efficient energy management. The vehicle offers a range of about 300 to 421 kilometers per charge, depending on the model, and supports FC fast charging, which can recharge the battery from 10 to 80% in just around 30 minutes. Safety is also a priority, with numerous features designed to protect passengers and pedestrians alike, making the EQB a smart choice for those seeking a premium and environmentally friendly driving experience.\n"
     ]
    },
    {
     "data": {
      "text/html": [
       "<img src=\"https://assets.oneweb.mercedes-benz.com/iris/iris.png?COSY-EU-100-1713d0VXqNEFqtyO67PobzIr3eWsrrCsdRRzwQZgkfZbMw3SGtle9tsd2HtcUfp8qXGEu9BJ0lV0VOB2qg%25bApRTyI5uG5IQC30SpkzNBlkm7j86ZhKViKh%25vq4vZyLRgnVYaxPoVrH1entn8wso4oiZrb1M4FnKrTg95z26PDCLuSeWznMtsd7oNcUfKmfXGE4yEJ0lgIVOB2PMObApeToI5uscIQC3UXWkzNGm6m7j0aZhKVBHE%25vqA6jyLRjnmYaxVbWrH1gObnMr%25E2fKtI5ug6FQC3Ah3kzN5%256m7jCcDhKVf5w%25vqLUkyLRaGHYaxHoErH18IOn8wiVyoiCpBxySfD2Mpg32x2fZbMFwRPPW3SN9hFNTmj32v2bwbU15zsRG1gdPN2%25=&BKGND=9&IMGT=P27&POV=BE040%2CPZM&im=Trim&fuzz=0.5&width=670\"/>"
      ],
      "text/plain": [
       "<IPython.core.display.Image object>"
      ]
     },
     "metadata": {},
     "output_type": "display_data"
    },
    {
     "name": "stdout",
     "output_type": "stream",
     "text": [
      "['https://images.oneweb.mercedes-benz.com/iris/europe/DE/465250/X23_054/iris.webp?q=COSY-EU-100-1713d0VXqbWFqtyO67PobzIr3eWsrrCsdRRzwQZgk4ZbMw3SGtGyWtsd2HdcUfp8yXGEPGEJ0l7YhOB2XQcbApeARI5usmxQC3UnpkzNL2nm7jicohKV4PQ%25vqga9yLRNyfYaxj%25WrH1MQdn8w5VUoiZH6EM4F8yPTg9jLk6PDV4pSeWqZItsdTc3cUfGXWXGERbSJ0lbHJOB2MM%25bApdrXI5gZ8lXhRjwQZteHP9UuoQ3pE7EJxJeRB5PVsRiD4Nhc8An&BKGND=9&IMGT=W27&POV=BE090&imwidth=650&uni=m']\n",
      "The Mercedes G-Class, known for its iconic design and robust off-road capabilities, epitomizes luxury and performance. Since its debut in 1979, it has continually improved, now offering a more diverse range of drivetrains including advanced electrified options and boasting enhanced digital features. The G-Class is recognized for its exclusive look and substantial customization possibilities which cater to both luxury-seeking and adventurous users. The new models, such as the G 500, feature mild-hybrid technology with added driving programs for optimized off-road performance and on-road comfort, while the Mercedes-AMG G 63 model excels with a powerful engine and distinct design elements geared for superior performance and unique stature. This blend of traditional toughness with modern tech and luxury makes the G-Class a prime choice for those desiring a comprehensive, high-end vehicle that performs well in any environment.\n"
     ]
    },
    {
     "data": {
      "text/html": [
       "<img src=\"https://images.oneweb.mercedes-benz.com/iris/europe/DE/465250/X23_054/iris.webp?q=COSY-EU-100-1713d0VXqbWFqtyO67PobzIr3eWsrrCsdRRzwQZgk4ZbMw3SGtGyWtsd2HdcUfp8yXGEPGEJ0l7YhOB2XQcbApeARI5usmxQC3UnpkzNL2nm7jicohKV4PQ%25vqga9yLRNyfYaxj%25WrH1MQdn8w5VUoiZH6EM4F8yPTg9jLk6PDV4pSeWqZItsdTc3cUfGXWXGERbSJ0lbHJOB2MM%25bApdrXI5gZ8lXhRjwQZteHP9UuoQ3pE7EJxJeRB5PVsRiD4Nhc8An&BKGND=9&IMGT=W27&POV=BE090&imwidth=650&uni=m\"/>"
      ],
      "text/plain": [
       "<IPython.core.display.Image object>"
      ]
     },
     "metadata": {},
     "output_type": "display_data"
    },
    {
     "name": "stdout",
     "output_type": "stream",
     "text": [
      "['https://assets.oneweb.mercedes-benz.com/iris/iris.png?COSY-EU-100-1713d0VXqaJeqtyO67PobzIr3eWsrrCsdRRzwQZ63pZbMw3SGtxX2tsd1ZpcUfwMuXGEuymJ0l3YZOB2NrjbApjiVI5uVeuQC3qsFkzNR%25nm7jxyIhKV1Yh%25vqwJkyLRZOVYaxFkErH19nun8wDqfoiZWJXM4FlIDTg92QE6PDpPpSeWue9tsd3s%25cUfNLkXGEjaRJ0lVHNOB2qQ1bApRTyI5ux6ZQC31EFkzNwldm7jA6ohKV5Kh%25vqCUTyLRzGFYax759rH1KM1n8wvVwoiZL%25pM4FaTQTg90Q26PDBkbSeWAeStsd5spcUfCLqXGEziwJ0l7OhOB2KbFbApJilI5uOcxQC3iMwkzN4Pkm7jgcfhKVPX9%25vqeIkyLRsQHYaxU4drH1Gcrn8w7OwoiZKiEM4FvSlTg9Lte6PDa%25bSeWHw9tsd8oGcUfiXyXGE45jJ0lgChOB2PzObApe7pI5usKDQC3UnpkzNpTwm7ju6ohKV3YQ%25vq8tTyLRiO6Yax4bJrH1gjrn8wPbIoTnylpEvcQC3sE3kzNetDm7jC7fhKVzst%25vq7BTyLRKn2YaxvoJrH1LIln8waIIoiZHQUM4F8QETg9iGm6PDVkbSeWqiftsdUhQcUfGUNXGE0GYJ0lBHtOB2A81bAp5iCI5uC4MQC3zs3kzN7U9m7sDgubYwR9hDvVCBdwj6hVNpLLxdYfqJVf%25XEd9B96N683eUHpi3v1Lf9O=&BKGND=9&IMGT=P27&POV=BE040%2CPZM&im=Trim&fuzz=0.5&width=670']\n",
      "The Mercedes GLC Coupe is a luxurious and stylish SUV coupe that combines sporty design with practical features. It features a sleek, sloping roofline and offers a spacious interior with seating for up to five passengers. The vehicle is available in several engine options, including conventional combustion engines and plug-in hybrids, ensuring a good balance of performance and efficiency. Inside, the GLC Coupe boasts advanced technology like large displays, smartphone integration, and a variety of driver assistance systems, enhancing both convenience and safety. With its robust presence, precise handling, and sophisticated aesthetics, the GLC Coupe is designed to appeal to those seeking luxury and sportiness in an SUV format.\n"
     ]
    },
    {
     "data": {
      "text/html": [
       "<img src=\"https://assets.oneweb.mercedes-benz.com/iris/iris.png?COSY-EU-100-1713d0VXqaJeqtyO67PobzIr3eWsrrCsdRRzwQZ63pZbMw3SGtxX2tsd1ZpcUfwMuXGEuymJ0l3YZOB2NrjbApjiVI5uVeuQC3qsFkzNR%25nm7jxyIhKV1Yh%25vqwJkyLRZOVYaxFkErH19nun8wDqfoiZWJXM4FlIDTg92QE6PDpPpSeWue9tsd3s%25cUfNLkXGEjaRJ0lVHNOB2qQ1bApRTyI5ux6ZQC31EFkzNwldm7jA6ohKV5Kh%25vqCUTyLRzGFYax759rH1KM1n8wvVwoiZL%25pM4FaTQTg90Q26PDBkbSeWAeStsd5spcUfCLqXGEziwJ0l7OhOB2KbFbApJilI5uOcxQC3iMwkzN4Pkm7jgcfhKVPX9%25vqeIkyLRsQHYaxU4drH1Gcrn8w7OwoiZKiEM4FvSlTg9Lte6PDa%25bSeWHw9tsd8oGcUfiXyXGE45jJ0lgChOB2PzObApe7pI5usKDQC3UnpkzNpTwm7ju6ohKV3YQ%25vq8tTyLRiO6Yax4bJrH1gjrn8wPbIoTnylpEvcQC3sE3kzNetDm7jC7fhKVzst%25vq7BTyLRKn2YaxvoJrH1LIln8waIIoiZHQUM4F8QETg9iGm6PDVkbSeWqiftsdUhQcUfGUNXGE0GYJ0lBHtOB2A81bAp5iCI5uC4MQC3zs3kzN7U9m7sDgubYwR9hDvVCBdwj6hVNpLLxdYfqJVf%25XEd9B96N683eUHpi3v1Lf9O=&BKGND=9&IMGT=P27&POV=BE040%2CPZM&im=Trim&fuzz=0.5&width=670\"/>"
      ],
      "text/plain": [
       "<IPython.core.display.Image object>"
      ]
     },
     "metadata": {},
     "output_type": "display_data"
    },
    {
     "name": "stdout",
     "output_type": "stream",
     "text": [
      "['https://assets.oneweb.mercedes-benz.com/iris/iris.png?COSY-EU-100-1713d0VXqaWFqtyO67PobzIr3eWsrrCsdRRzwQZYZ4ZbMw3SGtGyWtsd2sDcUfp8fXGEuiRJ0l3IJOB2NMcbApjTlI5ux5xQC31SrkzNBzkm7jAc3hKViSF%25vq4v%25yLRgOjYaxPr9rH1eOdn8wYAxoiZr6YM4FAClTg95vp6PDCIoSeWHmWtsd8J3cUfiMcXGE4TwJ0lgOrOB2PzqbApe79I5usr2QC32hOkzNLzkm7jaSthymI9WFAocUfa8MXGEsnRJ0lUorOB2ZgEbAp5AXI5uC4JQC3zh1kzN7t6m7jK2IhKUWP3IrZxD%25WLfsQ6uVS%25qjuaa1frEROqEyJlfDADSjSiNsG8u4NLwaEDb=&BKGND=9&IMGT=P27&POV=BE040%2CPZM&im=Trim&fuzz=0.5&width=670']\n",
      "The Mercedes-Benz GL-Class is a luxury full-size SUV that debuted in 2006 and has become known for its spacious accommodation, advanced technology, and commanding performance. This SUV can seat up to seven passengers and combines the utility of a family vehicle with the elegance of a high-end Mercedes-Benz. The GL-Class features various engine choices from the efficient GL 320 CDI with a six-cylinder engine producing 224 horsepower, up to the formidable GL 500 equipped with a V8 engine delivering 388 horsepower. Notable for its luxurious interior, which includes optional upgrades like AIRMATIC air suspension and the latest in driver assistance systems, the GL-Class represents the premium segment of SUVs. It provides options for both off-road capabilities and city driving comfort, setting it apart as a versatile choice for both adventure and everyday utility.\n"
     ]
    },
    {
     "data": {
      "text/html": [
       "<img src=\"https://assets.oneweb.mercedes-benz.com/iris/iris.png?COSY-EU-100-1713d0VXqaWFqtyO67PobzIr3eWsrrCsdRRzwQZYZ4ZbMw3SGtGyWtsd2sDcUfp8fXGEuiRJ0l3IJOB2NMcbApjTlI5ux5xQC31SrkzNBzkm7jAc3hKViSF%25vq4v%25yLRgOjYaxPr9rH1eOdn8wYAxoiZr6YM4FAClTg95vp6PDCIoSeWHmWtsd8J3cUfiMcXGE4TwJ0lgOrOB2PzqbApe79I5usr2QC32hOkzNLzkm7jaSthymI9WFAocUfa8MXGEsnRJ0lUorOB2ZgEbAp5AXI5uC4JQC3zh1kzN7t6m7jK2IhKUWP3IrZxD%25WLfsQ6uVS%25qjuaa1frEROqEyJlfDADSjSiNsG8u4NLwaEDb=&BKGND=9&IMGT=P27&POV=BE040%2CPZM&im=Trim&fuzz=0.5&width=670\"/>"
      ],
      "text/plain": [
       "<IPython.core.display.Image object>"
      ]
     },
     "metadata": {},
     "output_type": "display_data"
    },
    {
     "name": "stdout",
     "output_type": "stream",
     "text": [
      "['https://assets.oneweb.mercedes-benz.com/iris/iris.png?COSY-EU-100-1713d0VXqNWFqtyO67PobzIr3eWsrrCsdRRzwQZUkRZbMw3SGtGyStsd2HtcUfp8qXGEubYJ0l36xOB2qrnbApRn3I5ux6YQC30C3kzNBUbm7jAGvhKV5YL%25vq4t9yLRgc6YaxPaYrH1eHDn8wsQfoiZUMXM4FnCwTg9otn6PDCLsSeWzaRtsd7oTcUfKM0XGE4yXJ0lg0VOB2PQqbApedlI5usQYQC3UkTkzNGLnm7j0aShKVBTN%25vqNtkyLRiXJYnymdEWz6OB2iMwbAp0iyI5uB4MQC3AhTkzNW5Jm7jK7ShKVvsL%25vqLUcyLRaifYaBEUVmMDZfrE810zyRxXr1RjiiF2MpwQ1pnIu2fzfXRXPq0Agjeq89ipfk=&BKGND=9&IMGT=P27&POV=BE040%2CPZM&im=Trim&fuzz=0.5&width=670']\n",
      "It appears I'm facing an issue with fetching the online data right now. However, I can give you a general idea based on my last update.\n",
      "\n",
      "The Mercedes CLS-Class is a series of luxury sedans renowned for its sleek, coupe-like silhouette that blends elegance with aggressive styling. Introduced by Mercedes-Benz, it combines high-performance engineering with upscale amenities and cutting-edge technology. The interior of the CLS-Class typically features luxurious materials, advanced infotainment systems, and a range of customization options. On the performance front, it offers powerful engine choices, refined handling, and a smooth ride, making it a choice for those who seek both comfort and performance in a stylish package.\n"
     ]
    },
    {
     "data": {
      "text/html": [
       "<img src=\"https://assets.oneweb.mercedes-benz.com/iris/iris.png?COSY-EU-100-1713d0VXqNWFqtyO67PobzIr3eWsrrCsdRRzwQZUkRZbMw3SGtGyStsd2HtcUfp8qXGEubYJ0l36xOB2qrnbApRn3I5ux6YQC30C3kzNBUbm7jAGvhKV5YL%25vq4t9yLRgc6YaxPaYrH1eHDn8wsQfoiZUMXM4FnCwTg9otn6PDCLsSeWzaRtsd7oTcUfKM0XGE4yXJ0lg0VOB2PQqbApedlI5usQYQC3UkTkzNGLnm7j0aShKVBTN%25vqNtkyLRiXJYnymdEWz6OB2iMwbAp0iyI5uB4MQC3AhTkzNW5Jm7jK7ShKVvsL%25vqLUcyLRaifYaBEUVmMDZfrE810zyRxXr1RjiiF2MpwQ1pnIu2fzfXRXPq0Agjeq89ipfk=&BKGND=9&IMGT=P27&POV=BE040%2CPZM&im=Trim&fuzz=0.5&width=670\"/>"
      ],
      "text/plain": [
       "<IPython.core.display.Image object>"
      ]
     },
     "metadata": {},
     "output_type": "display_data"
    },
    {
     "name": "stdout",
     "output_type": "stream",
     "text": [
      "['https://assets.adac.de/image/upload/w_898/Autodatenbank/GWInfo/gw0303-mercedes-benz-slk-klasse-2004-2011.jpg']\n",
      "The Mercedes-Benz SLK-Class, produced between 1996 and 2020, is a series of luxury compact executive roadsters renowned for its sophisticated retractable hardtop roof known as the \"Vario-Dach.\" Developed in Bremen, Germany, the SLK-Class comprises three generations: R170, R171, and R172, each progressively incorporating enhancements in design, technology, and performance. Notable features across models include various engine options such as V6 and V8, the innovative Magic Sky Control for electronically tinted glass, and advanced safety technologies. Positioned as a compact and sporty option within the luxury segment, the SLK-Class boasts a blend of performance, innovation, and dynamic driving that appeals equally to style-conscious and enthusiast drivers alike.\n"
     ]
    },
    {
     "data": {
      "text/html": [
       "<img src=\"https://assets.adac.de/image/upload/w_898/Autodatenbank/GWInfo/gw0303-mercedes-benz-slk-klasse-2004-2011.jpg\"/>"
      ],
      "text/plain": [
       "<IPython.core.display.Image object>"
      ]
     },
     "metadata": {},
     "output_type": "display_data"
    },
    {
     "name": "stdout",
     "output_type": "stream",
     "text": [
      "['https://assets.oneweb.mercedes-benz.com/iris/iris.png?COSY-EU-100-1713d0VXqaSFqtyO67PobzIr3eWsrrCsdRRzwQZgk4ZbMw3SGtlaStsd2HVcUfpOkXGEubSJ0l3IrOB2NS1bApj7pI5uVKMQC31MTkzNwPnm7jZcohKV5Kh%25vqCr%25yLRz3RYaxPXWrH1eJtn8ws8WoiZUMXM4FGTjTg90kO6PDBIDSeWTwItsd7kTcUfi%25fXGE4GjJ0lgIVOB2PWEbApetXI5usc2QC3UkrkzNGmbm7j0hShKVBHM%25vqA8lyLR5SVYax4bSrH1gObnMr%25E2fKtI5ue6YQC3PsXkzN5z9m7jd2ohKVvKQ%25vqLUkyLRaGfYaxHoJrHAlGqhTWFEnlioUiXW1JnwxV449pTuZkwuoQ3pE7EJxJeRB5PVsRiD4uEm=&BKGND=9&IMGT=P27&POV=BE040%2CPZM&im=Trim&fuzz=0.5&width=670']\n",
      "The Mercedes EQE is a luxury electric sedan that combines advanced technology, comfort, and performance. It is positioned between the E-Class and the flagship EQS, featuring a slightly smaller size compared to the EQS but similar design and technology elements. The EQE boasts a spacious interior with high-quality materials and provides a quiet ride thanks to effective noise insulation. Key features include the MBUX Hyperscreen, which spans across the entire dashboard, offering an innovative user interface. The EQE offers multiple power options, with the electric motor producing from 180 kW/245 PS to 460 kW/625 PS, and battery capacities allowing for a range of up to 639 kilometers under ideal conditions. The car supports fast charging and even includes bi-directional charging capabilities in some markets. Overall, the EQE is praised for its plush interior, compelling driving dynamics, and cutting-edge technology, though it has a complex digital interface that might take some time to master.\n"
     ]
    },
    {
     "data": {
      "text/html": [
       "<img src=\"https://assets.oneweb.mercedes-benz.com/iris/iris.png?COSY-EU-100-1713d0VXqaSFqtyO67PobzIr3eWsrrCsdRRzwQZgk4ZbMw3SGtlaStsd2HVcUfpOkXGEubSJ0l3IrOB2NS1bApj7pI5uVKMQC31MTkzNwPnm7jZcohKV5Kh%25vqCr%25yLRz3RYaxPXWrH1eJtn8ws8WoiZUMXM4FGTjTg90kO6PDBIDSeWTwItsd7kTcUfi%25fXGE4GjJ0lgIVOB2PWEbApetXI5usc2QC3UkrkzNGmbm7j0hShKVBHM%25vqA8lyLR5SVYax4bSrH1gObnMr%25E2fKtI5ue6YQC3PsXkzN5z9m7jd2ohKVvKQ%25vqLUkyLRaGfYaxHoJrHAlGqhTWFEnlioUiXW1JnwxV449pTuZkwuoQ3pE7EJxJeRB5PVsRiD4uEm=&BKGND=9&IMGT=P27&POV=BE040%2CPZM&im=Trim&fuzz=0.5&width=670\"/>"
      ],
      "text/plain": [
       "<IPython.core.display.Image object>"
      ]
     },
     "metadata": {},
     "output_type": "display_data"
    },
    {
     "name": "stdout",
     "output_type": "stream",
     "text": [
      "['https://assets.oneweb.mercedes-benz.com/iris/iris.png?COSY-EU-100-1713d0VXqbE7qtyO67PobzIr3eWsrrCsdRRzwQZYkpZbMw3SGtGyStsd2vtcUfpLfXGEuiXJ0l34AOB2NQnbApjtwI5uVczQC3qkOkzNRLkm7jxafhKVFSQ%25vq9tayLRDLVYaxW0SrH1dB%25n8wfA2oiZEkXM4FlTlTg9HQO6PD8koSeWimUtsd4stcUfg86XGEPiYJ0leIJOB2sQ1bApUk9I5uG6YQC30SOkzNBtkm7j86ohKViSh%25vq4r9yLRgnyYaxPNSrH1ej%25n8wsoyoiZUMNM4FGOPTg9ohE6PDC7sSeWzK3tsd7HVcUfKMcXGEvTVJ0lLOqOB2PrObApeAyI5usmxQC3US3kzNGlum7j0OjhKVBbN%25vqAyTyLR5YXYaxC4SrH1zgRn8w7XxoiZxbgM4F1IjTg9wtn6PDGmhSc6o3ju8b%25vqBBjyLR0Wm7tBodhKkt3f%25vm1fEyLhCPlYaB6z2rHn15pn8onZuoiMIT3M4Th5NTg6jij6hzQipxBUCVzt9CtP8PDVeg8ccGKxvslevqELKCrCDgDO4m%25J8b4t0cvC2=&BKGND=9&IMGT=P27&POV=BE040%2CPZM&im=Trim&fuzz=0.5&width=670']\n",
      "The Mercedes S-Class, recognized as the epitome of luxury in automotive engineering, is a flagship luxury sedan from the iconic German automaker, Mercedes-Benz. Introduced in its modern form in 1972, the S-Class has continuously set benchmarks in technology, safety, and performance across its various generations. With a choice of powerful engine configurations that range from V6 to V12, including performance-oriented AMG models, the S-Class offers dynamic driving experiences while ensuring premium comfort and advanced safety. The interior of the S-Class is a blend of luxury and cutting-edge technology with features like a high-resolution MBUX digital interface, ambient lighting, and luxurious seats with massage functions. Its exterior design conveys elegance and authority, typically featuring sophisticated lighting technology and options for different wheelbases to cater to varied market needs. The S-Class also includes environmentally responsible options like plug-in hybrids, underlining Mercedes-Benz's commitment to innovation and sustainability. With each new model, the S-Class continues to offer opulent comfort, exceptional performance, and a suite of advanced safety and technology features, making it a top choice for luxury sedan enthusiasts around the world.\n"
     ]
    },
    {
     "data": {
      "text/html": [
       "<img src=\"https://assets.oneweb.mercedes-benz.com/iris/iris.png?COSY-EU-100-1713d0VXqbE7qtyO67PobzIr3eWsrrCsdRRzwQZYkpZbMw3SGtGyStsd2vtcUfpLfXGEuiXJ0l34AOB2NQnbApjtwI5uVczQC3qkOkzNRLkm7jxafhKVFSQ%25vq9tayLRDLVYaxW0SrH1dB%25n8wfA2oiZEkXM4FlTlTg9HQO6PD8koSeWimUtsd4stcUfg86XGEPiYJ0leIJOB2sQ1bApUk9I5uG6YQC30SOkzNBtkm7j86ohKViSh%25vq4r9yLRgnyYaxPNSrH1ej%25n8wsoyoiZUMNM4FGOPTg9ohE6PDC7sSeWzK3tsd7HVcUfKMcXGEvTVJ0lLOqOB2PrObApeAyI5usmxQC3US3kzNGlum7j0OjhKVBbN%25vqAyTyLR5YXYaxC4SrH1zgRn8w7XxoiZxbgM4F1IjTg9wtn6PDGmhSc6o3ju8b%25vqBBjyLR0Wm7tBodhKkt3f%25vm1fEyLhCPlYaB6z2rHn15pn8onZuoiMIT3M4Th5NTg6jij6hzQipxBUCVzt9CtP8PDVeg8ccGKxvslevqELKCrCDgDO4m%25J8b4t0cvC2=&BKGND=9&IMGT=P27&POV=BE040%2CPZM&im=Trim&fuzz=0.5&width=670\"/>"
      ],
      "text/plain": [
       "<IPython.core.display.Image object>"
      ]
     },
     "metadata": {},
     "output_type": "display_data"
    }
   ],
   "source": [
    "# display the images in jupyter\n",
    "from IPython.display import Image, display\n",
    "\n",
    "for product in product_list:\n",
    "    print(product.image_url)\n",
    "    print(product.description)\n",
    "    display(Image(url=product.image_url[0]))"
   ]
  },
  {
   "cell_type": "code",
   "execution_count": 39,
   "metadata": {},
   "outputs": [],
   "source": [
    "# save to db\n",
    "await product_db.reset()\n",
    "await product_db.add(product_list)"
   ]
  },
  {
   "cell_type": "code",
   "execution_count": 40,
   "metadata": {},
   "outputs": [
    {
     "data": {
      "text/plain": [
       "51"
      ]
     },
     "execution_count": 40,
     "metadata": {},
     "output_type": "execute_result"
    }
   ],
   "source": [
    "await product_db.size()"
   ]
  }
 ],
 "metadata": {
  "kernelspec": {
   "display_name": ".venv",
   "language": "python",
   "name": "python3"
  },
  "language_info": {
   "codemirror_mode": {
    "name": "ipython",
    "version": 3
   },
   "file_extension": ".py",
   "mimetype": "text/x-python",
   "name": "python",
   "nbconvert_exporter": "python",
   "pygments_lexer": "ipython3",
   "version": "3.11.5"
  }
 },
 "nbformat": 4,
 "nbformat_minor": 2
}
