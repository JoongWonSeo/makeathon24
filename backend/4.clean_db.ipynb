{
 "cells": [
  {
   "cell_type": "code",
   "execution_count": null,
   "metadata": {},
   "outputs": [],
   "source": [
    "import json\n",
    "\n",
    "with open(\"distinct_models.json\") as f:\n",
    "    distinct_models = json.load(f)\n",
    "\n",
    "\n",
    "with open(\"test.json\") as f:\n",
    "    all_cars = json.load(f)\n",
    "\n",
    "from_all = set([c[\"build\"][\"model\"] for c in all_cars])\n",
    "from_all"
   ]
  },
  {
   "cell_type": "code",
   "execution_count": null,
   "metadata": {},
   "outputs": [],
   "source": [
    "import json\n",
    "from backend.db.products import product_db, Product, VehicleType, Powertrain, Color\n",
    "from pprint import pprint\n",
    "import traceback\n",
    "\n",
    "\n",
    "# Problem with normalization of Mini MPV\n",
    "def normalize(value):\n",
    "    return \"Mini MPV\" if value == \"Mini Mpv\" else value\n",
    "\n",
    "\n",
    "product_list = []\n",
    "for model in from_all:\n",
    "    for car in all_cars:\n",
    "        if car[\"build\"][\"model\"] == model:\n",
    "            try:\n",
    "                product = Product(\n",
    "                    name=car[\"heading\"],\n",
    "                    vehicle_type=VehicleType(normalize(car[\"build\"][\"body_type\"])),\n",
    "                    release_year=car[\"build\"][\"year\"],\n",
    "                    price_in_usd=car.get(\"price\")\n",
    "                    or car.get(\"ref_price\")\n",
    "                    or car.get(\"msrp\"),\n",
    "                    is_used=car[\"inventory_type\"] == \"used\",\n",
    "                    powertrain_type=Powertrain[\n",
    "                        \"EV\"\n",
    "                        if car[\"build\"].get(\"powertrain_type\") == \"BEV\"\n",
    "                        else \"ICE\"\n",
    "                        if car[\"build\"].get(\"powertrain_type\") == \"Combustion\"\n",
    "                        else \"Hybrid\"\n",
    "                    ],\n",
    "                    num_seats=car[\"build\"][\"std_seating\"],\n",
    "                    color=car.get(\"base_ext_color\"),\n",
    "                    specs=car[\"build\"],\n",
    "                    image_url=car[\"media\"][\"photo_links\"][:1]\n",
    "                    if car.get(\"media\")\n",
    "                    else [],\n",
    "                )\n",
    "\n",
    "                # override image from distinct_models\n",
    "                for m in distinct_models:\n",
    "                    if m[\"model\"] == model:\n",
    "                        better_img = m[\"links\"][:1]\n",
    "                        if better_img:\n",
    "                            print(\"overriding image\")\n",
    "                            product.image_url = better_img\n",
    "                            break\n",
    "\n",
    "            except Exception as e:\n",
    "                # print(\"skipping car\")\n",
    "                # traceback.print_exc()\n",
    "                # print(\"Error in parsing the following listing:\")\n",
    "                # pprint(car)\n",
    "                continue\n",
    "\n",
    "    product_list.append(product)"
   ]
  },
  {
   "cell_type": "code",
   "execution_count": null,
   "metadata": {},
   "outputs": [],
   "source": [
    "product_list"
   ]
  },
  {
   "cell_type": "code",
   "execution_count": null,
   "metadata": {},
   "outputs": [],
   "source": [
    "# display the images in jupyter\n",
    "from IPython.display import Image, display\n",
    "\n",
    "for product in product_list:\n",
    "    print(product.image_url)\n",
    "    display(Image(url=product.image_url[0]))"
   ]
  },
  {
   "cell_type": "code",
   "execution_count": null,
   "metadata": {},
   "outputs": [],
   "source": [
    "# save to db\n",
    "await product_db.reset()\n",
    "await product_db.add(product_list)"
   ]
  },
  {
   "cell_type": "code",
   "execution_count": null,
   "metadata": {},
   "outputs": [],
   "source": [
    "await product_db.size()"
   ]
  }
 ],
 "metadata": {
  "kernelspec": {
   "display_name": ".venv",
   "language": "python",
   "name": "python3"
  },
  "language_info": {
   "codemirror_mode": {
    "name": "ipython",
    "version": 3
   },
   "file_extension": ".py",
   "mimetype": "text/x-python",
   "name": "python",
   "nbconvert_exporter": "python",
   "pygments_lexer": "ipython3",
   "version": "3.11.5"
  }
 },
 "nbformat": 4,
 "nbformat_minor": 2
}
