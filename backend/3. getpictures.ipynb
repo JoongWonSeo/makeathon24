{
 "cells": [
  {
   "cell_type": "code",
   "execution_count": null,
   "metadata": {},
   "outputs": [],
   "source": [
    "import json\n",
    "\n",
    "distinct_models = set(product.specs[\"model\"] for product in product_list)\n",
    "print(distinct_models)\n",
    "\n",
    "model_links = [{\"model\": model, \"links\": []} for model in distinct_models]\n",
    "with open('distinct_models.json', 'w') as f:\n",
    "    json.dump(model_links, f)\n",
    "\n",
    "# import csv\n",
    "# with open('distinct_models.csv', 'w', newline='') as file:\n",
    "#     writer = csv.writer(file)\n",
    "#     for model in distinct_models:\n",
    "#         writer.writerow([model])\n"
   ]
  },
  {
   "cell_type": "code",
   "execution_count": null,
   "metadata": {},
   "outputs": [],
   "source": [
    "from bs4 import BeautifulSoup\n",
    "\n",
    "\n",
    "\n",
    "# load HTML snippet from file\n",
    "with open('dfile.html', 'r') as f:\n",
    "    html_snippet = f.read()\n",
    "\n",
    "# Parse the HTML using BeautifulSoup\n",
    "soup = BeautifulSoup(html_snippet, 'html.parser')\n",
    "\n",
    "# Find all the <img> tags and extract the src attribute\n",
    "img_tags = soup.find_all('img', class_=\"wb-vehicle-tile__image-img\")\n",
    "image_sources = [img.get('src') for img in img_tags]\n",
    "print(image_sources)\n",
    "\n",
    "\n",
    "#Print the extracted image sources\n",
    "for source in image_sources:\n",
    "    print(source)"
   ]
  }
 ],
 "metadata": {
  "language_info": {
   "name": "python"
  }
 },
 "nbformat": 4,
 "nbformat_minor": 2
}
