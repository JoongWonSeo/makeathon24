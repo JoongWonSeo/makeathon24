{
 "cells": [
  {
   "cell_type": "code",
   "execution_count": 1,
   "metadata": {},
   "outputs": [],
   "source": [
    "from agentools import *"
   ]
  },
  {
   "cell_type": "code",
   "execution_count": 2,
   "metadata": {},
   "outputs": [],
   "source": [
    "from agentools.retrieval.db import EmbeddableData, EmbeddableDataCollection, EmbeddableField\n",
    "\n",
    "EmbeddableDataCollection.use_global_client()"
   ]
  },
  {
   "cell_type": "code",
   "execution_count": 3,
   "metadata": {},
   "outputs": [],
   "source": [
    "from enum import StrEnum\n",
    "\n",
    "\n",
    "class OriginalStrEnum(StrEnum):\n",
    "    \"\"\"\n",
    "    A StrEnum that does NOT convert the value to lowercase, but rather uses the original value\n",
    "    \"\"\"\n",
    "\n",
    "    @staticmethod\n",
    "    def _generate_next_value_(\n",
    "        name: str, start: int, count: int, last_values: list[str]\n",
    "    ) -> str:\n",
    "        return name"
   ]
  },
  {
   "cell_type": "code",
   "execution_count": 4,
   "metadata": {},
   "outputs": [],
   "source": [
    "\"\"\"\n",
    "Document database that stores product metadata.\n",
    "\"\"\"\n",
    "\n",
    "from agentools.retrieval.db import (\n",
    "    EmbeddableDataCollection,\n",
    "    EmbeddableData,\n",
    "    EmbeddableField,\n",
    ")\n",
    "\n",
    "\n",
    "Powertrain = OriginalStrEnum(\n",
    "    \"Powertrain\",\n",
    "    [\"EV\", \"ICE\", \"Hybrid\"],\n",
    ")\n",
    "\n",
    "VehicleType = OriginalStrEnum(\n",
    "    \"VehicleType\",\n",
    "    [\"Car\", \"Truck\", \"SUV\", \"Van\"],\n",
    ")\n",
    "\n",
    "\n",
    "class Product(EmbeddableData):\n",
    "    \"\"\"\n",
    "    Product metadata\n",
    "    \"\"\"\n",
    "\n",
    "    name: str\n",
    "    description: str = EmbeddableField()\n",
    "    vehicle_type: VehicleType\n",
    "    powertrain_type: Powertrain\n",
    "    range_in_km: float\n",
    "    price_in_eur: float\n",
    "    num_seats: int\n",
    "    color_options: list[str]\n",
    "    customization_options: list[str]\n",
    "\n",
    "    image_url: str"
   ]
  },
  {
   "cell_type": "code",
   "execution_count": 5,
   "metadata": {},
   "outputs": [
    {
     "data": {
      "text/plain": [
       "True"
      ]
     },
     "execution_count": 5,
     "metadata": {},
     "output_type": "execute_result"
    }
   ],
   "source": [
    "product_db = EmbeddableDataCollection(\"product_db\", Product)\n",
    "await product_db.check_exist_and_initialize()"
   ]
  },
  {
   "cell_type": "code",
   "execution_count": 6,
   "metadata": {},
   "outputs": [],
   "source": [
    "data = [\n",
    "    Product(name=\"Mercedes S-Class\", description=\"The best car ever\", vehicle_type=VehicleType.Car, powertrain_type=Powertrain.Hybrid, range_in_km=1000, price_in_eur=100000, num_seats=5, color_options=[\"Black\", \"White\"], customization_options=[\"Leather Seats\", \"Sunroof\"], image_url=\"https://www.mercedes-benz.com/en/vehicles/passenger-cars/s-class/s-class-sedan/\"),\n",
    "    Product(name=\"Tesla Model 3\", description=\"The best EV ever\", vehicle_type=VehicleType.Car, powertrain_type=Powertrain.EV, range_in_km=500, price_in_eur=50000, num_seats=5, color_options=[\"Black\", \"White\"], customization_options=[\"Leather Seats\", \"Sunroof\"], image_url=\"https://www.tesla.com/model3\"),\n",
    "]\n",
    "\n",
    "await product_db.add(data)"
   ]
  },
  {
   "cell_type": "code",
   "execution_count": 7,
   "metadata": {},
   "outputs": [
    {
     "name": "stdout",
     "output_type": "stream",
     "text": [
      "name='Tesla Model 3' description='The best EV ever' vehicle_type=<VehicleType.Car: 'Car'> powertrain_type=<Powertrain.EV: 'EV'> range_in_km=500.0 price_in_eur=50000.0 num_seats=5 color_options=['Black', 'White'] customization_options=['Leather Seats', 'Sunroof'] image_url='https://www.tesla.com/model3'\n",
      "name='Mercedes S-Class' description='The best car ever' vehicle_type=<VehicleType.Car: 'Car'> powertrain_type=<Powertrain.Hybrid: 'Hybrid'> range_in_km=1000.0 price_in_eur=100000.0 num_seats=5 color_options=['Black', 'White'] customization_options=['Leather Seats', 'Sunroof'] image_url='https://www.mercedes-benz.com/en/vehicles/passenger-cars/s-class/s-class-sedan/'\n"
     ]
    }
   ],
   "source": [
    "async for product in product_db.iterate():\n",
    "    print(product)"
   ]
  },
  {
   "cell_type": "code",
   "execution_count": 8,
   "metadata": {},
   "outputs": [
    {
     "data": {
      "text/plain": [
       "[(1.0000000148350376,\n",
       "  Product(name='Mercedes S-Class', description='The best car ever', vehicle_type=<VehicleType.Car: 'Car'>, powertrain_type=<Powertrain.Hybrid: 'Hybrid'>, range_in_km=1000.0, price_in_eur=100000.0, num_seats=5, color_options=['Black', 'White'], customization_options=['Leather Seats', 'Sunroof'], image_url='https://www.mercedes-benz.com/en/vehicles/passenger-cars/s-class/s-class-sedan/')),\n",
       " (0.6764056073463183,\n",
       "  Product(name='Tesla Model 3', description='The best EV ever', vehicle_type=<VehicleType.Car: 'Car'>, powertrain_type=<Powertrain.EV: 'EV'>, range_in_km=500.0, price_in_eur=50000.0, num_seats=5, color_options=['Black', 'White'], customization_options=['Leather Seats', 'Sunroof'], image_url='https://www.tesla.com/model3'))]"
      ]
     },
     "execution_count": 8,
     "metadata": {},
     "output_type": "execute_result"
    }
   ],
   "source": [
    "await product_db.query(description=\"The best car ever\", top=2)"
   ]
  },
  {
   "cell_type": "code",
   "execution_count": 1,
   "metadata": {},
   "outputs": [
    {
     "data": {
      "text/plain": [
       "{'$defs': {'FieldCondition': {'additionalProperties': False,\n",
       "   'description': 'All possible payload filtering conditions',\n",
       "   'properties': {'key': {'description': 'Payload key',\n",
       "     'title': 'Key',\n",
       "     'type': 'string'},\n",
       "    'match': {'anyOf': [{'$ref': '#/$defs/MatchValue'},\n",
       "      {'$ref': '#/$defs/MatchText'},\n",
       "      {'$ref': '#/$defs/MatchAny'},\n",
       "      {'$ref': '#/$defs/MatchExcept'},\n",
       "      {'type': 'null'}],\n",
       "     'default': None,\n",
       "     'description': 'Check if point has field with a given value',\n",
       "     'title': 'Match'},\n",
       "    'range': {'anyOf': [{'$ref': '#/$defs/Range'},\n",
       "      {'$ref': '#/$defs/DatetimeRange'},\n",
       "      {'type': 'null'}],\n",
       "     'default': None,\n",
       "     'description': 'Check if points value lies in a given range',\n",
       "     'title': 'Range'},\n",
       "    'values_count': {'anyOf': [{'$ref': '#/$defs/ValuesCount'},\n",
       "      {'type': 'null'}],\n",
       "     'default': None,\n",
       "     'description': 'Check number of values of the field'}},\n",
       "   'required': ['key'],\n",
       "   'title': 'FieldCondition',\n",
       "   'type': 'object'},\n",
       "  'Filter': {'additionalProperties': False,\n",
       "   'properties': {'should': {'anyOf': [{'items': {'anyOf': [{'$ref': '#/$defs/FieldCondition'},\n",
       "         {'$ref': '#/$defs/Filter'}]},\n",
       "       'type': 'array'},\n",
       "      {'type': 'null'}],\n",
       "     'default': None,\n",
       "     'description': 'At least one of those conditions should match',\n",
       "     'title': 'Should'},\n",
       "    'min_should': {'anyOf': [{'$ref': '#/$defs/MinShould'}, {'type': 'null'}],\n",
       "     'default': None,\n",
       "     'description': 'At least minimum amount of given conditions should match'},\n",
       "    'must': {'anyOf': [{'items': {'anyOf': [{'$ref': '#/$defs/FieldCondition'},\n",
       "         {'$ref': '#/$defs/Filter'}]},\n",
       "       'type': 'array'},\n",
       "      {'type': 'null'}],\n",
       "     'default': None,\n",
       "     'description': 'All conditions must match',\n",
       "     'title': 'Must'},\n",
       "    'must_not': {'anyOf': [{'items': {'anyOf': [{'$ref': '#/$defs/FieldCondition'},\n",
       "         {'$ref': '#/$defs/Filter'}]},\n",
       "       'type': 'array'},\n",
       "      {'type': 'null'}],\n",
       "     'default': None,\n",
       "     'description': 'All conditions must NOT match',\n",
       "     'title': 'Must Not'}},\n",
       "   'title': 'Filter',\n",
       "   'type': 'object'},\n",
       "  'MatchAny': {'additionalProperties': False,\n",
       "   'description': 'Exact match on any of the given values',\n",
       "   'properties': {'any': {'anyOf': [{'items': {'type': 'string'},\n",
       "       'type': 'array'},\n",
       "      {'items': {'type': 'integer'}, 'type': 'array'}],\n",
       "     'description': 'Exact match on any of the given values',\n",
       "     'title': 'Any'}},\n",
       "   'required': ['any'],\n",
       "   'title': 'MatchAny',\n",
       "   'type': 'object'},\n",
       "  'MatchExcept': {'additionalProperties': False,\n",
       "   'description': 'Should have at least one value not matching the any given values',\n",
       "   'properties': {'except': {'anyOf': [{'items': {'type': 'string'},\n",
       "       'type': 'array'},\n",
       "      {'items': {'type': 'integer'}, 'type': 'array'}],\n",
       "     'description': 'Should have at least one value not matching the any given values',\n",
       "     'title': 'Except'}},\n",
       "   'required': ['except'],\n",
       "   'title': 'MatchExcept',\n",
       "   'type': 'object'},\n",
       "  'MatchText': {'additionalProperties': False,\n",
       "   'description': 'Full-text match of the strings.',\n",
       "   'properties': {'text': {'description': 'Full-text match of the strings.',\n",
       "     'title': 'Text',\n",
       "     'type': 'string'}},\n",
       "   'required': ['text'],\n",
       "   'title': 'MatchText',\n",
       "   'type': 'object'},\n",
       "  'MatchValue': {'additionalProperties': False,\n",
       "   'description': 'Exact match of the given value',\n",
       "   'properties': {'value': {'anyOf': [{'type': 'string'},\n",
       "      {'type': 'integer'},\n",
       "      {'type': 'boolean'}],\n",
       "     'description': 'Exact match of the given value',\n",
       "     'title': 'Value'}},\n",
       "   'required': ['value'],\n",
       "   'title': 'MatchValue',\n",
       "   'type': 'object'},\n",
       "  'MinShould': {'additionalProperties': False,\n",
       "   'properties': {'conditions': {'description': '',\n",
       "     'items': {'anyOf': [{'$ref': '#/$defs/FieldCondition'},\n",
       "       {'$ref': '#/$defs/Filter'}]},\n",
       "     'title': 'Conditions',\n",
       "     'type': 'array'},\n",
       "    'min_count': {'description': '', 'title': 'Min Count', 'type': 'integer'}},\n",
       "   'required': ['conditions', 'min_count'],\n",
       "   'title': 'MinShould',\n",
       "   'type': 'object'},\n",
       "  'PayloadField': {'additionalProperties': False,\n",
       "   'description': 'Payload field',\n",
       "   'properties': {'key': {'description': 'Payload field name',\n",
       "     'title': 'Key',\n",
       "     'type': 'string'}},\n",
       "   'required': ['key'],\n",
       "   'title': 'PayloadField',\n",
       "   'type': 'object'},\n",
       "  'Range': {'additionalProperties': False,\n",
       "   'description': 'Range filter request',\n",
       "   'properties': {'lt': {'anyOf': [{'type': 'number'}, {'type': 'null'}],\n",
       "     'default': None,\n",
       "     'description': 'point.key &lt; range.lt',\n",
       "     'title': 'Lt'},\n",
       "    'gt': {'anyOf': [{'type': 'number'}, {'type': 'null'}],\n",
       "     'default': None,\n",
       "     'description': 'point.key &gt; range.gt',\n",
       "     'title': 'Gt'},\n",
       "    'gte': {'anyOf': [{'type': 'number'}, {'type': 'null'}],\n",
       "     'default': None,\n",
       "     'description': 'point.key &gt;= range.gte',\n",
       "     'title': 'Gte'},\n",
       "    'lte': {'anyOf': [{'type': 'number'}, {'type': 'null'}],\n",
       "     'default': None,\n",
       "     'description': 'point.key &lt;= range.lte',\n",
       "     'title': 'Lte'}},\n",
       "   'title': 'Range',\n",
       "   'type': 'object'},\n",
       "  'ValuesCount': {'additionalProperties': False,\n",
       "   'description': 'Values count filter request',\n",
       "   'properties': {'lt': {'anyOf': [{'type': 'integer'}, {'type': 'null'}],\n",
       "     'default': None,\n",
       "     'description': 'point.key.length() &lt; values_count.lt',\n",
       "     'title': 'Lt'},\n",
       "    'gt': {'anyOf': [{'type': 'integer'}, {'type': 'null'}],\n",
       "     'default': None,\n",
       "     'description': 'point.key.length() &gt; values_count.gt',\n",
       "     'title': 'Gt'},\n",
       "    'gte': {'anyOf': [{'type': 'integer'}, {'type': 'null'}],\n",
       "     'default': None,\n",
       "     'description': 'point.key.length() &gt;= values_count.gte',\n",
       "     'title': 'Gte'},\n",
       "    'lte': {'anyOf': [{'type': 'integer'}, {'type': 'null'}],\n",
       "     'default': None,\n",
       "     'description': 'point.key.length() &lt;= values_count.lte',\n",
       "     'title': 'Lte'}},\n",
       "   'title': 'ValuesCount',\n",
       "   'type': 'object'}},\n",
       " 'allOf': [{'$ref': '#/$defs/Filter'}]}"
      ]
     },
     "execution_count": 1,
     "metadata": {},
     "output_type": "execute_result"
    }
   ],
   "source": [
    "import json\n",
    "\n",
    "with open(\"qdrant.json\") as f:\n",
    "    filter_schema = json.load(f)\n",
    "\n",
    "filter_schema"
   ]
  },
  {
   "cell_type": "code",
   "execution_count": 20,
   "metadata": {},
   "outputs": [],
   "source": [
    "from enum import StrEnum\n",
    "from agentools.retrieval.db import (\n",
    "    EmbeddableDataCollection,\n",
    "    EmbeddableData,\n",
    "    EmbeddableField,\n",
    ")\n",
    "\n",
    "class OriginalStrEnum(StrEnum):\n",
    "    \"\"\"\n",
    "    A StrEnum that does NOT convert the value to lowercase, but rather uses the original value\n",
    "    \"\"\"\n",
    "\n",
    "    @staticmethod\n",
    "    def _generate_next_value_(\n",
    "        name: str, start: int, count: int, last_values: list[str]\n",
    "    ) -> str:\n",
    "        return name\n",
    "\n",
    "Powertrain = OriginalStrEnum(\n",
    "    \"Powertrain\",\n",
    "    [\"EV\", \"ICE\", \"Hybrid\"],\n",
    ")\n",
    "\n",
    "VehicleType = OriginalStrEnum(\n",
    "    \"VehicleType\",\n",
    "    [\"Car\", \"Truck\", \"SUV\", \"Van\"],\n",
    ")\n",
    "\n",
    "\n",
    "class Product(EmbeddableData):\n",
    "\n",
    "    # ========= Vehicle Info ========= #\n",
    "    vehicle_type: VehicleType  # build.body_type\n",
    "    release_year: int  # build.year\n",
    "    price_in_usd: float  # price\n",
    "    is_used: bool  # inventory_type==\"used\"\n",
    "\n",
    "    # ========= Technical Specs ========= #\n",
    "    powertrain_type: Powertrain  # {\"EV\": build.powertrain_type == \"BEV\", \"ICE\": build.powertrain_type == \"Combustion\", \"Hybrid\": else}\n",
    "    num_seats: int  # build.std_seating\n",
    "    color: str  # base_ext_color\n",
    "\n"
   ]
  },
  {
   "cell_type": "code",
   "execution_count": 50,
   "metadata": {},
   "outputs": [
    {
     "name": "stdout",
     "output_type": "stream",
     "text": [
      "{\"$defs\": {\"Powertrain\": {\"enum\": [\"EV\", \"ICE\", \"Hybrid\"], \"title\": \"Powertrain\", \"type\": \"string\"}, \"VehicleType\": {\"enum\": [\"Car\", \"Truck\", \"SUV\", \"Van\"], \"title\": \"VehicleType\", \"type\": \"string\"}}, \"properties\": {\"vehicle_type\": {\"$ref\": \"#/$defs/VehicleType\"}, \"release_year\": {\"title\": \"Release Year\", \"type\": \"integer\"}, \"price_in_usd\": {\"title\": \"Price In Usd\", \"type\": \"number\"}, \"is_used\": {\"title\": \"Is Used\", \"type\": \"boolean\"}, \"powertrain_type\": {\"$ref\": \"#/$defs/Powertrain\"}, \"num_seats\": {\"title\": \"Num Seats\", \"type\": \"integer\"}, \"color\": {\"title\": \"Color\", \"type\": \"string\"}}, \"required\": [\"vehicle_type\", \"release_year\", \"price_in_usd\", \"is_used\", \"powertrain_type\", \"num_seats\", \"color\"], \"title\": \"Product\", \"type\": \"object\"}\n"
     ]
    }
   ],
   "source": [
    "product_schema = Product.model_json_schema()\n",
    "product_schema = json.dumps(product_schema)\n",
    "print(product_schema)"
   ]
  },
  {
   "cell_type": "code",
   "execution_count": 62,
   "metadata": {},
   "outputs": [],
   "source": [
    "def extract_values(obj, key):\n",
    "    \"\"\"Recursively fetch values from nested JSON.\"\"\"\n",
    "    arr = []\n",
    "\n",
    "    def extract(obj, arr, key):\n",
    "        \"\"\"Recursively search for values of key in JSON tree.\"\"\"\n",
    "        if isinstance(obj, dict):\n",
    "            for k, v in obj.items():\n",
    "                if k == key:\n",
    "                    arr.append(v)\n",
    "                elif isinstance(v, (dict, list)):\n",
    "                    extract(v, arr, key)\n",
    "        elif isinstance(obj, list):\n",
    "            for item in obj:\n",
    "                extract(item, arr, key)\n",
    "        return arr\n",
    "\n",
    "    results = extract(obj, arr, key)\n",
    "    return results"
   ]
  },
  {
   "cell_type": "code",
   "execution_count": 65,
   "metadata": {},
   "outputs": [
    {
     "data": {
      "text/plain": [
       "['vehicle_type',\n",
       " 'powertrain_type',\n",
       " 'range',\n",
       " 'price_in_usd',\n",
       " 'range',\n",
       " 'num_seats']"
      ]
     },
     "execution_count": 65,
     "metadata": {},
     "output_type": "execute_result"
    }
   ],
   "source": [
    "extract_values(json.loads(ex), \"key\")"
   ]
  },
  {
   "cell_type": "code",
   "execution_count": 76,
   "metadata": {},
   "outputs": [],
   "source": [
    "from jsonschema import validate\n",
    "import jsonschema\n",
    "from agentools import *\n",
    "\n",
    "SYSTEM = f\"\"\"\n",
    "There exists a database of cars and the user wants to buy a car. \n",
    "The user gives requirements on the car he wants to buy and you must respond with a json object conforming to the following JSON schema: \n",
    "{filter_schema}\n",
    "where the keys must conform to the following JSON schema:\n",
    "{product_schema}\n",
    "\"\"\".strip()\n",
    "\n",
    "async def extract_condition(SYSTEM, msg, tries=3):\n",
    "    keys = [\"vehicle_type\", \"release_year\", \"price_in_usd\", \"is_used\", \"powertrain_type\", \"num_seats\", \"color\"]\n",
    "    gpt = ChatGPT(SimpleHistory.system(SYSTEM), model=\"gpt-4-turbo\") \n",
    "    extracted = await gpt(msg, response_format={ \"type\": \"json_object\" })\n",
    "    for i in range(tries):\n",
    "        if extracted == \"null\":\n",
    "            return None\n",
    "        else:\n",
    "            try:\n",
    "                validate(json.loads(extracted), filter_schema)\n",
    "            except jsonschema.exceptions.ValidationError as err:\n",
    "                print(err.message)\n",
    "                extracted = await gpt(err.message, response_format={ \"type\": \"json_object\"})\n",
    "            extracted_keys = extract_values(json.loads(extracted), \"key\")\n",
    "            wrong_keys = [element for element in extracted_keys if element not in keys]\n",
    "            if wrong_keys == []:\n",
    "                return extracted\n",
    "            else:\n",
    "                print(f\"Please delete the following keys: {wrong_keys}\")\n",
    "                extracted = await gpt(f\"Please remove the following keys: {wrong_keys}\", response_format={ \"type\": \"json_object\"})\n",
    "    return \"null\""
   ]
  },
  {
   "cell_type": "code",
   "execution_count": 73,
   "metadata": {},
   "outputs": [
    {
     "name": "stdout",
     "output_type": "stream",
     "text": [
      "There exists a database of cars and the user wants to buy a car. \n",
      "The user gives requirements on the car he wants to buy and you must respond with a json object conforming to the following JSON schema: \n",
      "{'$defs': {'FieldCondition': {'additionalProperties': False, 'description': 'All possible payload filtering conditions', 'properties': {'key': {'description': 'Payload key', 'title': 'Key', 'type': 'string'}, 'match': {'anyOf': [{'$ref': '#/$defs/MatchValue'}, {'$ref': '#/$defs/MatchText'}, {'$ref': '#/$defs/MatchAny'}, {'$ref': '#/$defs/MatchExcept'}, {'type': 'null'}], 'default': None, 'description': 'Check if point has field with a given value', 'title': 'Match'}, 'range': {'anyOf': [{'$ref': '#/$defs/Range'}, {'$ref': '#/$defs/DatetimeRange'}, {'type': 'null'}], 'default': None, 'description': 'Check if points value lies in a given range', 'title': 'Range'}, 'values_count': {'anyOf': [{'$ref': '#/$defs/ValuesCount'}, {'type': 'null'}], 'default': None, 'description': 'Check number of values of the field'}}, 'required': ['key'], 'title': 'FieldCondition', 'type': 'object'}, 'Filter': {'additionalProperties': False, 'properties': {'should': {'anyOf': [{'items': {'anyOf': [{'$ref': '#/$defs/FieldCondition'}, {'$ref': '#/$defs/Filter'}]}, 'type': 'array'}, {'type': 'null'}], 'default': None, 'description': 'At least one of those conditions should match', 'title': 'Should'}, 'min_should': {'anyOf': [{'$ref': '#/$defs/MinShould'}, {'type': 'null'}], 'default': None, 'description': 'At least minimum amount of given conditions should match'}, 'must': {'anyOf': [{'items': {'anyOf': [{'$ref': '#/$defs/FieldCondition'}, {'$ref': '#/$defs/Filter'}]}, 'type': 'array'}, {'type': 'null'}], 'default': None, 'description': 'All conditions must match', 'title': 'Must'}, 'must_not': {'anyOf': [{'items': {'anyOf': [{'$ref': '#/$defs/FieldCondition'}, {'$ref': '#/$defs/Filter'}]}, 'type': 'array'}, {'type': 'null'}], 'default': None, 'description': 'All conditions must NOT match', 'title': 'Must Not'}}, 'title': 'Filter', 'type': 'object'}, 'MatchAny': {'additionalProperties': False, 'description': 'Exact match on any of the given values', 'properties': {'any': {'anyOf': [{'items': {'type': 'string'}, 'type': 'array'}, {'items': {'type': 'integer'}, 'type': 'array'}], 'description': 'Exact match on any of the given values', 'title': 'Any'}}, 'required': ['any'], 'title': 'MatchAny', 'type': 'object'}, 'MatchExcept': {'additionalProperties': False, 'description': 'Should have at least one value not matching the any given values', 'properties': {'except': {'anyOf': [{'items': {'type': 'string'}, 'type': 'array'}, {'items': {'type': 'integer'}, 'type': 'array'}], 'description': 'Should have at least one value not matching the any given values', 'title': 'Except'}}, 'required': ['except'], 'title': 'MatchExcept', 'type': 'object'}, 'MatchText': {'additionalProperties': False, 'description': 'Full-text match of the strings.', 'properties': {'text': {'description': 'Full-text match of the strings.', 'title': 'Text', 'type': 'string'}}, 'required': ['text'], 'title': 'MatchText', 'type': 'object'}, 'MatchValue': {'additionalProperties': False, 'description': 'Exact match of the given value', 'properties': {'value': {'anyOf': [{'type': 'string'}, {'type': 'integer'}, {'type': 'boolean'}], 'description': 'Exact match of the given value', 'title': 'Value'}}, 'required': ['value'], 'title': 'MatchValue', 'type': 'object'}, 'MinShould': {'additionalProperties': False, 'properties': {'conditions': {'description': '', 'items': {'anyOf': [{'$ref': '#/$defs/FieldCondition'}, {'$ref': '#/$defs/Filter'}]}, 'title': 'Conditions', 'type': 'array'}, 'min_count': {'description': '', 'title': 'Min Count', 'type': 'integer'}}, 'required': ['conditions', 'min_count'], 'title': 'MinShould', 'type': 'object'}, 'PayloadField': {'additionalProperties': False, 'description': 'Payload field', 'properties': {'key': {'description': 'Payload field name', 'title': 'Key', 'type': 'string'}}, 'required': ['key'], 'title': 'PayloadField', 'type': 'object'}, 'Range': {'additionalProperties': False, 'description': 'Range filter request', 'properties': {'lt': {'anyOf': [{'type': 'number'}, {'type': 'null'}], 'default': None, 'description': 'point.key &lt; range.lt', 'title': 'Lt'}, 'gt': {'anyOf': [{'type': 'number'}, {'type': 'null'}], 'default': None, 'description': 'point.key &gt; range.gt', 'title': 'Gt'}, 'gte': {'anyOf': [{'type': 'number'}, {'type': 'null'}], 'default': None, 'description': 'point.key &gt;= range.gte', 'title': 'Gte'}, 'lte': {'anyOf': [{'type': 'number'}, {'type': 'null'}], 'default': None, 'description': 'point.key &lt;= range.lte', 'title': 'Lte'}}, 'title': 'Range', 'type': 'object'}, 'ValuesCount': {'additionalProperties': False, 'description': 'Values count filter request', 'properties': {'lt': {'anyOf': [{'type': 'integer'}, {'type': 'null'}], 'default': None, 'description': 'point.key.length() &lt; values_count.lt', 'title': 'Lt'}, 'gt': {'anyOf': [{'type': 'integer'}, {'type': 'null'}], 'default': None, 'description': 'point.key.length() &gt; values_count.gt', 'title': 'Gt'}, 'gte': {'anyOf': [{'type': 'integer'}, {'type': 'null'}], 'default': None, 'description': 'point.key.length() &gt;= values_count.gte', 'title': 'Gte'}, 'lte': {'anyOf': [{'type': 'integer'}, {'type': 'null'}], 'default': None, 'description': 'point.key.length() &lt;= values_count.lte', 'title': 'Lte'}}, 'title': 'ValuesCount', 'type': 'object'}}, 'allOf': [{'$ref': '#/$defs/Filter'}]}\n",
      "where the keys must conform to the following JSON schema:\n",
      "{\"$defs\": {\"Powertrain\": {\"enum\": [\"EV\", \"ICE\", \"Hybrid\"], \"title\": \"Powertrain\", \"type\": \"string\"}, \"VehicleType\": {\"enum\": [\"Car\", \"Truck\", \"SUV\", \"Van\"], \"title\": \"VehicleType\", \"type\": \"string\"}}, \"properties\": {\"vehicle_type\": {\"$ref\": \"#/$defs/VehicleType\"}, \"release_year\": {\"title\": \"Release Year\", \"type\": \"integer\"}, \"price_in_usd\": {\"title\": \"Price In Usd\", \"type\": \"number\"}, \"is_used\": {\"title\": \"Is Used\", \"type\": \"boolean\"}, \"powertrain_type\": {\"$ref\": \"#/$defs/Powertrain\"}, \"num_seats\": {\"title\": \"Num Seats\", \"type\": \"integer\"}, \"color\": {\"title\": \"Color\", \"type\": \"string\"}}, \"required\": [\"vehicle_type\", \"release_year\", \"price_in_usd\", \"is_used\", \"powertrain_type\", \"num_seats\", \"color\"], \"title\": \"Product\", \"type\": \"object\"}\n"
     ]
    }
   ],
   "source": [
    "print(SYSTEM)"
   ]
  },
  {
   "cell_type": "code",
   "execution_count": 77,
   "metadata": {},
   "outputs": [
    {
     "name": "stdout",
     "output_type": "stream",
     "text": [
      "{'should': [{'must': [{'key': 'powertrain_type', 'match': {'value': 'EV'}}, {'key': 'range', 'range': {'gte': 500}}, {'key': 'price_in_usd', 'range': {'lte': 50000}}]}, {'must': [{'key': 'range', 'range': {'gte': 1000}}, {'key': 'num_seats', 'match': {'value': 4}}]}]} is not valid under any of the given schemas\n",
      "Please delete the following keys: ['range', 'range']\n"
     ]
    }
   ],
   "source": [
    "ex = await extract_condition(SYSTEM, \"I want an electric car with a range of 500 km and a price of 50000 dollars or a car with a range of 1000 km and 4 seats\")"
   ]
  },
  {
   "cell_type": "code",
   "execution_count": 78,
   "metadata": {},
   "outputs": [
    {
     "name": "stdout",
     "output_type": "stream",
     "text": [
      "{\n",
      "  \"should\": [\n",
      "    {\n",
      "      \"must\": [\n",
      "        {\n",
      "          \"key\": \"powertrain_type\",\n",
      "          \"match\": {\n",
      "            \"value\": \"EV\"\n",
      "          }\n",
      "        },\n",
      "        {\n",
      "          \"key\": \"price_in_usd\",\n",
      "          \"range\": {\n",
      "            \"lte\": 50000\n",
      "          }\n",
      "        }\n",
      "      ]\n",
      "    },\n",
      "    {\n",
      "      \"must\": [\n",
      "        {\n",
      "          \"key\": \"num_seats\",\n",
      "          \"match\": {\n",
      "            \"value\": 4\n",
      "          }\n",
      "        }\n",
      "      ]\n",
      "    }\n",
      "  ]\n",
      "}\n"
     ]
    }
   ],
   "source": [
    "print(ex)"
   ]
  },
  {
   "cell_type": "code",
   "execution_count": 47,
   "metadata": {},
   "outputs": [],
   "source": [
    "ex = await extract_condition(SYSTEM, \"I want nothing\")"
   ]
  },
  {
   "cell_type": "code",
   "execution_count": 48,
   "metadata": {},
   "outputs": [
    {
     "name": "stdout",
     "output_type": "stream",
     "text": [
      "{\n",
      "  \"must\": []\n",
      "}\n"
     ]
    }
   ],
   "source": [
    "print(ex)"
   ]
  },
  {
   "cell_type": "code",
   "execution_count": 97,
   "metadata": {},
   "outputs": [],
   "source": [
    "SYSTEM = f\"\"\"\n",
    "\"There exists a database of cars. You are listening to a customer and car salesman talking where the customer wants to buy a car and the car salesman is recommending cars from the database. \n",
    "If the customer does not give any information on specific conditions on the car, respond with null. If he provides conditions on the car he wants to buy, you must respond with a json object conforming to the following JSON schema: {filter_schema}.\"\n",
    "\"\"\".strip()\n",
    "\n",
    "gpt = ChatGPT(SimpleHistory.system(SYSTEM), model=\"gpt-4-turbo\") \n",
    "\n",
    "extracted = await gpt(\"hi i want a car\", response_format={ \"type\": \"json_object\"})"
   ]
  },
  {
   "cell_type": "code",
   "execution_count": 98,
   "metadata": {},
   "outputs": [
    {
     "name": "stdout",
     "output_type": "stream",
     "text": [
      "{\n",
      "  \"response\": null\n",
      "}\n"
     ]
    }
   ],
   "source": [
    "print(extracted)"
   ]
  },
  {
   "cell_type": "code",
   "execution_count": 96,
   "metadata": {},
   "outputs": [
    {
     "ename": "CancelledError",
     "evalue": "",
     "output_type": "error",
     "traceback": [
      "\u001b[1;31m---------------------------------------------------------------------------\u001b[0m",
      "\u001b[1;31mCancelledError\u001b[0m                            Traceback (most recent call last)",
      "Cell \u001b[1;32mIn[96], line 8\u001b[0m\n\u001b[0;32m      1\u001b[0m SYSTEM \u001b[38;5;241m=\u001b[39m \u001b[38;5;124mf\u001b[39m\u001b[38;5;124m\"\"\"\u001b[39m\n\u001b[0;32m      2\u001b[0m \u001b[38;5;124m\"\u001b[39m\u001b[38;5;124mThere exists a database of cars and the user wants to buy a car. \u001b[39m\n\u001b[0;32m      3\u001b[0m \u001b[38;5;124mThe user can ask for a car within a specific price range and you must respond with a json object conforming to the following JSON schema: \u001b[39m\u001b[38;5;132;01m{\u001b[39;00mfilter_schema\u001b[38;5;132;01m}\u001b[39;00m\u001b[38;5;124m.\u001b[39m\u001b[38;5;124m\"\u001b[39m\n\u001b[0;32m      4\u001b[0m \u001b[38;5;124m\"\"\"\u001b[39m\u001b[38;5;241m.\u001b[39mstrip()\n\u001b[0;32m      6\u001b[0m gpt \u001b[38;5;241m=\u001b[39m ChatGPT(SimpleHistory\u001b[38;5;241m.\u001b[39msystem(SYSTEM), model\u001b[38;5;241m=\u001b[39m\u001b[38;5;124m\"\u001b[39m\u001b[38;5;124mgpt-4-turbo\u001b[39m\u001b[38;5;124m\"\u001b[39m) \n\u001b[1;32m----> 8\u001b[0m extracted \u001b[38;5;241m=\u001b[39m \u001b[38;5;28;01mawait\u001b[39;00m gpt(\u001b[38;5;124m\"\u001b[39m\u001b[38;5;124mhi i want a cheap car\u001b[39m\u001b[38;5;124m\"\u001b[39m, response_format\u001b[38;5;241m=\u001b[39m{ \u001b[38;5;124m\"\u001b[39m\u001b[38;5;124mtype\u001b[39m\u001b[38;5;124m\"\u001b[39m: \u001b[38;5;124m\"\u001b[39m\u001b[38;5;124mjson_object\u001b[39m\u001b[38;5;124m\"\u001b[39m})\n",
      "File \u001b[1;32mc:\\Users\\jw000\\AppData\\Local\\pypoetry\\Cache\\virtualenvs\\backend-eYHDKvTq-py3.11\\Lib\\site-packages\\agentools\\assistants\\chatgpt.py:60\u001b[0m, in \u001b[0;36mChatGPT.__call__\u001b[1;34m(self, prompt, tools, model, max_function_calls, event_logger, **openai_kwargs)\u001b[0m\n\u001b[0;32m     38\u001b[0m \u001b[38;5;28;01masync\u001b[39;00m \u001b[38;5;28;01mdef\u001b[39;00m \u001b[38;5;21m__call__\u001b[39m(\n\u001b[0;32m     39\u001b[0m     \u001b[38;5;28mself\u001b[39m,\n\u001b[0;32m     40\u001b[0m     prompt: \u001b[38;5;28mstr\u001b[39m,\n\u001b[1;32m   (...)\u001b[0m\n\u001b[0;32m     45\u001b[0m     \u001b[38;5;241m*\u001b[39m\u001b[38;5;241m*\u001b[39mopenai_kwargs,\n\u001b[0;32m     46\u001b[0m ) \u001b[38;5;241m-\u001b[39m\u001b[38;5;241m>\u001b[39m \u001b[38;5;28mstr\u001b[39m:\n\u001b[0;32m     47\u001b[0m \u001b[38;5;250m    \u001b[39m\u001b[38;5;124;03m\"\"\"\u001b[39;00m\n\u001b[0;32m     48\u001b[0m \u001b[38;5;124;03m    Prompt the assistant, returning its final response.\u001b[39;00m\n\u001b[0;32m     49\u001b[0m \n\u001b[1;32m   (...)\u001b[0m\n\u001b[0;32m     58\u001b[0m \u001b[38;5;124;03m        the assistant's final response\u001b[39;00m\n\u001b[0;32m     59\u001b[0m \u001b[38;5;124;03m    \"\"\"\u001b[39;00m\n\u001b[1;32m---> 60\u001b[0m     \u001b[38;5;28;01masync\u001b[39;00m \u001b[38;5;28;01mfor\u001b[39;00m event \u001b[38;5;129;01min\u001b[39;00m \u001b[38;5;28mself\u001b[39m\u001b[38;5;241m.\u001b[39mresponse_events(\n\u001b[0;32m     61\u001b[0m         prompt, tools, model, max_function_calls, \u001b[38;5;241m*\u001b[39m\u001b[38;5;241m*\u001b[39mopenai_kwargs\n\u001b[0;32m     62\u001b[0m     ):\n\u001b[0;32m     63\u001b[0m         \u001b[38;5;28;01mif\u001b[39;00m event_logger:\n\u001b[0;32m     64\u001b[0m             event_logger(format_event(event))\n",
      "File \u001b[1;32mc:\\Users\\jw000\\AppData\\Local\\pypoetry\\Cache\\virtualenvs\\backend-eYHDKvTq-py3.11\\Lib\\site-packages\\agentools\\assistants\\chatgpt.py:109\u001b[0m, in \u001b[0;36mChatGPT.response_events\u001b[1;34m(self, prompt, tools, model, max_function_calls, parallel_calls, **openai_kwargs)\u001b[0m\n\u001b[0;32m     97\u001b[0m completion_events \u001b[38;5;241m=\u001b[39m \u001b[38;5;28mself\u001b[39m\u001b[38;5;241m.\u001b[39mcompletion_events(\n\u001b[0;32m     98\u001b[0m     call_index,\n\u001b[0;32m     99\u001b[0m     tools,\n\u001b[1;32m   (...)\u001b[0m\n\u001b[0;32m    106\u001b[0m     ),\n\u001b[0;32m    107\u001b[0m )\n\u001b[0;32m    108\u001b[0m completion: ChatCompletion \u001b[38;5;241m=\u001b[39m \u001b[38;5;28;01mNone\u001b[39;00m\n\u001b[1;32m--> 109\u001b[0m \u001b[38;5;28;01masync\u001b[39;00m \u001b[38;5;28;01mfor\u001b[39;00m partial_event \u001b[38;5;129;01min\u001b[39;00m completion_events:\n\u001b[0;32m    110\u001b[0m     \u001b[38;5;28;01myield\u001b[39;00m partial_event\n\u001b[0;32m    111\u001b[0m     \u001b[38;5;28;01mmatch\u001b[39;00m partial_event:\n",
      "File \u001b[1;32mc:\\Users\\jw000\\AppData\\Local\\pypoetry\\Cache\\virtualenvs\\backend-eYHDKvTq-py3.11\\Lib\\site-packages\\agentools\\assistants\\chatgpt.py:158\u001b[0m, in \u001b[0;36mChatGPT.completion_events\u001b[1;34m(self, call_index, tools, parallel_calls, openai_args)\u001b[0m\n\u001b[0;32m    155\u001b[0m \u001b[38;5;66;03m# ========== simple non-streaming case ========== #\u001b[39;00m\n\u001b[0;32m    156\u001b[0m \u001b[38;5;28;01mif\u001b[39;00m \u001b[38;5;129;01mnot\u001b[39;00m openai_args\u001b[38;5;241m.\u001b[39mget(\u001b[38;5;124m\"\u001b[39m\u001b[38;5;124mstream\u001b[39m\u001b[38;5;124m\"\u001b[39m, \u001b[38;5;28;01mFalse\u001b[39;00m):\n\u001b[0;32m    157\u001b[0m     \u001b[38;5;66;03m# call the underlying API\u001b[39;00m\n\u001b[1;32m--> 158\u001b[0m     completion \u001b[38;5;241m=\u001b[39m \u001b[38;5;28;01mawait\u001b[39;00m openai_chat(\u001b[38;5;241m*\u001b[39m\u001b[38;5;241m*\u001b[39mopenai_args)\n\u001b[0;32m    159\u001b[0m     \u001b[38;5;28;01myield\u001b[39;00m \u001b[38;5;28mself\u001b[39m\u001b[38;5;241m.\u001b[39mCompletionEvent(completion, call_index)\n\u001b[0;32m    160\u001b[0m     \u001b[38;5;28;01mreturn\u001b[39;00m\n",
      "File \u001b[1;32mc:\\Users\\jw000\\AppData\\Local\\pypoetry\\Cache\\virtualenvs\\backend-eYHDKvTq-py3.11\\Lib\\site-packages\\agentools\\api\\openai.py:69\u001b[0m, in \u001b[0;36mopenai_chat\u001b[1;34m(client, **openai_kwargs)\u001b[0m\n\u001b[0;32m     67\u001b[0m     \u001b[38;5;28;01melse\u001b[39;00m:\n\u001b[0;32m     68\u001b[0m         client \u001b[38;5;241m=\u001b[39m client \u001b[38;5;129;01mor\u001b[39;00m AsyncOpenAI()\n\u001b[1;32m---> 69\u001b[0m     gen \u001b[38;5;241m=\u001b[39m \u001b[38;5;28;01mawait\u001b[39;00m client\u001b[38;5;241m.\u001b[39mchat\u001b[38;5;241m.\u001b[39mcompletions\u001b[38;5;241m.\u001b[39mcreate(\u001b[38;5;241m*\u001b[39m\u001b[38;5;241m*\u001b[39mopenai_kwargs)\n\u001b[0;32m     71\u001b[0m \u001b[38;5;66;03m# Record the response if recording\u001b[39;00m\n\u001b[0;32m     72\u001b[0m \u001b[38;5;28;01mif\u001b[39;00m GLOBAL_RECORDINGS\u001b[38;5;241m.\u001b[39mcurrent_recorder:\n",
      "File \u001b[1;32mc:\\Users\\jw000\\AppData\\Local\\pypoetry\\Cache\\virtualenvs\\backend-eYHDKvTq-py3.11\\Lib\\site-packages\\openai\\resources\\chat\\completions.py:1159\u001b[0m, in \u001b[0;36mAsyncCompletions.create\u001b[1;34m(self, messages, model, frequency_penalty, function_call, functions, logit_bias, logprobs, max_tokens, n, presence_penalty, response_format, seed, stop, stream, temperature, tool_choice, tools, top_logprobs, top_p, user, extra_headers, extra_query, extra_body, timeout)\u001b[0m\n\u001b[0;32m   1128\u001b[0m \u001b[38;5;129m@required_args\u001b[39m([\u001b[38;5;124m\"\u001b[39m\u001b[38;5;124mmessages\u001b[39m\u001b[38;5;124m\"\u001b[39m, \u001b[38;5;124m\"\u001b[39m\u001b[38;5;124mmodel\u001b[39m\u001b[38;5;124m\"\u001b[39m], [\u001b[38;5;124m\"\u001b[39m\u001b[38;5;124mmessages\u001b[39m\u001b[38;5;124m\"\u001b[39m, \u001b[38;5;124m\"\u001b[39m\u001b[38;5;124mmodel\u001b[39m\u001b[38;5;124m\"\u001b[39m, \u001b[38;5;124m\"\u001b[39m\u001b[38;5;124mstream\u001b[39m\u001b[38;5;124m\"\u001b[39m])\n\u001b[0;32m   1129\u001b[0m \u001b[38;5;28;01masync\u001b[39;00m \u001b[38;5;28;01mdef\u001b[39;00m \u001b[38;5;21mcreate\u001b[39m(\n\u001b[0;32m   1130\u001b[0m     \u001b[38;5;28mself\u001b[39m,\n\u001b[1;32m   (...)\u001b[0m\n\u001b[0;32m   1157\u001b[0m     timeout: \u001b[38;5;28mfloat\u001b[39m \u001b[38;5;241m|\u001b[39m httpx\u001b[38;5;241m.\u001b[39mTimeout \u001b[38;5;241m|\u001b[39m \u001b[38;5;28;01mNone\u001b[39;00m \u001b[38;5;241m|\u001b[39m NotGiven \u001b[38;5;241m=\u001b[39m NOT_GIVEN,\n\u001b[0;32m   1158\u001b[0m ) \u001b[38;5;241m-\u001b[39m\u001b[38;5;241m>\u001b[39m ChatCompletion \u001b[38;5;241m|\u001b[39m AsyncStream[ChatCompletionChunk]:\n\u001b[1;32m-> 1159\u001b[0m     \u001b[38;5;28;01mreturn\u001b[39;00m \u001b[38;5;28;01mawait\u001b[39;00m \u001b[38;5;28mself\u001b[39m\u001b[38;5;241m.\u001b[39m_post(\n\u001b[0;32m   1160\u001b[0m         \u001b[38;5;124m\"\u001b[39m\u001b[38;5;124m/chat/completions\u001b[39m\u001b[38;5;124m\"\u001b[39m,\n\u001b[0;32m   1161\u001b[0m         body\u001b[38;5;241m=\u001b[39m\u001b[38;5;28;01mawait\u001b[39;00m async_maybe_transform(\n\u001b[0;32m   1162\u001b[0m             {\n\u001b[0;32m   1163\u001b[0m                 \u001b[38;5;124m\"\u001b[39m\u001b[38;5;124mmessages\u001b[39m\u001b[38;5;124m\"\u001b[39m: messages,\n\u001b[0;32m   1164\u001b[0m                 \u001b[38;5;124m\"\u001b[39m\u001b[38;5;124mmodel\u001b[39m\u001b[38;5;124m\"\u001b[39m: model,\n\u001b[0;32m   1165\u001b[0m                 \u001b[38;5;124m\"\u001b[39m\u001b[38;5;124mfrequency_penalty\u001b[39m\u001b[38;5;124m\"\u001b[39m: frequency_penalty,\n\u001b[0;32m   1166\u001b[0m                 \u001b[38;5;124m\"\u001b[39m\u001b[38;5;124mfunction_call\u001b[39m\u001b[38;5;124m\"\u001b[39m: function_call,\n\u001b[0;32m   1167\u001b[0m                 \u001b[38;5;124m\"\u001b[39m\u001b[38;5;124mfunctions\u001b[39m\u001b[38;5;124m\"\u001b[39m: functions,\n\u001b[0;32m   1168\u001b[0m                 \u001b[38;5;124m\"\u001b[39m\u001b[38;5;124mlogit_bias\u001b[39m\u001b[38;5;124m\"\u001b[39m: logit_bias,\n\u001b[0;32m   1169\u001b[0m                 \u001b[38;5;124m\"\u001b[39m\u001b[38;5;124mlogprobs\u001b[39m\u001b[38;5;124m\"\u001b[39m: logprobs,\n\u001b[0;32m   1170\u001b[0m                 \u001b[38;5;124m\"\u001b[39m\u001b[38;5;124mmax_tokens\u001b[39m\u001b[38;5;124m\"\u001b[39m: max_tokens,\n\u001b[0;32m   1171\u001b[0m                 \u001b[38;5;124m\"\u001b[39m\u001b[38;5;124mn\u001b[39m\u001b[38;5;124m\"\u001b[39m: n,\n\u001b[0;32m   1172\u001b[0m                 \u001b[38;5;124m\"\u001b[39m\u001b[38;5;124mpresence_penalty\u001b[39m\u001b[38;5;124m\"\u001b[39m: presence_penalty,\n\u001b[0;32m   1173\u001b[0m                 \u001b[38;5;124m\"\u001b[39m\u001b[38;5;124mresponse_format\u001b[39m\u001b[38;5;124m\"\u001b[39m: response_format,\n\u001b[0;32m   1174\u001b[0m                 \u001b[38;5;124m\"\u001b[39m\u001b[38;5;124mseed\u001b[39m\u001b[38;5;124m\"\u001b[39m: seed,\n\u001b[0;32m   1175\u001b[0m                 \u001b[38;5;124m\"\u001b[39m\u001b[38;5;124mstop\u001b[39m\u001b[38;5;124m\"\u001b[39m: stop,\n\u001b[0;32m   1176\u001b[0m                 \u001b[38;5;124m\"\u001b[39m\u001b[38;5;124mstream\u001b[39m\u001b[38;5;124m\"\u001b[39m: stream,\n\u001b[0;32m   1177\u001b[0m                 \u001b[38;5;124m\"\u001b[39m\u001b[38;5;124mtemperature\u001b[39m\u001b[38;5;124m\"\u001b[39m: temperature,\n\u001b[0;32m   1178\u001b[0m                 \u001b[38;5;124m\"\u001b[39m\u001b[38;5;124mtool_choice\u001b[39m\u001b[38;5;124m\"\u001b[39m: tool_choice,\n\u001b[0;32m   1179\u001b[0m                 \u001b[38;5;124m\"\u001b[39m\u001b[38;5;124mtools\u001b[39m\u001b[38;5;124m\"\u001b[39m: tools,\n\u001b[0;32m   1180\u001b[0m                 \u001b[38;5;124m\"\u001b[39m\u001b[38;5;124mtop_logprobs\u001b[39m\u001b[38;5;124m\"\u001b[39m: top_logprobs,\n\u001b[0;32m   1181\u001b[0m                 \u001b[38;5;124m\"\u001b[39m\u001b[38;5;124mtop_p\u001b[39m\u001b[38;5;124m\"\u001b[39m: top_p,\n\u001b[0;32m   1182\u001b[0m                 \u001b[38;5;124m\"\u001b[39m\u001b[38;5;124muser\u001b[39m\u001b[38;5;124m\"\u001b[39m: user,\n\u001b[0;32m   1183\u001b[0m             },\n\u001b[0;32m   1184\u001b[0m             completion_create_params\u001b[38;5;241m.\u001b[39mCompletionCreateParams,\n\u001b[0;32m   1185\u001b[0m         ),\n\u001b[0;32m   1186\u001b[0m         options\u001b[38;5;241m=\u001b[39mmake_request_options(\n\u001b[0;32m   1187\u001b[0m             extra_headers\u001b[38;5;241m=\u001b[39mextra_headers, extra_query\u001b[38;5;241m=\u001b[39mextra_query, extra_body\u001b[38;5;241m=\u001b[39mextra_body, timeout\u001b[38;5;241m=\u001b[39mtimeout\n\u001b[0;32m   1188\u001b[0m         ),\n\u001b[0;32m   1189\u001b[0m         cast_to\u001b[38;5;241m=\u001b[39mChatCompletion,\n\u001b[0;32m   1190\u001b[0m         stream\u001b[38;5;241m=\u001b[39mstream \u001b[38;5;129;01mor\u001b[39;00m \u001b[38;5;28;01mFalse\u001b[39;00m,\n\u001b[0;32m   1191\u001b[0m         stream_cls\u001b[38;5;241m=\u001b[39mAsyncStream[ChatCompletionChunk],\n\u001b[0;32m   1192\u001b[0m     )\n",
      "File \u001b[1;32mc:\\Users\\jw000\\AppData\\Local\\pypoetry\\Cache\\virtualenvs\\backend-eYHDKvTq-py3.11\\Lib\\site-packages\\openai\\_base_client.py:1782\u001b[0m, in \u001b[0;36mAsyncAPIClient.post\u001b[1;34m(self, path, cast_to, body, files, options, stream, stream_cls)\u001b[0m\n\u001b[0;32m   1768\u001b[0m \u001b[38;5;28;01masync\u001b[39;00m \u001b[38;5;28;01mdef\u001b[39;00m \u001b[38;5;21mpost\u001b[39m(\n\u001b[0;32m   1769\u001b[0m     \u001b[38;5;28mself\u001b[39m,\n\u001b[0;32m   1770\u001b[0m     path: \u001b[38;5;28mstr\u001b[39m,\n\u001b[1;32m   (...)\u001b[0m\n\u001b[0;32m   1777\u001b[0m     stream_cls: \u001b[38;5;28mtype\u001b[39m[_AsyncStreamT] \u001b[38;5;241m|\u001b[39m \u001b[38;5;28;01mNone\u001b[39;00m \u001b[38;5;241m=\u001b[39m \u001b[38;5;28;01mNone\u001b[39;00m,\n\u001b[0;32m   1778\u001b[0m ) \u001b[38;5;241m-\u001b[39m\u001b[38;5;241m>\u001b[39m ResponseT \u001b[38;5;241m|\u001b[39m _AsyncStreamT:\n\u001b[0;32m   1779\u001b[0m     opts \u001b[38;5;241m=\u001b[39m FinalRequestOptions\u001b[38;5;241m.\u001b[39mconstruct(\n\u001b[0;32m   1780\u001b[0m         method\u001b[38;5;241m=\u001b[39m\u001b[38;5;124m\"\u001b[39m\u001b[38;5;124mpost\u001b[39m\u001b[38;5;124m\"\u001b[39m, url\u001b[38;5;241m=\u001b[39mpath, json_data\u001b[38;5;241m=\u001b[39mbody, files\u001b[38;5;241m=\u001b[39m\u001b[38;5;28;01mawait\u001b[39;00m async_to_httpx_files(files), \u001b[38;5;241m*\u001b[39m\u001b[38;5;241m*\u001b[39moptions\n\u001b[0;32m   1781\u001b[0m     )\n\u001b[1;32m-> 1782\u001b[0m     \u001b[38;5;28;01mreturn\u001b[39;00m \u001b[38;5;28;01mawait\u001b[39;00m \u001b[38;5;28mself\u001b[39m\u001b[38;5;241m.\u001b[39mrequest(cast_to, opts, stream\u001b[38;5;241m=\u001b[39mstream, stream_cls\u001b[38;5;241m=\u001b[39mstream_cls)\n",
      "File \u001b[1;32mc:\\Users\\jw000\\AppData\\Local\\pypoetry\\Cache\\virtualenvs\\backend-eYHDKvTq-py3.11\\Lib\\site-packages\\openai\\_base_client.py:1485\u001b[0m, in \u001b[0;36mAsyncAPIClient.request\u001b[1;34m(self, cast_to, options, stream, stream_cls, remaining_retries)\u001b[0m\n\u001b[0;32m   1476\u001b[0m \u001b[38;5;28;01masync\u001b[39;00m \u001b[38;5;28;01mdef\u001b[39;00m \u001b[38;5;21mrequest\u001b[39m(\n\u001b[0;32m   1477\u001b[0m     \u001b[38;5;28mself\u001b[39m,\n\u001b[0;32m   1478\u001b[0m     cast_to: Type[ResponseT],\n\u001b[1;32m   (...)\u001b[0m\n\u001b[0;32m   1483\u001b[0m     remaining_retries: Optional[\u001b[38;5;28mint\u001b[39m] \u001b[38;5;241m=\u001b[39m \u001b[38;5;28;01mNone\u001b[39;00m,\n\u001b[0;32m   1484\u001b[0m ) \u001b[38;5;241m-\u001b[39m\u001b[38;5;241m>\u001b[39m ResponseT \u001b[38;5;241m|\u001b[39m _AsyncStreamT:\n\u001b[1;32m-> 1485\u001b[0m     \u001b[38;5;28;01mreturn\u001b[39;00m \u001b[38;5;28;01mawait\u001b[39;00m \u001b[38;5;28mself\u001b[39m\u001b[38;5;241m.\u001b[39m_request(\n\u001b[0;32m   1486\u001b[0m         cast_to\u001b[38;5;241m=\u001b[39mcast_to,\n\u001b[0;32m   1487\u001b[0m         options\u001b[38;5;241m=\u001b[39moptions,\n\u001b[0;32m   1488\u001b[0m         stream\u001b[38;5;241m=\u001b[39mstream,\n\u001b[0;32m   1489\u001b[0m         stream_cls\u001b[38;5;241m=\u001b[39mstream_cls,\n\u001b[0;32m   1490\u001b[0m         remaining_retries\u001b[38;5;241m=\u001b[39mremaining_retries,\n\u001b[0;32m   1491\u001b[0m     )\n",
      "File \u001b[1;32mc:\\Users\\jw000\\AppData\\Local\\pypoetry\\Cache\\virtualenvs\\backend-eYHDKvTq-py3.11\\Lib\\site-packages\\openai\\_base_client.py:1514\u001b[0m, in \u001b[0;36mAsyncAPIClient._request\u001b[1;34m(self, cast_to, options, stream, stream_cls, remaining_retries)\u001b[0m\n\u001b[0;32m   1511\u001b[0m     kwargs[\u001b[38;5;124m\"\u001b[39m\u001b[38;5;124mauth\u001b[39m\u001b[38;5;124m\"\u001b[39m] \u001b[38;5;241m=\u001b[39m \u001b[38;5;28mself\u001b[39m\u001b[38;5;241m.\u001b[39mcustom_auth\n\u001b[0;32m   1513\u001b[0m \u001b[38;5;28;01mtry\u001b[39;00m:\n\u001b[1;32m-> 1514\u001b[0m     response \u001b[38;5;241m=\u001b[39m \u001b[38;5;28;01mawait\u001b[39;00m \u001b[38;5;28mself\u001b[39m\u001b[38;5;241m.\u001b[39m_client\u001b[38;5;241m.\u001b[39msend(\n\u001b[0;32m   1515\u001b[0m         request,\n\u001b[0;32m   1516\u001b[0m         stream\u001b[38;5;241m=\u001b[39mstream \u001b[38;5;129;01mor\u001b[39;00m \u001b[38;5;28mself\u001b[39m\u001b[38;5;241m.\u001b[39m_should_stream_response_body(request\u001b[38;5;241m=\u001b[39mrequest),\n\u001b[0;32m   1517\u001b[0m         \u001b[38;5;241m*\u001b[39m\u001b[38;5;241m*\u001b[39mkwargs,\n\u001b[0;32m   1518\u001b[0m     )\n\u001b[0;32m   1519\u001b[0m \u001b[38;5;28;01mexcept\u001b[39;00m httpx\u001b[38;5;241m.\u001b[39mTimeoutException \u001b[38;5;28;01mas\u001b[39;00m err:\n\u001b[0;32m   1520\u001b[0m     log\u001b[38;5;241m.\u001b[39mdebug(\u001b[38;5;124m\"\u001b[39m\u001b[38;5;124mEncountered httpx.TimeoutException\u001b[39m\u001b[38;5;124m\"\u001b[39m, exc_info\u001b[38;5;241m=\u001b[39m\u001b[38;5;28;01mTrue\u001b[39;00m)\n",
      "File \u001b[1;32mc:\\Users\\jw000\\AppData\\Local\\pypoetry\\Cache\\virtualenvs\\backend-eYHDKvTq-py3.11\\Lib\\site-packages\\httpx\\_client.py:1661\u001b[0m, in \u001b[0;36mAsyncClient.send\u001b[1;34m(self, request, stream, auth, follow_redirects)\u001b[0m\n\u001b[0;32m   1653\u001b[0m follow_redirects \u001b[38;5;241m=\u001b[39m (\n\u001b[0;32m   1654\u001b[0m     \u001b[38;5;28mself\u001b[39m\u001b[38;5;241m.\u001b[39mfollow_redirects\n\u001b[0;32m   1655\u001b[0m     \u001b[38;5;28;01mif\u001b[39;00m \u001b[38;5;28misinstance\u001b[39m(follow_redirects, UseClientDefault)\n\u001b[0;32m   1656\u001b[0m     \u001b[38;5;28;01melse\u001b[39;00m follow_redirects\n\u001b[0;32m   1657\u001b[0m )\n\u001b[0;32m   1659\u001b[0m auth \u001b[38;5;241m=\u001b[39m \u001b[38;5;28mself\u001b[39m\u001b[38;5;241m.\u001b[39m_build_request_auth(request, auth)\n\u001b[1;32m-> 1661\u001b[0m response \u001b[38;5;241m=\u001b[39m \u001b[38;5;28;01mawait\u001b[39;00m \u001b[38;5;28mself\u001b[39m\u001b[38;5;241m.\u001b[39m_send_handling_auth(\n\u001b[0;32m   1662\u001b[0m     request,\n\u001b[0;32m   1663\u001b[0m     auth\u001b[38;5;241m=\u001b[39mauth,\n\u001b[0;32m   1664\u001b[0m     follow_redirects\u001b[38;5;241m=\u001b[39mfollow_redirects,\n\u001b[0;32m   1665\u001b[0m     history\u001b[38;5;241m=\u001b[39m[],\n\u001b[0;32m   1666\u001b[0m )\n\u001b[0;32m   1667\u001b[0m \u001b[38;5;28;01mtry\u001b[39;00m:\n\u001b[0;32m   1668\u001b[0m     \u001b[38;5;28;01mif\u001b[39;00m \u001b[38;5;129;01mnot\u001b[39;00m stream:\n",
      "File \u001b[1;32mc:\\Users\\jw000\\AppData\\Local\\pypoetry\\Cache\\virtualenvs\\backend-eYHDKvTq-py3.11\\Lib\\site-packages\\httpx\\_client.py:1689\u001b[0m, in \u001b[0;36mAsyncClient._send_handling_auth\u001b[1;34m(self, request, auth, follow_redirects, history)\u001b[0m\n\u001b[0;32m   1686\u001b[0m request \u001b[38;5;241m=\u001b[39m \u001b[38;5;28;01mawait\u001b[39;00m auth_flow\u001b[38;5;241m.\u001b[39m\u001b[38;5;21m__anext__\u001b[39m()\n\u001b[0;32m   1688\u001b[0m \u001b[38;5;28;01mwhile\u001b[39;00m \u001b[38;5;28;01mTrue\u001b[39;00m:\n\u001b[1;32m-> 1689\u001b[0m     response \u001b[38;5;241m=\u001b[39m \u001b[38;5;28;01mawait\u001b[39;00m \u001b[38;5;28mself\u001b[39m\u001b[38;5;241m.\u001b[39m_send_handling_redirects(\n\u001b[0;32m   1690\u001b[0m         request,\n\u001b[0;32m   1691\u001b[0m         follow_redirects\u001b[38;5;241m=\u001b[39mfollow_redirects,\n\u001b[0;32m   1692\u001b[0m         history\u001b[38;5;241m=\u001b[39mhistory,\n\u001b[0;32m   1693\u001b[0m     )\n\u001b[0;32m   1694\u001b[0m     \u001b[38;5;28;01mtry\u001b[39;00m:\n\u001b[0;32m   1695\u001b[0m         \u001b[38;5;28;01mtry\u001b[39;00m:\n",
      "File \u001b[1;32mc:\\Users\\jw000\\AppData\\Local\\pypoetry\\Cache\\virtualenvs\\backend-eYHDKvTq-py3.11\\Lib\\site-packages\\httpx\\_client.py:1726\u001b[0m, in \u001b[0;36mAsyncClient._send_handling_redirects\u001b[1;34m(self, request, follow_redirects, history)\u001b[0m\n\u001b[0;32m   1723\u001b[0m \u001b[38;5;28;01mfor\u001b[39;00m hook \u001b[38;5;129;01min\u001b[39;00m \u001b[38;5;28mself\u001b[39m\u001b[38;5;241m.\u001b[39m_event_hooks[\u001b[38;5;124m\"\u001b[39m\u001b[38;5;124mrequest\u001b[39m\u001b[38;5;124m\"\u001b[39m]:\n\u001b[0;32m   1724\u001b[0m     \u001b[38;5;28;01mawait\u001b[39;00m hook(request)\n\u001b[1;32m-> 1726\u001b[0m response \u001b[38;5;241m=\u001b[39m \u001b[38;5;28;01mawait\u001b[39;00m \u001b[38;5;28mself\u001b[39m\u001b[38;5;241m.\u001b[39m_send_single_request(request)\n\u001b[0;32m   1727\u001b[0m \u001b[38;5;28;01mtry\u001b[39;00m:\n\u001b[0;32m   1728\u001b[0m     \u001b[38;5;28;01mfor\u001b[39;00m hook \u001b[38;5;129;01min\u001b[39;00m \u001b[38;5;28mself\u001b[39m\u001b[38;5;241m.\u001b[39m_event_hooks[\u001b[38;5;124m\"\u001b[39m\u001b[38;5;124mresponse\u001b[39m\u001b[38;5;124m\"\u001b[39m]:\n",
      "File \u001b[1;32mc:\\Users\\jw000\\AppData\\Local\\pypoetry\\Cache\\virtualenvs\\backend-eYHDKvTq-py3.11\\Lib\\site-packages\\httpx\\_client.py:1763\u001b[0m, in \u001b[0;36mAsyncClient._send_single_request\u001b[1;34m(self, request)\u001b[0m\n\u001b[0;32m   1758\u001b[0m     \u001b[38;5;28;01mraise\u001b[39;00m \u001b[38;5;167;01mRuntimeError\u001b[39;00m(\n\u001b[0;32m   1759\u001b[0m         \u001b[38;5;124m\"\u001b[39m\u001b[38;5;124mAttempted to send an sync request with an AsyncClient instance.\u001b[39m\u001b[38;5;124m\"\u001b[39m\n\u001b[0;32m   1760\u001b[0m     )\n\u001b[0;32m   1762\u001b[0m \u001b[38;5;28;01mwith\u001b[39;00m request_context(request\u001b[38;5;241m=\u001b[39mrequest):\n\u001b[1;32m-> 1763\u001b[0m     response \u001b[38;5;241m=\u001b[39m \u001b[38;5;28;01mawait\u001b[39;00m transport\u001b[38;5;241m.\u001b[39mhandle_async_request(request)\n\u001b[0;32m   1765\u001b[0m \u001b[38;5;28;01massert\u001b[39;00m \u001b[38;5;28misinstance\u001b[39m(response\u001b[38;5;241m.\u001b[39mstream, AsyncByteStream)\n\u001b[0;32m   1766\u001b[0m response\u001b[38;5;241m.\u001b[39mrequest \u001b[38;5;241m=\u001b[39m request\n",
      "File \u001b[1;32mc:\\Users\\jw000\\AppData\\Local\\pypoetry\\Cache\\virtualenvs\\backend-eYHDKvTq-py3.11\\Lib\\site-packages\\httpx\\_transports\\default.py:373\u001b[0m, in \u001b[0;36mAsyncHTTPTransport.handle_async_request\u001b[1;34m(self, request)\u001b[0m\n\u001b[0;32m    360\u001b[0m req \u001b[38;5;241m=\u001b[39m httpcore\u001b[38;5;241m.\u001b[39mRequest(\n\u001b[0;32m    361\u001b[0m     method\u001b[38;5;241m=\u001b[39mrequest\u001b[38;5;241m.\u001b[39mmethod,\n\u001b[0;32m    362\u001b[0m     url\u001b[38;5;241m=\u001b[39mhttpcore\u001b[38;5;241m.\u001b[39mURL(\n\u001b[1;32m   (...)\u001b[0m\n\u001b[0;32m    370\u001b[0m     extensions\u001b[38;5;241m=\u001b[39mrequest\u001b[38;5;241m.\u001b[39mextensions,\n\u001b[0;32m    371\u001b[0m )\n\u001b[0;32m    372\u001b[0m \u001b[38;5;28;01mwith\u001b[39;00m map_httpcore_exceptions():\n\u001b[1;32m--> 373\u001b[0m     resp \u001b[38;5;241m=\u001b[39m \u001b[38;5;28;01mawait\u001b[39;00m \u001b[38;5;28mself\u001b[39m\u001b[38;5;241m.\u001b[39m_pool\u001b[38;5;241m.\u001b[39mhandle_async_request(req)\n\u001b[0;32m    375\u001b[0m \u001b[38;5;28;01massert\u001b[39;00m \u001b[38;5;28misinstance\u001b[39m(resp\u001b[38;5;241m.\u001b[39mstream, typing\u001b[38;5;241m.\u001b[39mAsyncIterable)\n\u001b[0;32m    377\u001b[0m \u001b[38;5;28;01mreturn\u001b[39;00m Response(\n\u001b[0;32m    378\u001b[0m     status_code\u001b[38;5;241m=\u001b[39mresp\u001b[38;5;241m.\u001b[39mstatus,\n\u001b[0;32m    379\u001b[0m     headers\u001b[38;5;241m=\u001b[39mresp\u001b[38;5;241m.\u001b[39mheaders,\n\u001b[0;32m    380\u001b[0m     stream\u001b[38;5;241m=\u001b[39mAsyncResponseStream(resp\u001b[38;5;241m.\u001b[39mstream),\n\u001b[0;32m    381\u001b[0m     extensions\u001b[38;5;241m=\u001b[39mresp\u001b[38;5;241m.\u001b[39mextensions,\n\u001b[0;32m    382\u001b[0m )\n",
      "File \u001b[1;32mc:\\Users\\jw000\\AppData\\Local\\pypoetry\\Cache\\virtualenvs\\backend-eYHDKvTq-py3.11\\Lib\\site-packages\\httpcore\\_async\\connection_pool.py:216\u001b[0m, in \u001b[0;36mAsyncConnectionPool.handle_async_request\u001b[1;34m(self, request)\u001b[0m\n\u001b[0;32m    213\u001b[0m         closing \u001b[38;5;241m=\u001b[39m \u001b[38;5;28mself\u001b[39m\u001b[38;5;241m.\u001b[39m_assign_requests_to_connections()\n\u001b[0;32m    215\u001b[0m     \u001b[38;5;28;01mawait\u001b[39;00m \u001b[38;5;28mself\u001b[39m\u001b[38;5;241m.\u001b[39m_close_connections(closing)\n\u001b[1;32m--> 216\u001b[0m     \u001b[38;5;28;01mraise\u001b[39;00m exc \u001b[38;5;28;01mfrom\u001b[39;00m \u001b[38;5;28;01mNone\u001b[39;00m\n\u001b[0;32m    218\u001b[0m \u001b[38;5;66;03m# Return the response. Note that in this case we still have to manage\u001b[39;00m\n\u001b[0;32m    219\u001b[0m \u001b[38;5;66;03m# the point at which the response is closed.\u001b[39;00m\n\u001b[0;32m    220\u001b[0m \u001b[38;5;28;01massert\u001b[39;00m \u001b[38;5;28misinstance\u001b[39m(response\u001b[38;5;241m.\u001b[39mstream, AsyncIterable)\n",
      "File \u001b[1;32mc:\\Users\\jw000\\AppData\\Local\\pypoetry\\Cache\\virtualenvs\\backend-eYHDKvTq-py3.11\\Lib\\site-packages\\httpcore\\_async\\connection_pool.py:196\u001b[0m, in \u001b[0;36mAsyncConnectionPool.handle_async_request\u001b[1;34m(self, request)\u001b[0m\n\u001b[0;32m    192\u001b[0m connection \u001b[38;5;241m=\u001b[39m \u001b[38;5;28;01mawait\u001b[39;00m pool_request\u001b[38;5;241m.\u001b[39mwait_for_connection(timeout\u001b[38;5;241m=\u001b[39mtimeout)\n\u001b[0;32m    194\u001b[0m \u001b[38;5;28;01mtry\u001b[39;00m:\n\u001b[0;32m    195\u001b[0m     \u001b[38;5;66;03m# Send the request on the assigned connection.\u001b[39;00m\n\u001b[1;32m--> 196\u001b[0m     response \u001b[38;5;241m=\u001b[39m \u001b[38;5;28;01mawait\u001b[39;00m connection\u001b[38;5;241m.\u001b[39mhandle_async_request(\n\u001b[0;32m    197\u001b[0m         pool_request\u001b[38;5;241m.\u001b[39mrequest\n\u001b[0;32m    198\u001b[0m     )\n\u001b[0;32m    199\u001b[0m \u001b[38;5;28;01mexcept\u001b[39;00m ConnectionNotAvailable:\n\u001b[0;32m    200\u001b[0m     \u001b[38;5;66;03m# In some cases a connection may initially be available to\u001b[39;00m\n\u001b[0;32m    201\u001b[0m     \u001b[38;5;66;03m# handle a request, but then become unavailable.\u001b[39;00m\n\u001b[0;32m    202\u001b[0m     \u001b[38;5;66;03m#\u001b[39;00m\n\u001b[0;32m    203\u001b[0m     \u001b[38;5;66;03m# In this case we clear the connection and try again.\u001b[39;00m\n\u001b[0;32m    204\u001b[0m     pool_request\u001b[38;5;241m.\u001b[39mclear_connection()\n",
      "File \u001b[1;32mc:\\Users\\jw000\\AppData\\Local\\pypoetry\\Cache\\virtualenvs\\backend-eYHDKvTq-py3.11\\Lib\\site-packages\\httpcore\\_async\\connection.py:101\u001b[0m, in \u001b[0;36mAsyncHTTPConnection.handle_async_request\u001b[1;34m(self, request)\u001b[0m\n\u001b[0;32m     98\u001b[0m     \u001b[38;5;28mself\u001b[39m\u001b[38;5;241m.\u001b[39m_connect_failed \u001b[38;5;241m=\u001b[39m \u001b[38;5;28;01mTrue\u001b[39;00m\n\u001b[0;32m     99\u001b[0m     \u001b[38;5;28;01mraise\u001b[39;00m exc\n\u001b[1;32m--> 101\u001b[0m \u001b[38;5;28;01mreturn\u001b[39;00m \u001b[38;5;28;01mawait\u001b[39;00m \u001b[38;5;28mself\u001b[39m\u001b[38;5;241m.\u001b[39m_connection\u001b[38;5;241m.\u001b[39mhandle_async_request(request)\n",
      "File \u001b[1;32mc:\\Users\\jw000\\AppData\\Local\\pypoetry\\Cache\\virtualenvs\\backend-eYHDKvTq-py3.11\\Lib\\site-packages\\httpcore\\_async\\http11.py:143\u001b[0m, in \u001b[0;36mAsyncHTTP11Connection.handle_async_request\u001b[1;34m(self, request)\u001b[0m\n\u001b[0;32m    141\u001b[0m     \u001b[38;5;28;01masync\u001b[39;00m \u001b[38;5;28;01mwith\u001b[39;00m Trace(\u001b[38;5;124m\"\u001b[39m\u001b[38;5;124mresponse_closed\u001b[39m\u001b[38;5;124m\"\u001b[39m, logger, request) \u001b[38;5;28;01mas\u001b[39;00m trace:\n\u001b[0;32m    142\u001b[0m         \u001b[38;5;28;01mawait\u001b[39;00m \u001b[38;5;28mself\u001b[39m\u001b[38;5;241m.\u001b[39m_response_closed()\n\u001b[1;32m--> 143\u001b[0m \u001b[38;5;28;01mraise\u001b[39;00m exc\n",
      "File \u001b[1;32mc:\\Users\\jw000\\AppData\\Local\\pypoetry\\Cache\\virtualenvs\\backend-eYHDKvTq-py3.11\\Lib\\site-packages\\httpcore\\_async\\http11.py:113\u001b[0m, in \u001b[0;36mAsyncHTTP11Connection.handle_async_request\u001b[1;34m(self, request)\u001b[0m\n\u001b[0;32m    102\u001b[0m     \u001b[38;5;28;01mpass\u001b[39;00m\n\u001b[0;32m    104\u001b[0m \u001b[38;5;28;01masync\u001b[39;00m \u001b[38;5;28;01mwith\u001b[39;00m Trace(\n\u001b[0;32m    105\u001b[0m     \u001b[38;5;124m\"\u001b[39m\u001b[38;5;124mreceive_response_headers\u001b[39m\u001b[38;5;124m\"\u001b[39m, logger, request, kwargs\n\u001b[0;32m    106\u001b[0m ) \u001b[38;5;28;01mas\u001b[39;00m trace:\n\u001b[0;32m    107\u001b[0m     (\n\u001b[0;32m    108\u001b[0m         http_version,\n\u001b[0;32m    109\u001b[0m         status,\n\u001b[0;32m    110\u001b[0m         reason_phrase,\n\u001b[0;32m    111\u001b[0m         headers,\n\u001b[0;32m    112\u001b[0m         trailing_data,\n\u001b[1;32m--> 113\u001b[0m     ) \u001b[38;5;241m=\u001b[39m \u001b[38;5;28;01mawait\u001b[39;00m \u001b[38;5;28mself\u001b[39m\u001b[38;5;241m.\u001b[39m_receive_response_headers(\u001b[38;5;241m*\u001b[39m\u001b[38;5;241m*\u001b[39mkwargs)\n\u001b[0;32m    114\u001b[0m     trace\u001b[38;5;241m.\u001b[39mreturn_value \u001b[38;5;241m=\u001b[39m (\n\u001b[0;32m    115\u001b[0m         http_version,\n\u001b[0;32m    116\u001b[0m         status,\n\u001b[0;32m    117\u001b[0m         reason_phrase,\n\u001b[0;32m    118\u001b[0m         headers,\n\u001b[0;32m    119\u001b[0m     )\n\u001b[0;32m    121\u001b[0m network_stream \u001b[38;5;241m=\u001b[39m \u001b[38;5;28mself\u001b[39m\u001b[38;5;241m.\u001b[39m_network_stream\n",
      "File \u001b[1;32mc:\\Users\\jw000\\AppData\\Local\\pypoetry\\Cache\\virtualenvs\\backend-eYHDKvTq-py3.11\\Lib\\site-packages\\httpcore\\_async\\http11.py:186\u001b[0m, in \u001b[0;36mAsyncHTTP11Connection._receive_response_headers\u001b[1;34m(self, request)\u001b[0m\n\u001b[0;32m    183\u001b[0m timeout \u001b[38;5;241m=\u001b[39m timeouts\u001b[38;5;241m.\u001b[39mget(\u001b[38;5;124m\"\u001b[39m\u001b[38;5;124mread\u001b[39m\u001b[38;5;124m\"\u001b[39m, \u001b[38;5;28;01mNone\u001b[39;00m)\n\u001b[0;32m    185\u001b[0m \u001b[38;5;28;01mwhile\u001b[39;00m \u001b[38;5;28;01mTrue\u001b[39;00m:\n\u001b[1;32m--> 186\u001b[0m     event \u001b[38;5;241m=\u001b[39m \u001b[38;5;28;01mawait\u001b[39;00m \u001b[38;5;28mself\u001b[39m\u001b[38;5;241m.\u001b[39m_receive_event(timeout\u001b[38;5;241m=\u001b[39mtimeout)\n\u001b[0;32m    187\u001b[0m     \u001b[38;5;28;01mif\u001b[39;00m \u001b[38;5;28misinstance\u001b[39m(event, h11\u001b[38;5;241m.\u001b[39mResponse):\n\u001b[0;32m    188\u001b[0m         \u001b[38;5;28;01mbreak\u001b[39;00m\n",
      "File \u001b[1;32mc:\\Users\\jw000\\AppData\\Local\\pypoetry\\Cache\\virtualenvs\\backend-eYHDKvTq-py3.11\\Lib\\site-packages\\httpcore\\_async\\http11.py:224\u001b[0m, in \u001b[0;36mAsyncHTTP11Connection._receive_event\u001b[1;34m(self, timeout)\u001b[0m\n\u001b[0;32m    221\u001b[0m     event \u001b[38;5;241m=\u001b[39m \u001b[38;5;28mself\u001b[39m\u001b[38;5;241m.\u001b[39m_h11_state\u001b[38;5;241m.\u001b[39mnext_event()\n\u001b[0;32m    223\u001b[0m \u001b[38;5;28;01mif\u001b[39;00m event \u001b[38;5;129;01mis\u001b[39;00m h11\u001b[38;5;241m.\u001b[39mNEED_DATA:\n\u001b[1;32m--> 224\u001b[0m     data \u001b[38;5;241m=\u001b[39m \u001b[38;5;28;01mawait\u001b[39;00m \u001b[38;5;28mself\u001b[39m\u001b[38;5;241m.\u001b[39m_network_stream\u001b[38;5;241m.\u001b[39mread(\n\u001b[0;32m    225\u001b[0m         \u001b[38;5;28mself\u001b[39m\u001b[38;5;241m.\u001b[39mREAD_NUM_BYTES, timeout\u001b[38;5;241m=\u001b[39mtimeout\n\u001b[0;32m    226\u001b[0m     )\n\u001b[0;32m    228\u001b[0m     \u001b[38;5;66;03m# If we feed this case through h11 we'll raise an exception like:\u001b[39;00m\n\u001b[0;32m    229\u001b[0m     \u001b[38;5;66;03m#\u001b[39;00m\n\u001b[0;32m    230\u001b[0m     \u001b[38;5;66;03m#     httpcore.RemoteProtocolError: can't handle event type\u001b[39;00m\n\u001b[1;32m   (...)\u001b[0m\n\u001b[0;32m    234\u001b[0m     \u001b[38;5;66;03m# perspective. Instead we handle this case distinctly and treat\u001b[39;00m\n\u001b[0;32m    235\u001b[0m     \u001b[38;5;66;03m# it as a ConnectError.\u001b[39;00m\n\u001b[0;32m    236\u001b[0m     \u001b[38;5;28;01mif\u001b[39;00m data \u001b[38;5;241m==\u001b[39m \u001b[38;5;124mb\u001b[39m\u001b[38;5;124m\"\u001b[39m\u001b[38;5;124m\"\u001b[39m \u001b[38;5;129;01mand\u001b[39;00m \u001b[38;5;28mself\u001b[39m\u001b[38;5;241m.\u001b[39m_h11_state\u001b[38;5;241m.\u001b[39mtheir_state \u001b[38;5;241m==\u001b[39m h11\u001b[38;5;241m.\u001b[39mSEND_RESPONSE:\n",
      "File \u001b[1;32mc:\\Users\\jw000\\AppData\\Local\\pypoetry\\Cache\\virtualenvs\\backend-eYHDKvTq-py3.11\\Lib\\site-packages\\httpcore\\_backends\\anyio.py:35\u001b[0m, in \u001b[0;36mAnyIOStream.read\u001b[1;34m(self, max_bytes, timeout)\u001b[0m\n\u001b[0;32m     33\u001b[0m \u001b[38;5;28;01mwith\u001b[39;00m anyio\u001b[38;5;241m.\u001b[39mfail_after(timeout):\n\u001b[0;32m     34\u001b[0m     \u001b[38;5;28;01mtry\u001b[39;00m:\n\u001b[1;32m---> 35\u001b[0m         \u001b[38;5;28;01mreturn\u001b[39;00m \u001b[38;5;28;01mawait\u001b[39;00m \u001b[38;5;28mself\u001b[39m\u001b[38;5;241m.\u001b[39m_stream\u001b[38;5;241m.\u001b[39mreceive(max_bytes\u001b[38;5;241m=\u001b[39mmax_bytes)\n\u001b[0;32m     36\u001b[0m     \u001b[38;5;28;01mexcept\u001b[39;00m anyio\u001b[38;5;241m.\u001b[39mEndOfStream:  \u001b[38;5;66;03m# pragma: nocover\u001b[39;00m\n\u001b[0;32m     37\u001b[0m         \u001b[38;5;28;01mreturn\u001b[39;00m \u001b[38;5;124mb\u001b[39m\u001b[38;5;124m\"\u001b[39m\u001b[38;5;124m\"\u001b[39m\n",
      "File \u001b[1;32mc:\\Users\\jw000\\AppData\\Local\\pypoetry\\Cache\\virtualenvs\\backend-eYHDKvTq-py3.11\\Lib\\site-packages\\anyio\\streams\\tls.py:205\u001b[0m, in \u001b[0;36mTLSStream.receive\u001b[1;34m(self, max_bytes)\u001b[0m\n\u001b[0;32m    204\u001b[0m \u001b[38;5;28;01masync\u001b[39;00m \u001b[38;5;28;01mdef\u001b[39;00m \u001b[38;5;21mreceive\u001b[39m(\u001b[38;5;28mself\u001b[39m, max_bytes: \u001b[38;5;28mint\u001b[39m \u001b[38;5;241m=\u001b[39m \u001b[38;5;241m65536\u001b[39m) \u001b[38;5;241m-\u001b[39m\u001b[38;5;241m>\u001b[39m \u001b[38;5;28mbytes\u001b[39m:\n\u001b[1;32m--> 205\u001b[0m     data \u001b[38;5;241m=\u001b[39m \u001b[38;5;28;01mawait\u001b[39;00m \u001b[38;5;28mself\u001b[39m\u001b[38;5;241m.\u001b[39m_call_sslobject_method(\u001b[38;5;28mself\u001b[39m\u001b[38;5;241m.\u001b[39m_ssl_object\u001b[38;5;241m.\u001b[39mread, max_bytes)\n\u001b[0;32m    206\u001b[0m     \u001b[38;5;28;01mif\u001b[39;00m \u001b[38;5;129;01mnot\u001b[39;00m data:\n\u001b[0;32m    207\u001b[0m         \u001b[38;5;28;01mraise\u001b[39;00m EndOfStream\n",
      "File \u001b[1;32mc:\\Users\\jw000\\AppData\\Local\\pypoetry\\Cache\\virtualenvs\\backend-eYHDKvTq-py3.11\\Lib\\site-packages\\anyio\\streams\\tls.py:147\u001b[0m, in \u001b[0;36mTLSStream._call_sslobject_method\u001b[1;34m(self, func, *args)\u001b[0m\n\u001b[0;32m    144\u001b[0m     \u001b[38;5;28;01mif\u001b[39;00m \u001b[38;5;28mself\u001b[39m\u001b[38;5;241m.\u001b[39m_write_bio\u001b[38;5;241m.\u001b[39mpending:\n\u001b[0;32m    145\u001b[0m         \u001b[38;5;28;01mawait\u001b[39;00m \u001b[38;5;28mself\u001b[39m\u001b[38;5;241m.\u001b[39mtransport_stream\u001b[38;5;241m.\u001b[39msend(\u001b[38;5;28mself\u001b[39m\u001b[38;5;241m.\u001b[39m_write_bio\u001b[38;5;241m.\u001b[39mread())\n\u001b[1;32m--> 147\u001b[0m     data \u001b[38;5;241m=\u001b[39m \u001b[38;5;28;01mawait\u001b[39;00m \u001b[38;5;28mself\u001b[39m\u001b[38;5;241m.\u001b[39mtransport_stream\u001b[38;5;241m.\u001b[39mreceive()\n\u001b[0;32m    148\u001b[0m \u001b[38;5;28;01mexcept\u001b[39;00m EndOfStream:\n\u001b[0;32m    149\u001b[0m     \u001b[38;5;28mself\u001b[39m\u001b[38;5;241m.\u001b[39m_read_bio\u001b[38;5;241m.\u001b[39mwrite_eof()\n",
      "File \u001b[1;32mc:\\Users\\jw000\\AppData\\Local\\pypoetry\\Cache\\virtualenvs\\backend-eYHDKvTq-py3.11\\Lib\\site-packages\\anyio\\_backends\\_asyncio.py:1133\u001b[0m, in \u001b[0;36mSocketStream.receive\u001b[1;34m(self, max_bytes)\u001b[0m\n\u001b[0;32m   1128\u001b[0m \u001b[38;5;28;01mif\u001b[39;00m (\n\u001b[0;32m   1129\u001b[0m     \u001b[38;5;129;01mnot\u001b[39;00m \u001b[38;5;28mself\u001b[39m\u001b[38;5;241m.\u001b[39m_protocol\u001b[38;5;241m.\u001b[39mread_event\u001b[38;5;241m.\u001b[39mis_set()\n\u001b[0;32m   1130\u001b[0m     \u001b[38;5;129;01mand\u001b[39;00m \u001b[38;5;129;01mnot\u001b[39;00m \u001b[38;5;28mself\u001b[39m\u001b[38;5;241m.\u001b[39m_transport\u001b[38;5;241m.\u001b[39mis_closing()\n\u001b[0;32m   1131\u001b[0m ):\n\u001b[0;32m   1132\u001b[0m     \u001b[38;5;28mself\u001b[39m\u001b[38;5;241m.\u001b[39m_transport\u001b[38;5;241m.\u001b[39mresume_reading()\n\u001b[1;32m-> 1133\u001b[0m     \u001b[38;5;28;01mawait\u001b[39;00m \u001b[38;5;28mself\u001b[39m\u001b[38;5;241m.\u001b[39m_protocol\u001b[38;5;241m.\u001b[39mread_event\u001b[38;5;241m.\u001b[39mwait()\n\u001b[0;32m   1134\u001b[0m     \u001b[38;5;28mself\u001b[39m\u001b[38;5;241m.\u001b[39m_transport\u001b[38;5;241m.\u001b[39mpause_reading()\n\u001b[0;32m   1136\u001b[0m \u001b[38;5;28;01mtry\u001b[39;00m:\n",
      "File \u001b[1;32m~\\anaconda3\\Lib\\asyncio\\locks.py:213\u001b[0m, in \u001b[0;36mEvent.wait\u001b[1;34m(self)\u001b[0m\n\u001b[0;32m    211\u001b[0m \u001b[38;5;28mself\u001b[39m\u001b[38;5;241m.\u001b[39m_waiters\u001b[38;5;241m.\u001b[39mappend(fut)\n\u001b[0;32m    212\u001b[0m \u001b[38;5;28;01mtry\u001b[39;00m:\n\u001b[1;32m--> 213\u001b[0m     \u001b[38;5;28;01mawait\u001b[39;00m fut\n\u001b[0;32m    214\u001b[0m     \u001b[38;5;28;01mreturn\u001b[39;00m \u001b[38;5;28;01mTrue\u001b[39;00m\n\u001b[0;32m    215\u001b[0m \u001b[38;5;28;01mfinally\u001b[39;00m:\n",
      "\u001b[1;31mCancelledError\u001b[0m: "
     ]
    }
   ],
   "source": [
    "SYSTEM = f\"\"\"\n",
    "\"There exists a database of cars and the user wants to buy a car. \n",
    "The user can ask for a car within a specific price range and you must respond with a json object conforming to the following JSON schema: {filter_schema}.\"\n",
    "\"\"\".strip()\n",
    "\n",
    "gpt = ChatGPT(SimpleHistory.system(SYSTEM), model=\"gpt-4-turbo\") \n",
    "\n",
    "extracted = await gpt(\"hi i want a cheap car\", response_format={ \"type\": \"json_object\"})"
   ]
  },
  {
   "cell_type": "code",
   "execution_count": 51,
   "metadata": {},
   "outputs": [
    {
     "name": "stdout",
     "output_type": "stream",
     "text": [
      "{\n",
      "  \"must\": [\n",
      "    {\n",
      "      \"key\": \"price\",\n",
      "      \"range\": {\n",
      "        \"lt\": 10000\n",
      "      }\n",
      "    }\n",
      "  ]\n",
      "}\n"
     ]
    }
   ],
   "source": [
    "print(extracted)"
   ]
  },
  {
   "cell_type": "code",
   "execution_count": 65,
   "metadata": {},
   "outputs": [],
   "source": [
    "extracted = await gpt(\"hi i want a car under 500k\", response_format={ \"type\": \"json_object\" })"
   ]
  },
  {
   "cell_type": "code",
   "execution_count": 66,
   "metadata": {},
   "outputs": [
    {
     "name": "stdout",
     "output_type": "stream",
     "text": [
      "{\n",
      "  \"must\": [\n",
      "    {\n",
      "      \"key\": \"price\",\n",
      "      \"range\": {\n",
      "        \"lt\": 500000\n",
      "      }\n",
      "    }\n",
      "  ]\n",
      "}\n"
     ]
    }
   ],
   "source": [
    "print(extracted)"
   ]
  },
  {
   "cell_type": "code",
   "execution_count": 64,
   "metadata": {},
   "outputs": [
    {
     "name": "stdout",
     "output_type": "stream",
     "text": [
      "None\n"
     ]
    }
   ],
   "source": [
    "print(validate(json.loads(extracted), filter_schema))"
   ]
  },
  {
   "cell_type": "code",
   "execution_count": null,
   "metadata": {},
   "outputs": [],
   "source": [
    "\n",
    "from agentools import *\n",
    "\n",
    "gpt = ChatGPT(model=\"gpt-4-turbo\", tools=extract_conditions)\n",
    "\n"
   ]
  }
 ],
 "metadata": {
  "kernelspec": {
   "display_name": "backend-eYHDKvTq-py3.11",
   "language": "python",
   "name": "python3"
  },
  "language_info": {
   "codemirror_mode": {
    "name": "ipython",
    "version": 3
   },
   "file_extension": ".py",
   "mimetype": "text/x-python",
   "name": "python",
   "nbconvert_exporter": "python",
   "pygments_lexer": "ipython3",
   "version": "3.11.5"
  }
 },
 "nbformat": 4,
 "nbformat_minor": 2
}
