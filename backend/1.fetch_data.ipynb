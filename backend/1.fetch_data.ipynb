{
 "cells": [
  {
   "cell_type": "code",
   "execution_count": 1,
   "metadata": {},
   "outputs": [],
   "source": [
    "import json\n",
    "\n",
    "def put_to_file(li):\n",
    "    file_name = \"test.json\"\n",
    "\n",
    "    # Step 1: Read the existing data\n",
    "    with open(file_name, 'r') as file:\n",
    "        data = json.load(file)\n",
    "\n",
    "    # Step 2: Append the list to the existing data (assuming the existing data is a list)\n",
    "    data.extend(li)\n",
    "\n",
    "    # Step 3: Write the updated data back to the file\n",
    "    with open(file_name, 'w') as file:\n",
    "        json.dump(data, file, indent=4)"
   ]
  },
  {
   "cell_type": "code",
   "execution_count": 2,
   "metadata": {},
   "outputs": [],
   "source": [
    "import requests\n",
    "\n",
    "api_key = \"2ae7fee8-3ce5-429b-82f2-db3d5b0b779f\" \n",
    "\n",
    "\n",
    "def get(url, filter = None):\n",
    "  \n",
    "  for index in range(0, 10):\n",
    "    payload={}\n",
    "    headers = {}\n",
    "    response = requests.request(\"GET\", url.format(api_key=api_key, start=index*50), headers=headers, data=payload)\n",
    "    response = response.json()[\"listings\"]\n",
    "    \n",
    "    if filter is not None:\n",
    "      response = filter(response)\n",
    "      \n",
    "    return response"
   ]
  },
  {
   "cell_type": "code",
   "execution_count": null,
   "metadata": {},
   "outputs": [],
   "source": [
    "# ELECTRIC\n",
    "url = \"https://mc-api.marketcheck.com/v2/search/car/active?api_key={api_key}&make=Mercedes-Benz&fuel_type=electric&rows=50&car_type=new&start={start}\" #11861\n",
    "put_to_file(get(url))\n",
    "\n",
    "url = \"https://mc-api.marketcheck.com/v2/search/car/active?api_key={api_key}&make=Mercedes-Benz&fuel_type=electric&rows=50&car_type=used&start={start}\" #2237\n",
    "put_to_file(get(url))\n",
    "\n",
    "url = \"https://mc-api.marketcheck.com/v2/search/car/active?api_key={api_key}&make=Mercedes-Benz&fuel_type=electric&rows=50&car_type=certified&start={start}\" #1001\n",
    "put_to_file(get(url))\n",
    "\n",
    "\n",
    "# Non Electric\n",
    "filter_fn = lambda x: [x for x in x if 'build' in x and 'fuel_type' in x['build'] and x[\"build\"][\"fuel_type\"] != \"Electric\"]\n",
    "\n",
    "url = \"https://mc-api.marketcheck.com/v2/search/car/active?api_key={api_key}&make=Mercedes-Benz&rows=50&car_type=used&start={start}\" #2237\n",
    "put_to_file(get(url, filter_fn))\n",
    "\n",
    "url = \"https://mc-api.marketcheck.com/v2/search/car/active?api_key={api_key}&make=Mercedes-Benz&rows=50&car_type=used&start={start}\" #2237\n",
    "put_to_file(get(url, filter_fn))\n",
    "\n",
    "url = \"https://mc-api.marketcheck.com/v2/search/car/active?api_key={api_key}&make=Mercedes-Benz&rows=50&car_type=certified&start={start}\" #1001\n",
    "put_to_file(get(url, filter_fn))"
   ]
  }
 ],
 "metadata": {
  "kernelspec": {
   "display_name": "Python 3",
   "language": "python",
   "name": "python3"
  },
  "language_info": {
   "codemirror_mode": {
    "name": "ipython",
    "version": 3
   },
   "file_extension": ".py",
   "mimetype": "text/x-python",
   "name": "python",
   "nbconvert_exporter": "python",
   "pygments_lexer": "ipython3",
   "version": "3.11.5"
  }
 },
 "nbformat": 4,
 "nbformat_minor": 2
}
